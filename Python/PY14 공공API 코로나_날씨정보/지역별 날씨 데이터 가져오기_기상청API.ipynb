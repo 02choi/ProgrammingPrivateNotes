{
 "cells": [
  {
   "cell_type": "markdown",
   "id": "3773e0c8",
   "metadata": {},
   "source": [
    "### 조회를 위한 시작/종료일 입력 및 확인"
   ]
  },
  {
   "cell_type": "code",
   "execution_count": 10,
   "id": "4edb841b",
   "metadata": {},
   "outputs": [],
   "source": [
    "import pandas as pd\n",
    "import os\n",
    "from datetime import datetime, timedelta\n",
    "import urllib.request\n",
    "import json"
   ]
  },
  {
   "cell_type": "code",
   "execution_count": 27,
   "id": "49a11784",
   "metadata": {},
   "outputs": [],
   "source": [
    "def main():\n",
    "    ### 시작일 입력\n",
    "    while True:\n",
    "        sDate=input('시작일을 입력하세요.(예:20210401)')  #'20210301' \n",
    "        if len(sDate)!=8:\n",
    "            print('\"20210401\"과 같이 8자리로 입력해주세요')\n",
    "            continue\n",
    "        try:\n",
    "            sd=int(sDate)\n",
    "            break\n",
    "        except:\n",
    "            print('문자가 포함되어 있습니다. 다시 입력해주세요.')\n",
    "            continue\n",
    "            \n",
    "    ### 종료일 입력  \n",
    "    while True:\n",
    "        eDate=input('종료일을 입력하세요.(예:20210401)') # '20210331'\n",
    "        if len(eDate)!=8:\n",
    "            print('\"20210401\"과 같이 8자리로 입력해주세요')\n",
    "            continue          \n",
    "        try:\n",
    "            sd=int(eDate)\n",
    "            today=datetime.today()\n",
    "            newDate = today.strftime('%Y%m%d')\n",
    "            if sd >= int(newDate):\n",
    "                print('데이터는 당일 이전 자료까지만 제공됩니다..\\n다시 입력해주세요')\n",
    "                continue\n",
    "                \n",
    "            if int(sDate)> sd:\n",
    "                print('종료일이 시작일보다 이전 날짜입니다.\\n다시 입력해주세요')\n",
    "                continue\n",
    "            break\n",
    "        except:\n",
    "            print('문자가 포함되어 있습니다. 다시 입력해주세요.')\n",
    "            continue\n",
    "            \n",
    "    regionName=input('검색할 지점명을 입력하세요.')\n",
    "    \n",
    "    if regionName == \"\":\n",
    "        return startWeatherData(sDate, eDate)\n",
    "    else:\n",
    "        return startWeatherData(sDate, eDate, regionName)\n"
   ]
  },
  {
   "cell_type": "markdown",
   "id": "18e40994",
   "metadata": {},
   "source": [
    "### 요청 지역 날씨 데이터 가져오기"
   ]
  },
  {
   "cell_type": "code",
   "execution_count": 12,
   "id": "32572975",
   "metadata": {},
   "outputs": [],
   "source": [
    "def startWeatherData(sDate, eDate, regionName='서울'):   # 데이터 처리\n",
    "    \n",
    "    pointID=getRegionalCode(regionName)        # 지점코드 \n",
    "    \n",
    "    url=getRegionalUrl(sDate, eDate, pointID)  # 기본 url 생성\n",
    "    #print(url)\n",
    "    response = urllib.request.urlopen(url)     # url을 이용한 정보 요청\n",
    "    rescode = response.getcode()               # 요청값 가져오기\n",
    "    if rescode!=200:                          # 요청값 정상 여부 확인\n",
    "        raise Exception(\"Error Code:\" + rescode)\n",
    "        \n",
    "    numRows = int(json.loads(response.read())['response']['body']['totalCount']) # 전체 조회 데이터 개수 추출\n",
    "    urlNew=getRegionalUrl(sDate, eDate, pointID, numRows)  # 전체 조회데이터 개수를 이용한 새로운 url 생성\n",
    "    #print(urlNew)\n",
    "    items=getJson(urlNew)      # 전체 데이터 url을 이용한 데이터 추출\n",
    "    # print(items)\n",
    "    return_df=getWeatherData(items)   # 가져온 데이터를 이용한 원하는 값 DataFrame 형식으로 출력\n",
    "    \n",
    "    saveWeatherData(sDate, eDate, regionName, return_df) # 데이터 저장\n",
    "    print('저장되었습니다.')\n",
    "    \n",
    "    return return_df"
   ]
  },
  {
   "cell_type": "markdown",
   "id": "1c3ae7be",
   "metadata": {},
   "source": [
    "### 데이터 저장"
   ]
  },
  {
   "cell_type": "code",
   "execution_count": 13,
   "id": "1366f07b",
   "metadata": {},
   "outputs": [],
   "source": [
    "def saveWeatherData(sDate, eDate, regionName, return_df):  \n",
    "    filename = \"\"\n",
    "    if sDate == eDate:\n",
    "        filename = f\"{regionName}_일별기상정보_{sDate}.csv\"   # 시작일과 종료일이 같은 경우\n",
    "    else:\n",
    "        filename = f\"{regionName}_일별기상정보_{sDate}_{eDate}.csv\"  # 시작일과 종료일이 다른 경우\n",
    "        \n",
    "    return_df.to_csv('c:/pydata/' + filename, encoding='cp949', index=False)"
   ]
  },
  {
   "cell_type": "markdown",
   "id": "9f99b1aa",
   "metadata": {},
   "source": [
    "### 연결 데이터에서 원하는 데이터 가져오기"
   ]
  },
  {
   "cell_type": "code",
   "execution_count": 21,
   "id": "20920ecc",
   "metadata": {},
   "outputs": [],
   "source": [
    "def getWeatherData(items):\n",
    "    tmpList = []\n",
    "    for item in items:\n",
    "        if item['sumRn']==\"\":\n",
    "            sumRn=0\n",
    "        else:\n",
    "            sumRn=item['sumRn']\n",
    "        tmpList.append([item['stnNm'], item['tm'], item['avgTa'], item['minTa'], item['maxTa'], sumRn])\n",
    "    return pd.DataFrame(tmpList, columns=['지점명', '날짜', '평균기온', '최저기온', '최고기온', '일강수량'])"
   ]
  },
  {
   "cell_type": "markdown",
   "id": "3c273bdc",
   "metadata": {},
   "source": [
    "### Json 파일 읽어오기"
   ]
  },
  {
   "cell_type": "code",
   "execution_count": 22,
   "id": "549e1952",
   "metadata": {},
   "outputs": [],
   "source": [
    "def getJson(urlNew):\n",
    "    response = urllib.request.urlopen(urlNew)\n",
    "    rescode = response.getcode()\n",
    "    if(rescode==200):\n",
    "        return json.loads(response.read())['response']['body']['items']['item']\n",
    "    else:\n",
    "        raise Exception(\"Error Code:\" + rescode)"
   ]
  },
  {
   "cell_type": "markdown",
   "id": "45af9e81",
   "metadata": {},
   "source": [
    "### url 생성하기"
   ]
  },
  {
   "cell_type": "code",
   "execution_count": 23,
   "id": "deb58ce6",
   "metadata": {},
   "outputs": [],
   "source": [
    "def getRegionalUrl(sDate, eDate, pointID, numRow=10):  # url 생성\n",
    "    Key='VFYXI%2F3A5kIk7QVsO1epAlZSb6ZtCO9N5VC%2FMF3pW6oZ7%2BsFrvH1Y9y0UfmVzTnA0k2FasoNM6t6JsY7%2BEwNEw%3D%3D'\n",
    "    url='http://apis.data.go.kr/1360000/AsosDalyInfoService/getWthrDataList?serviceKey='+Key\n",
    "    url=url+'&dataType=JSON&numOfRows='+str(numRow)+'&pageNo=1&dataCd=ASOS&dateCd=DAY&startDt='+sDate\n",
    "    url=url+'&endDt='+eDate+'&stnIds='+str(pointID)\n",
    "    return url"
   ]
  },
  {
   "cell_type": "markdown",
   "id": "f396d9d9",
   "metadata": {},
   "source": [
    "### 지점 코드 가져오기"
   ]
  },
  {
   "cell_type": "code",
   "execution_count": 24,
   "id": "d85e7a0a",
   "metadata": {},
   "outputs": [],
   "source": [
    "def getRegionalCode(inputRegName):  # 검측 지점코드 취득\n",
    "    \n",
    "    df_RegCode = pd.read_csv('c:/pydata/지역코드.csv', encoding='cp949')\n",
    "    regCode=df_RegCode[df_RegCode['지점명']==inputRegName]\n",
    "    \n",
    "    if len(regCode)== 1:\n",
    "        return int(regCode['지점'].values)\n",
    "    else:\n",
    "        # 사용자에 의해서 강제로 에러 발생\n",
    "        raise Exception(f\"해당 지역명이 없습니다.\\n지역명을 확인하고 다시 입력해주세요\\n\\n{inputRegName}\")"
   ]
  },
  {
   "cell_type": "markdown",
   "id": "50520b74",
   "metadata": {},
   "source": [
    "### 코드 실행부분"
   ]
  },
  {
   "cell_type": "code",
   "execution_count": 25,
   "id": "db36f10e",
   "metadata": {},
   "outputs": [
    {
     "name": "stdout",
     "output_type": "stream",
     "text": [
      "시작일을 입력하세요.(예:20210401)20210101\n",
      "종료일을 입력하세요.(예:20210401)20210714\n",
      "검색할 지점명을 입력하세요.부산\n",
      "http://apis.data.go.kr/1360000/AsosDalyInfoService/getWthrDataList?serviceKey=VFYXI%2F3A5kIk7QVsO1epAlZSb6ZtCO9N5VC%2FMF3pW6oZ7%2BsFrvH1Y9y0UfmVzTnA0k2FasoNM6t6JsY7%2BEwNEw%3D%3D&dataType=JSON&numOfRows=195&pageNo=1&dataCd=ASOS&dateCd=DAY&startDt=20210101&endDt=20210714&stnIds=159\n",
      "저장되었습니다.\n"
     ]
    }
   ],
   "source": [
    "if __name__ == '__main__':\n",
    "    df1=main()"
   ]
  }
 ],
 "metadata": {
  "kernelspec": {
   "display_name": "Python 3",
   "language": "python",
   "name": "python3"
  },
  "language_info": {
   "codemirror_mode": {
    "name": "ipython",
    "version": 3
   },
   "file_extension": ".py",
   "mimetype": "text/x-python",
   "name": "python",
   "nbconvert_exporter": "python",
   "pygments_lexer": "ipython3",
   "version": "3.9.5"
  }
 },
 "nbformat": 4,
 "nbformat_minor": 5
}
