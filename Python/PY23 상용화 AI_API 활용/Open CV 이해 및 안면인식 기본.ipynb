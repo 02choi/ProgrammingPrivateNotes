{
 "cells": [
  {
   "cell_type": "markdown",
   "id": "2db0a4e3",
   "metadata": {},
   "source": [
    "### Open CV\n",
    "- OpenCV (Open Source Computer Vision)은 오픈 소스 컴퓨터 비전 라이브러리\n",
    "- OpenCV는 단일 이미지나 동영상의 이미지를 원하는 결과를 분석 및 추출하기 위한 API\n",
    "- 객체ㆍ얼굴ㆍ행동 인식, 독순, 모션 추적 등의 응용 프로그램에서 사용\n",
    "- 사이트: https://docs.opencv.org/4.2.0/d1/dfb/intro.html"
   ]
  },
  {
   "cell_type": "code",
   "execution_count": 2,
   "id": "56f7f42d",
   "metadata": {},
   "outputs": [],
   "source": [
    "#!pip install opencv-python"
   ]
  },
  {
   "cell_type": "code",
   "execution_count": 4,
   "id": "819b9787",
   "metadata": {},
   "outputs": [
    {
     "data": {
      "text/plain": [
       "'4.5.3'"
      ]
     },
     "execution_count": 4,
     "metadata": {},
     "output_type": "execute_result"
    }
   ],
   "source": [
    "## 설치 여부 및 버젼 확인\n",
    "import cv2    \n",
    "cv2.__version__"
   ]
  },
  {
   "cell_type": "markdown",
   "id": "1a412f30",
   "metadata": {},
   "source": [
    "#### Open CV를 이용한 웹캠 연결 및 화면 출력"
   ]
  },
  {
   "cell_type": "code",
   "execution_count": 12,
   "id": "2b44fed1",
   "metadata": {},
   "outputs": [],
   "source": [
    "cap_img=cv2.VideoCapture(0)                   # 사용중인 PC에 연결된 0번째 웹캠 또는 카메라 영상 연결\n",
    "cap_img.set(cv2.CAP_PROP_FRAME_WIDTH, 640)    # capture.set(option, n), 카메라의 속성을 설정\n",
    "cap_img.set(cv2.CAP_PROP_FRAME_HEIGHT, 480)   # option: 프레임의 너비와 높이등의 속성을 설정\n",
    "\n",
    "# 영상 출력을 위한 캡처 화면 반복\n",
    "while True:\n",
    "    ret, frame = cap_img.read()      # 카메라의 상태 및 프레임, ret은 카메라 상태 저장(정상 작동 True, 미작동 False)\n",
    "    cv2.imshow('VideoFrame', frame) # cv2.imshow(\"윈도우 창 제목\", 이미지)\n",
    "    if cv2.waitKey(1) > 0 : break   # 키보드의 아무키나 누르면 종료\n",
    "\n",
    "cap_img.release()                     # 카메라 장치에서 받아온 메모리 해제\n",
    "cv2.destroyAllWindows()             # cv2.destroyWindow(\"윈도우 창 제목\"): 특정 윈도우 창만 닫을 수 있음"
   ]
  },
  {
   "cell_type": "markdown",
   "id": "68d4acb9",
   "metadata": {},
   "source": [
    "#### 카메라 영상을 파일로 저장\n",
    "- XVID 코덱 사용()\n",
    "- 파일의 확장자 mp4, avi 등 코덱이 지원하는 형식 사용\n",
    "- 파일명(\"./data/out_video_1.mp4\"), 플레임률(20.0), 영상크기(640*480)"
   ]
  },
  {
   "cell_type": "code",
   "execution_count": 13,
   "id": "e24d60e1",
   "metadata": {},
   "outputs": [],
   "source": [
    "import numpy as np\n",
    "\n",
    "cap=cv2.VideoCapture(0)                   \n",
    "fourcc = cv2.VideoWriter_fourcc(*'XVID')   # XVID 코덱 사용\n",
    "out_cap=cv2.VideoWriter(\"./data/out_video_1.mp4\", fourcc, 20.0, (640, 480)) # 파일명, 플레임률(20.0), 영상크기(640*480) 지정\n",
    "\n",
    "while cap.isOpened():\n",
    "    ret, frame = cap.read()\n",
    "    if ret == True:\n",
    "        frame = cv2.flip(frame, 1) # 1은 좌우 반전, 0은 상하 반전입니다.\n",
    "        \n",
    "        out_cap.write(frame)\n",
    "        cv2.imshow(\"Save_Frame\", frame)\n",
    "        if cv2.waitKey(1) > 0 : break\n",
    "    else:\n",
    "        break\n",
    "        \n",
    "cap.release()             # 캠 종료\n",
    "out_cap.release()         # 저장 종료\n",
    "cv2.destroyAllWindows()   # 창 종류"
   ]
  },
  {
   "cell_type": "markdown",
   "id": "c906fe36",
   "metadata": {},
   "source": [
    "#### 저장된 동영상 파일 화면에서 표시"
   ]
  },
  {
   "cell_type": "code",
   "execution_count": 11,
   "id": "b64c58f7",
   "metadata": {},
   "outputs": [],
   "source": [
    "import cv2\n",
    "import numpy as np\n",
    "\n",
    "cap = cv2.VideoCapture(\"./data/backkpink.mp4\")    #  동영상 파일 연결후\n",
    "cap.set(cv2.CAP_PROP_FRAME_WIDTH, 1024)\n",
    "cap.set(cv2.CAP_PROP_FRAME_HEIGHT, 768)\n",
    "\n",
    "while True:\n",
    "    # 현재 프레임의 위치가 전체 프래임과 같으면 다시 영상 프레임 받아오기\n",
    "    if(cap.get(cv2.CAP_PROP_POS_FRAMES) == cap.get(cv2.CAP_PROP_FRAME_COUNT)): \n",
    "        cap.open(\"./data/backkpink.mp4\")\n",
    "\n",
    "    ret, frame = cap.read()\n",
    "    cv2.imshow('Bee_video', frame)\n",
    "    \n",
    "    if cv2.waitKey(24) > 0 : break  # 3아무키나 누르면 break하여 while문을 종료\n",
    "       ## cv2.waitKey(24)에서 24은 24ms마다 프래임 재생(재생 속도)\n",
    "        \n",
    "cap.release()            \n",
    "cv2.destroyAllWindows()"
   ]
  },
  {
   "cell_type": "markdown",
   "id": "13c24ef1",
   "metadata": {},
   "source": [
    "#### Open CV를 이용한 동영상 캡처 및 녹화\n",
    "- 키 코드값 참조: https://tinyurl.com/ye7nb8el"
   ]
  },
  {
   "cell_type": "code",
   "execution_count": 6,
   "id": "73b567e1",
   "metadata": {},
   "outputs": [
    {
     "name": "stdout",
     "output_type": "stream",
     "text": [
      "녹화 시작\n",
      "녹화 중지\n"
     ]
    }
   ],
   "source": [
    "import datetime\n",
    "import cv2\n",
    "\n",
    "cap = cv2.VideoCapture(\"./data/backkpink.mp4\")\n",
    "fourcc = cv2.VideoWriter_fourcc(*'XVID')  # 코덱, 디지털 미디어 포맷 코드\n",
    "record = False    # 녹화 유/무 설정\n",
    "\n",
    "while True:\n",
    "    if(cap.get(cv2.CAP_PROP_POS_FRAMES) == cap.get(cv2.CAP_PROP_FRAME_COUNT)): \n",
    "        cap.open(\"./data/backkpink.mp4\")\n",
    "        \n",
    "    ret, frame = cap.read()\n",
    "    cv2.imshow('Backkpink', frame)\n",
    "    \n",
    "    now = datetime.datetime.now().strftime(\"%d_%H-%M-%S\")   # 현재 시간을 받아와 제목으로 사용\n",
    "    key = cv2.waitKey(24)    # 24ms마다 갱신, 숫자가 낮으면 빠르게, 높으면 느리게 재생\n",
    "    \n",
    "    if key == 27:    # ESC\n",
    "        break\n",
    "    elif key==26:    # Ctrl + Z\n",
    "        cv2.imwrite(\"./data/backkpink_\"+str(now)+\".png\", frame)\n",
    "        print(\"캡쳐완료\")\n",
    "    elif key==18:    # Ctrl + R\n",
    "        print(\"녹화 시작\")\n",
    "        record=True      # 녹화 중으로 변경\n",
    "        video=cv2.VideoWriter(\"./data/backkpink_\"+str(now)+\".avi\", fourcc, 33, (frame.shape[1], frame.shape[0]))\n",
    "        # cv2.VideoWriter(\"경로 및 제목\", 비디오 포맷 코드, FPS, (녹화 파일 너비, 녹화 파일 높이))\n",
    "    elif key==24:    # Ctrl + X\n",
    "        print(\"녹화 중지\")\n",
    "        record=False     # 녹화중지 중으로 변경\n",
    "        video.release()\n",
    "    \n",
    "    if record == True:\n",
    "        #print(\"녹화 중..\")\n",
    "        video.write(frame)\n",
    "    \n",
    "cap.release()            \n",
    "cv2.destroyAllWindows()"
   ]
  },
  {
   "cell_type": "markdown",
   "id": "a13d6aef",
   "metadata": {},
   "source": [
    "#### 웹캠에서 사람 얼굴 인지하기\n",
    "- 링크 : https://github.com/opencv/opencv/tree/master/data/haarcascades"
   ]
  },
  {
   "cell_type": "code",
   "execution_count": 1,
   "id": "004fe339",
   "metadata": {},
   "outputs": [],
   "source": [
    "import numpy as np\n",
    "import cv2\n",
    "\n",
    "face_case = cv2.CascadeClassifier('./data/haarcascade_frontalface_default.xml')\n",
    "\n",
    "cap=cv2.VideoCapture(0)  # 사용중인 PC에 연결된 0번째 웹캠 또는 카메라 영상 연결\n",
    "cap.set(3, 640)    # 너비\n",
    "cap.set(4, 480)    # 높이\n",
    "\n",
    "while True:\n",
    "    ret, frame = cap.read()\n",
    "    frame = cv2.flip(frame, 1) # 좌우 대칭\n",
    "    faces = face_case.detectMultiScale(frame,            # 대상 이미지\n",
    "                                       scaleFactor=1.05, # 이미지에서 얼굴 크기가 서로 다른 것을 보상해주는 값\n",
    "                                       minNeighbors=5)   # 얼굴 사이의 최소 간격(픽셀)입니다               \n",
    "    \n",
    "    if len(faces):\n",
    "        for (x,y,w,h) in faces:\n",
    "            cv2.rectangle(frame,(x,y),(x+w,y+h),(255,0,0),2)\n",
    "   \n",
    "    cv2.imshow('faces', frame) \n",
    "    if cv2.waitKey(24) == 27 : break  # ESC 키 입력시 종료\n",
    "\n",
    "cap.release()                     \n",
    "cv2.destroyAllWindows()          "
   ]
  },
  {
   "cell_type": "code",
   "execution_count": null,
   "id": "20f3a23b",
   "metadata": {},
   "outputs": [],
   "source": []
  },
  {
   "cell_type": "code",
   "execution_count": null,
   "id": "42280d6b",
   "metadata": {},
   "outputs": [],
   "source": []
  },
  {
   "cell_type": "code",
   "execution_count": null,
   "id": "97c3b23a",
   "metadata": {},
   "outputs": [],
   "source": []
  },
  {
   "cell_type": "code",
   "execution_count": null,
   "id": "541d050a",
   "metadata": {},
   "outputs": [],
   "source": []
  }
 ],
 "metadata": {
  "kernelspec": {
   "display_name": "Python 3",
   "language": "python",
   "name": "python3"
  },
  "language_info": {
   "codemirror_mode": {
    "name": "ipython",
    "version": 3
   },
   "file_extension": ".py",
   "mimetype": "text/x-python",
   "name": "python",
   "nbconvert_exporter": "python",
   "pygments_lexer": "ipython3",
   "version": "3.8.10"
  }
 },
 "nbformat": 4,
 "nbformat_minor": 5
}
