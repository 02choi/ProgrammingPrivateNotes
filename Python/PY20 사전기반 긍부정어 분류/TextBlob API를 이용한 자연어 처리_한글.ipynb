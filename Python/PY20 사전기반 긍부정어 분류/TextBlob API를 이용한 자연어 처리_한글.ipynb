{
 "cells": [
  {
   "cell_type": "code",
   "execution_count": 32,
   "id": "28a2e461",
   "metadata": {},
   "outputs": [],
   "source": [
    "from textblob import TextBlob as tb\n",
    "from textblob.classifiers import NaiveBayesClassifier"
   ]
  },
  {
   "cell_type": "code",
   "execution_count": 33,
   "id": "84a3e610",
   "metadata": {},
   "outputs": [],
   "source": [
    "train = [('나는 이 샌드위치를 정말 좋아해.', '긍정'),\n",
    "         ('정말 멋진 곳이에요!', '긍정'),\n",
    "         ('나는 이 맥주들이 아주 좋다고 생각해요.', '긍정'),\n",
    "         ('이것은 나의 최고의 작품입니다.', '긍정'),\n",
    "         (\"정말 멋진 광경이다\", \"긍정\"),\n",
    "         ('난 이 식당 싫어', '부정'),\n",
    "         ('난 이게 지겨워.', '부정'),\n",
    "         (\"이 문제는 처리할 수 없습니다.\", \"부정\"),\n",
    "         ('그는 나의 불구대천의 원수이다.', '부정'),\n",
    "         ('내 상사는 끔찍해.', '부정'),\n",
    "         ('나는 내 꿈을 믿는다', '긍정'),\n",
    "         ('나는 매일 최선을 다하고 있다', '긍정'),\n",
    "         ('나는 있는 그대로의 나를 사랑한다', '긍정'),\n",
    "         ('나는 내 삶을 100% 책임진다', '긍정'),\n",
    "         ('가장 좋은 일은 아직 생기지 않았다', '긍정'),\n",
    "         ('나는 매일 나의 삶에 감사한다', '긍정'),\n",
    "         ('새로나온 휴대폰은 배터리 교체가 되지 않아 불편하다', '부정'),\n",
    "         ('이번에 나온 영화 너무 재밌다. 주말에 또 보고 싶다.', '긍정'),\n",
    "         ('나의 아버지는 이해가 안된다', '부정'),\n",
    "         ('나는 어머니와 있을 때 퉁명해진다', '부정'),\n",
    "         ('나는 어머니와 있을 때 불편할 때가 있다.', '부정'),\n",
    "         ('치킨집에 선결제로 주문했는데 돈은 결제가 되었는데 치킨집에선 주문이 안들어왔다고합니다.', '부정'),\n",
    "         ('지금 현재 네이버 실시간 검색어에 떴고, 여전히 고객센터는 전화연결이 되지않습니다. ', '부정'),\n",
    "         ('이럴거면 요기요처럼 아예 접속도 안되게하던가 결제를 막았어야하는데', '부정'),\n",
    "         ('결제해서 가게에 돈 준 것도 아니고 본인들이 가져가놓고 전화도 안받으면 돈은 어떻게 돌려받습니까?', '부정'),\n",
    "         ('너무 유용하고 편리하네요.. ', '긍정'),\n",
    "         ('처음 구입한다고 쿠폰 받고 이용하니깐 저렴하게 먹을 수 있었고 배달시간도 만족스러워서 좋았습니다.', '긍정'),\n",
    "         ('배달의 민족 강추 합니다. ', '긍정'),\n",
    "         ('자주 이용할께요ㅡㅡㅡ강추 강추!!!', '긍정') ]"
   ]
  },
  {
   "cell_type": "code",
   "execution_count": 34,
   "id": "e86f9e77",
   "metadata": {},
   "outputs": [],
   "source": [
    "test = [('맥주가 좋았습니다.', '긍정'),\n",
    "        ('난 내 일을 즐기지 않는다', '부정'),\n",
    "        ('오늘은 기분이 안 좋아요.', '부정'),\n",
    "        ('빠른 배달 좋네요', '긍정'),\n",
    "        ('네드는 나의 친구입니다.', '긍정'),\n",
    "        ('제가 이렇게 하고 있다니 믿을 수가 없어요.', '부정')]"
   ]
  },
  {
   "cell_type": "code",
   "execution_count": 4,
   "id": "bfcdf768",
   "metadata": {},
   "outputs": [
    {
     "data": {
      "text/plain": [
       "<NaiveBayesClassifier trained on 29 instances>"
      ]
     },
     "execution_count": 4,
     "metadata": {},
     "output_type": "execute_result"
    }
   ],
   "source": [
    "pos_neg=NaiveBayesClassifier(train)\n",
    "pos_neg"
   ]
  },
  {
   "cell_type": "code",
   "execution_count": 5,
   "id": "9f37fd7d",
   "metadata": {},
   "outputs": [
    {
     "name": "stdout",
     "output_type": "stream",
     "text": [
      "정확도: 0.5\n"
     ]
    }
   ],
   "source": [
    "test_acc=pos_neg.accuracy(test)\n",
    "print(f'정확도: {test_acc}')"
   ]
  },
  {
   "cell_type": "code",
   "execution_count": 7,
   "id": "dadba0a4",
   "metadata": {},
   "outputs": [
    {
     "name": "stdout",
     "output_type": "stream",
     "text": [
      "긍정\n",
      "긍정\n",
      "긍정\n",
      "긍정\n",
      "긍정\n",
      "긍정\n"
     ]
    }
   ],
   "source": [
    "for txt in test:\n",
    "    print(pos_neg.classify(txt[0]))"
   ]
  },
  {
   "cell_type": "code",
   "execution_count": 39,
   "id": "70170882",
   "metadata": {},
   "outputs": [],
   "source": [
    "# train 데이터의 텍스트를 형태소 분석하여 train_data를 생성\n",
    "from konlpy.tag import Okt\n",
    "okt=Okt()"
   ]
  },
  {
   "cell_type": "code",
   "execution_count": 43,
   "id": "61b6cb91",
   "metadata": {},
   "outputs": [
    {
     "name": "stdout",
     "output_type": "stream",
     "text": [
      "[(['나/Noun', '는/Josa', '이/Noun', '샌드위치/Noun', '를/Josa', '정말/Noun', '좋아해/Adjective', './Punctuation'], '긍정'), (['정말/Noun', '멋진/Adjective', '곳/Noun', '이에요/Josa', '!/Punctuation'], '긍정'), (['나/Noun', '는/Josa', '이/Noun', '맥주/Noun', '들/Suffix', '이/Josa', '아주/Noun', '좋다고/Adjective', '생각/Noun', '해요/Verb', './Punctuation'], '긍정'), (['이/Determiner', '것/Noun', '은/Josa', '나/Noun', '의/Josa', '최고/Noun', '의/Josa', '작품/Noun', '입니다/Adjective', './Punctuation'], '긍정'), (['정말/Noun', '멋진/Adjective', '광경/Noun', '이다/Josa'], '긍정'), (['난/Noun', '이/Noun', '식당/Noun', '싫어/Adjective'], '부정'), (['난/Noun', '이/Noun', '게/Josa', '지겨워/Adjective', './Punctuation'], '부정'), (['이/Noun', '문제/Noun', '는/Josa', '처리/Noun', '할/Verb', '수/Noun', '없습니다/Adjective', './Punctuation'], '부정'), (['그/Noun', '는/Josa', '나/Noun', '의/Josa', '불구/Noun', '대천/Noun', '의/Josa', '원수/Noun', '이다/Josa', './Punctuation'], '부정'), (['내/Noun', '상사/Noun', '는/Josa', '끔찍해/Adjective', './Punctuation'], '부정'), (['나/Noun', '는/Josa', '내/Noun', '꿈/Noun', '을/Josa', '믿는다/Verb'], '긍정'), (['나/Noun', '는/Josa', '매일/Noun', '최선/Noun', '을/Josa', '다/Noun', '하고/Josa', '있다/Adjective'], '긍정'), (['나/Noun', '는/Josa', '있는/Adjective', '그대로/Noun', '의/Josa', '나를/Verb', '사랑/Noun', '한다/Verb'], '긍정'), (['나/Noun', '는/Josa', '내/Noun', '삶/Noun', '을/Josa', '100%/Number', '책임진다/Verb'], '긍정'), (['가장/Noun', '좋은/Adjective', '일/Noun', '은/Josa', '아직/Adverb', '생기지/Noun', '않았다/Verb'], '긍정'), (['나/Noun', '는/Josa', '매일/Noun', '나/Noun', '의/Josa', '삶/Noun', '에/Josa', '감사한다/Verb'], '긍정'), (['새로/Adjective', '나온/Verb', '휴대폰/Noun', '은/Josa', '배터리/Noun', '교체/Noun', '가/Josa', '되지/Verb', '않아/Verb', '불편하다/Adjective'], '부정'), (['이번/Noun', '에/Josa', '나온/Verb', '영화/Noun', '너무/Adverb', '재밌다/Adjective', './Punctuation', '주말/Noun', '에/Josa', '또/Noun', '보고/Noun', '싶다/Verb', './Punctuation'], '긍정'), (['나/Noun', '의/Josa', '아버지/Noun', '는/Josa', '이해/Noun', '가/Josa', '안된다/Adjective'], '부정'), (['나/Noun', '는/Josa', '어머니/Noun', '와/Josa', '있을/Adjective', '때/Noun', '퉁/Noun', '명/Suffix', '해진다/Verb'], '부정'), (['나/Noun', '는/Josa', '어머니/Noun', '와/Josa', '있을/Adjective', '때/Noun', '불편할/Adjective', '때/Noun', '가/Josa', '있다/Adjective', './Punctuation'], '부정'), (['치킨/Noun', '집/Noun', '에/Josa', '선결/Noun', '제로/Noun', '주문/Noun', '했는데/Verb', '돈/Noun', '은/Josa', '결제/Noun', '가/Josa', '되었는데/Verb', '치킨/Noun', '집/Noun', '에선/Josa', '주문/Noun', '이/Josa', '안/VerbPrefix', '들어왔다고/Verb', '합니다/Verb', './Punctuation'], '부정'), (['지금/Noun', '현재/Noun', '네이버/Noun', '실시간/Noun', '검색어/Noun', '에/Josa', '떴고/Verb', ',/Punctuation', '여전히/Adjective', '고객/Noun', '센터/Noun', '는/Josa', '전화/Noun', '연결/Noun', '이/Josa', '되지/Verb', '않습니다/Verb', './Punctuation'], '부정'), (['이럴거면/Adjective', '요/Modifier', '기요/Noun', '처럼/Josa', '아예/Noun', '접속/Noun', '도/Josa', '안되게/Adjective', '하던가/Verb', '결제/Noun', '를/Josa', '막았어야하는데/Verb'], '부정'), (['결제/Noun', '해서/Verb', '가게/Noun', '에/Josa', '돈/Noun', '준/Noun', '것/Noun', '도/Josa', '아니고/Adjective', '본인/Noun', '들/Suffix', '이/Josa', '가져가놓고/Verb', '전화/Noun', '도/Josa', '안/VerbPrefix', '받으면/Verb', '돈/Noun', '은/Josa', '어떻게/Adjective', '돌려/Verb', '받습니까/Verb', '?/Punctuation'], '부정'), (['너무/Adverb', '유용하고/Adjective', '편리하네요/Adjective', '../Punctuation'], '긍정'), (['처음/Noun', '구입/Noun', '한다고/Verb', '쿠폰/Noun', '받고/Verb', '이용/Noun', '하/Suffix', '니깐/Josa', '저렴하게/Adjective', '먹을/Verb', '수/Noun', '있었고/Adjective', '배달/Noun', '시간/Noun', '도/Josa', '만족스러워서/Adjective', '좋았습니다/Adjective', './Punctuation'], '긍정'), (['배달/Noun', '의/Josa', '민족/Noun', '강추/Noun', '합니다/Verb', './Punctuation'], '긍정'), (['자주/Noun', '이용/Noun', '할께요/Verb', 'ㅡㅡㅡ/KoreanParticle', '강추/Noun', '강추/Noun', '!!!/Punctuation'], '긍정')]\n",
      "[(['맥주/Noun', '가/Josa', '좋았습니다/Adjective', './Punctuation'], '긍정'), (['난/Noun', '내/Noun', '일/Noun', '을/Josa', '즐기지/Verb', '않는다/Verb'], '부정'), (['오늘/Noun', '은/Josa', '기분/Noun', '이/Josa', '안/Noun', '좋아요/Adjective', './Punctuation'], '부정'), (['빠른/Adjective', '배달/Noun', '좋네요/Adjective'], '긍정'), (['네/Noun', '드는/Verb', '나/Noun', '의/Josa', '친구/Noun', '입니다/Adjective', './Punctuation'], '긍정'), (['제/Noun', '가/Josa', '이렇게/Adverb', '하고/Verb', '있다니/Adjective', '믿을/Verb', '수가/Noun', '없어요/Adjective', './Punctuation'], '부정')]\n"
     ]
    }
   ],
   "source": [
    "### train를 품사단위로 분류\n",
    "\n",
    "#train_data=[(['/'.join(token) for token in okt.pos(sen)], res) for [sen, res] in train]\n",
    "\n",
    "# train_data =[]\n",
    "# for [sen, res] in train:\n",
    "#     token_list=[]\n",
    "#     for token in okt.pos(sen):\n",
    "#         token_list.append('/'.join(token))\n",
    "#     train_data.append((token_list, res))\n",
    "    \n",
    "print(train_data)\n",
    "\n",
    "# test를 품사 단위로 분류\n",
    "test_data=[(['/'.join(token) for token in okt.pos(sen)], res) for [sen, res] in test]\n",
    "print(test_data)"
   ]
  },
  {
   "cell_type": "code",
   "execution_count": 41,
   "id": "b18848ca",
   "metadata": {},
   "outputs": [
    {
     "name": "stdout",
     "output_type": "stream",
     "text": [
      "정확도: 0.5\n"
     ]
    }
   ],
   "source": [
    "pos_neg=NaiveBayesClassifier(train_data)\n",
    "test_acc=pos_neg.accuracy(test_data)\n",
    "print(f'정확도: {test_acc}')"
   ]
  },
  {
   "cell_type": "code",
   "execution_count": 42,
   "id": "4e806678",
   "metadata": {},
   "outputs": [
    {
     "name": "stdout",
     "output_type": "stream",
     "text": [
      "Most Informative Features\n",
      "        contains(이/Josa) = True               부정 : 긍정     =      2.8 : 1.0\n",
      "        contains(도/Josa) = True               부정 : 긍정     =      2.0 : 1.0\n",
      "        contains(에/Josa) = True               부정 : 긍정     =      1.7 : 1.0\n",
      "        contains(은/Josa) = True               부정 : 긍정     =      1.7 : 1.0\n",
      "        contains(이/Noun) = True               부정 : 긍정     =      1.7 : 1.0\n",
      "        contains(나/Noun) = True               긍정 : 부정     =      1.6 : 1.0\n",
      "        contains(의/Josa) = True               긍정 : 부정     =      1.5 : 1.0\n",
      "        contains(가/Josa) = False              긍정 : 부정     =      1.4 : 1.0\n",
      "        contains(내/Noun) = True               긍정 : 부정     =      1.4 : 1.0\n",
      "        contains(나/Noun) = False              부정 : 긍정     =      1.4 : 1.0\n",
      "None\n"
     ]
    }
   ],
   "source": [
    "print(pos_neg.show_informative_features())"
   ]
  },
  {
   "cell_type": "code",
   "execution_count": null,
   "id": "c7d872df",
   "metadata": {},
   "outputs": [],
   "source": []
  },
  {
   "cell_type": "code",
   "execution_count": null,
   "id": "7c857e35",
   "metadata": {},
   "outputs": [],
   "source": []
  }
 ],
 "metadata": {
  "kernelspec": {
   "display_name": "Python 3",
   "language": "python",
   "name": "python3"
  },
  "language_info": {
   "codemirror_mode": {
    "name": "ipython",
    "version": 3
   },
   "file_extension": ".py",
   "mimetype": "text/x-python",
   "name": "python",
   "nbconvert_exporter": "python",
   "pygments_lexer": "ipython3",
   "version": "3.8.10"
  }
 },
 "nbformat": 4,
 "nbformat_minor": 5
}
