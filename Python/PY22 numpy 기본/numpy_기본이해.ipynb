{
 "cells": [
  {
   "cell_type": "markdown",
   "id": "62b3c288",
   "metadata": {},
   "source": [
    "### NumPy 특징\n",
    "- 과학 기술 계산을 위한 라이브러리를 제공\n",
    "- 백터/행렬/배열 처리 및 연산, 난수 발생\n",
    "- 파일관리(txt, csv 등 파일 읽기/쓰기)\n",
    "- 리스트(list)형 데이터와 유사하지만 Numpy는 배열의 특징을 가짐\n",
    "- 모든 원소는 동일한 자료형이어야 한다.\n",
    "- 원소들 중 다른 자료형이 있다면 가장 큰 자료형으로 변경됨\n",
    "- 계산 속도가 빠르다.\n",
    "- 백터/연산, 배열 인덱싱 등을 통해 질의 가능"
   ]
  },
  {
   "cell_type": "code",
   "execution_count": 1,
   "id": "a9e962f3",
   "metadata": {},
   "outputs": [],
   "source": [
    "import numpy as np"
   ]
  },
  {
   "cell_type": "markdown",
   "id": "07ae06ff",
   "metadata": {},
   "source": [
    "### 벡터(1차원 배열) 구조 이해"
   ]
  },
  {
   "cell_type": "code",
   "execution_count": 6,
   "id": "67c32c19",
   "metadata": {},
   "outputs": [
    {
     "name": "stdout",
     "output_type": "stream",
     "text": [
      "<class 'list'>\n"
     ]
    },
    {
     "data": {
      "text/plain": [
       "[2, 4, 6, 8, 10, 12]"
      ]
     },
     "execution_count": 6,
     "metadata": {},
     "output_type": "execute_result"
    }
   ],
   "source": [
    "lst=[1,2,3,4,5,6]\n",
    "s = [i * 2 for i in lst]\n",
    "print(type(lst))\n",
    "s"
   ]
  },
  {
   "cell_type": "code",
   "execution_count": 8,
   "id": "c5fdf784",
   "metadata": {},
   "outputs": [
    {
     "name": "stdout",
     "output_type": "stream",
     "text": [
      "<class 'numpy.ndarray'>\n"
     ]
    },
    {
     "data": {
      "text/plain": [
       "array([1, 2, 3, 4, 5, 6])"
      ]
     },
     "execution_count": 8,
     "metadata": {},
     "output_type": "execute_result"
    }
   ],
   "source": [
    "arr_lst=np.array(lst)\n",
    "print(type(arr_lst))\n",
    "arr_lst               # 벡터형"
   ]
  },
  {
   "cell_type": "code",
   "execution_count": 9,
   "id": "ce2dac86",
   "metadata": {},
   "outputs": [
    {
     "data": {
      "text/plain": [
       "array([ 2,  4,  6,  8, 10, 12])"
      ]
     },
     "execution_count": 9,
     "metadata": {},
     "output_type": "execute_result"
    }
   ],
   "source": [
    "arr_lst*2"
   ]
  },
  {
   "cell_type": "code",
   "execution_count": 12,
   "id": "8a6c21c0",
   "metadata": {},
   "outputs": [
    {
     "data": {
      "text/plain": [
       "array([ 2,  4,  6,  8, 10, 12])"
      ]
     },
     "execution_count": 12,
     "metadata": {},
     "output_type": "execute_result"
    }
   ],
   "source": [
    "np.array(lst)*2"
   ]
  },
  {
   "cell_type": "markdown",
   "id": "384dfccd",
   "metadata": {},
   "source": [
    "numpy 연산"
   ]
  },
  {
   "cell_type": "code",
   "execution_count": 16,
   "id": "efa7c54c",
   "metadata": {},
   "outputs": [
    {
     "name": "stdout",
     "output_type": "stream",
     "text": [
      "[11 22 33]\n",
      "[False  True  True]\n"
     ]
    }
   ],
   "source": [
    "arr1=np.array([1,2,3])\n",
    "arr2=np.array([10,20,30])\n",
    "\n",
    "print(arr1+arr2)\n",
    "print(arr2>=20)\n"
   ]
  },
  {
   "cell_type": "markdown",
   "id": "a75e09ba",
   "metadata": {},
   "source": [
    "넘파이를 두 벡터 연산시 자료의 갯수가 동일해야 한다."
   ]
  },
  {
   "cell_type": "code",
   "execution_count": 17,
   "id": "26b9029d",
   "metadata": {},
   "outputs": [
    {
     "ename": "ValueError",
     "evalue": "operands could not be broadcast together with shapes (4,) (3,) ",
     "output_type": "error",
     "traceback": [
      "\u001b[1;31m---------------------------------------------------------------------------\u001b[0m",
      "\u001b[1;31mValueError\u001b[0m                                Traceback (most recent call last)",
      "\u001b[1;32m<ipython-input-17-4403341f759c>\u001b[0m in \u001b[0;36m<module>\u001b[1;34m\u001b[0m\n\u001b[0;32m      2\u001b[0m \u001b[0marr2\u001b[0m\u001b[1;33m=\u001b[0m\u001b[0mnp\u001b[0m\u001b[1;33m.\u001b[0m\u001b[0marray\u001b[0m\u001b[1;33m(\u001b[0m\u001b[1;33m[\u001b[0m\u001b[1;36m10\u001b[0m\u001b[1;33m,\u001b[0m\u001b[1;36m20\u001b[0m\u001b[1;33m,\u001b[0m\u001b[1;36m30\u001b[0m\u001b[1;33m]\u001b[0m\u001b[1;33m)\u001b[0m\u001b[1;33m\u001b[0m\u001b[1;33m\u001b[0m\u001b[0m\n\u001b[0;32m      3\u001b[0m \u001b[1;33m\u001b[0m\u001b[0m\n\u001b[1;32m----> 4\u001b[1;33m \u001b[0marr1\u001b[0m\u001b[1;33m+\u001b[0m\u001b[0marr2\u001b[0m\u001b[1;33m\u001b[0m\u001b[1;33m\u001b[0m\u001b[0m\n\u001b[0m",
      "\u001b[1;31mValueError\u001b[0m: operands could not be broadcast together with shapes (4,) (3,) "
     ]
    }
   ],
   "source": [
    "arr1=np.array([1,2,3,4])\n",
    "arr2=np.array([10,20,30])\n",
    "\n",
    "arr1+arr2"
   ]
  },
  {
   "cell_type": "markdown",
   "id": "7bc5fafe",
   "metadata": {},
   "source": [
    "### 2차원 배열 구조"
   ]
  },
  {
   "cell_type": "code",
   "execution_count": 25,
   "id": "08308b42",
   "metadata": {},
   "outputs": [
    {
     "name": "stdout",
     "output_type": "stream",
     "text": [
      "[0, 0, 1]\n",
      "[8, 12, 33]\n",
      "(2, 3)\n"
     ]
    },
    {
     "data": {
      "text/html": [
       "<div>\n",
       "<style scoped>\n",
       "    .dataframe tbody tr th:only-of-type {\n",
       "        vertical-align: middle;\n",
       "    }\n",
       "\n",
       "    .dataframe tbody tr th {\n",
       "        vertical-align: top;\n",
       "    }\n",
       "\n",
       "    .dataframe thead th {\n",
       "        text-align: right;\n",
       "    }\n",
       "</style>\n",
       "<table border=\"1\" class=\"dataframe\">\n",
       "  <thead>\n",
       "    <tr style=\"text-align: right;\">\n",
       "      <th></th>\n",
       "      <th>0</th>\n",
       "      <th>1</th>\n",
       "      <th>2</th>\n",
       "    </tr>\n",
       "  </thead>\n",
       "  <tbody>\n",
       "    <tr>\n",
       "      <th>0</th>\n",
       "      <td>0</td>\n",
       "      <td>0</td>\n",
       "      <td>1</td>\n",
       "    </tr>\n",
       "    <tr>\n",
       "      <th>1</th>\n",
       "      <td>8</td>\n",
       "      <td>12</td>\n",
       "      <td>33</td>\n",
       "    </tr>\n",
       "  </tbody>\n",
       "</table>\n",
       "</div>"
      ],
      "text/plain": [
       "   0   1   2\n",
       "0  0   0   1\n",
       "1  8  12  33"
      ]
     },
     "execution_count": 25,
     "metadata": {},
     "output_type": "execute_result"
    }
   ],
   "source": [
    "import pandas as pd\n",
    "\n",
    "lst=[[0,0,1], [8,12,33]]\n",
    "print(lst[0])\n",
    "print(lst[1])\n",
    "\n",
    "df=pd.DataFrame(lst)\n",
    "print(df.shape)\n",
    "df"
   ]
  },
  {
   "cell_type": "code",
   "execution_count": 27,
   "id": "01e38d6c",
   "metadata": {},
   "outputs": [
    {
     "name": "stdout",
     "output_type": "stream",
     "text": [
      "[[0, 0, 1], [8, 12, 33]]\n",
      "[[ 0  0  1]\n",
      " [ 8 12 33]]\n"
     ]
    }
   ],
   "source": [
    "arr=np.array(lst)\n",
    "print(lst)\n",
    "print(arr)"
   ]
  },
  {
   "cell_type": "code",
   "execution_count": 31,
   "id": "f5e9d11f",
   "metadata": {},
   "outputs": [
    {
     "name": "stdout",
     "output_type": "stream",
     "text": [
      "2\n",
      "2\n",
      "3\n",
      "3\n"
     ]
    }
   ],
   "source": [
    "print(len(lst))   # lst의 전체 데이터 갯수\n",
    "print(len(arr))   # arr의 행의 갯수\n",
    "\n",
    "print(len(lst[0])) # lst의 첫번째 데이터의 갯수\n",
    "print(len(arr[0])) # arr의 열의 갯수"
   ]
  },
  {
   "cell_type": "code",
   "execution_count": 33,
   "id": "353b409c",
   "metadata": {},
   "outputs": [
    {
     "name": "stderr",
     "output_type": "stream",
     "text": [
      "<ipython-input-33-40a3ca4e79c8>:2: VisibleDeprecationWarning: Creating an ndarray from ragged nested sequences (which is a list-or-tuple of lists-or-tuples-or ndarrays with different lengths or shapes) is deprecated. If you meant to do this, you must specify 'dtype=object' when creating the ndarray.\n",
      "  arr=np.array(lst)\n"
     ]
    },
    {
     "data": {
      "text/plain": [
       "array([list([0, 0, 1, 1]), list([8, 12, 33])], dtype=object)"
      ]
     },
     "execution_count": 33,
     "metadata": {},
     "output_type": "execute_result"
    }
   ],
   "source": [
    "lst=[[0,0,1,1], [8,12,33]]\n",
    "arr=np.array(lst)\n",
    "arr"
   ]
  },
  {
   "cell_type": "code",
   "execution_count": 35,
   "id": "3f736947",
   "metadata": {},
   "outputs": [
    {
     "data": {
      "text/plain": [
       "list"
      ]
     },
     "execution_count": 35,
     "metadata": {},
     "output_type": "execute_result"
    }
   ],
   "source": [
    "type(arr[0])"
   ]
  },
  {
   "cell_type": "markdown",
   "id": "2ead1133",
   "metadata": {},
   "source": [
    "### 3차원 배열"
   ]
  },
  {
   "cell_type": "code",
   "execution_count": 42,
   "id": "8f05ca8e",
   "metadata": {},
   "outputs": [
    {
     "name": "stdout",
     "output_type": "stream",
     "text": [
      "(1, 1, 3)\n",
      "[[[10 20 30]]]\n"
     ]
    }
   ],
   "source": [
    "lst=[[[10,20,30]]]\n",
    "arr=np.array(lst)\n",
    "print(arr.shape)\n",
    "print(arr)"
   ]
  },
  {
   "cell_type": "code",
   "execution_count": 45,
   "id": "d3f0a68c",
   "metadata": {},
   "outputs": [
    {
     "name": "stdout",
     "output_type": "stream",
     "text": [
      "(1, 2, 3)\n",
      "[[[10 20 30]\n",
      "  [15 25 35]]]\n"
     ]
    }
   ],
   "source": [
    "lst=[[[10,20,30],[15,25,35]]]\n",
    "arr=np.array(lst)\n",
    "print(arr.shape)\n",
    "print(arr)"
   ]
  },
  {
   "cell_type": "code",
   "execution_count": 46,
   "id": "956109cc",
   "metadata": {},
   "outputs": [
    {
     "name": "stdout",
     "output_type": "stream",
     "text": [
      "(2, 2, 3)\n",
      "[[[10. 20. 30.]\n",
      "  [15. 25. 35.]]\n",
      "\n",
      " [[ 1.  2.  3.]\n",
      "  [12. 13. 15.]]]\n"
     ]
    }
   ],
   "source": [
    "lst=[[[10,20,30],[15,25,35]],[[1.,2.,3.],[12, 13.,15]]]\n",
    "arr=np.array(lst)\n",
    "print(arr.shape)\n",
    "print(arr)"
   ]
  },
  {
   "cell_type": "code",
   "execution_count": 47,
   "id": "02aa37cc",
   "metadata": {},
   "outputs": [
    {
     "name": "stdout",
     "output_type": "stream",
     "text": [
      "(2,)\n",
      "[list([[10, 20, 30], [15, 25, 35]])\n",
      " list([[1.0, 2.0, 3.0], [12, 13.0, 15], [12, 13.0, 15]])]\n"
     ]
    },
    {
     "name": "stderr",
     "output_type": "stream",
     "text": [
      "<ipython-input-47-3a62c14d0354>:2: VisibleDeprecationWarning: Creating an ndarray from ragged nested sequences (which is a list-or-tuple of lists-or-tuples-or ndarrays with different lengths or shapes) is deprecated. If you meant to do this, you must specify 'dtype=object' when creating the ndarray.\n",
      "  arr=np.array(lst)\n"
     ]
    }
   ],
   "source": [
    "lst=[[[10,20,30],[15,25,35]],[[1.,2.,3.],[12, 13.,15], [12, 13.,15]]]\n",
    "arr=np.array(lst)\n",
    "print(arr.shape)\n",
    "print(arr)"
   ]
  },
  {
   "cell_type": "code",
   "execution_count": 48,
   "id": "d8359ab0",
   "metadata": {
    "scrolled": true
   },
   "outputs": [
    {
     "name": "stdout",
     "output_type": "stream",
     "text": [
      "(2, 2, 3)\n",
      "[[['10' '20' '30']\n",
      "  ['15' '25' '35']]\n",
      "\n",
      " [['1.0' '2.0' '3.0']\n",
      "  ['12' '13.0' '15']]]\n"
     ]
    }
   ],
   "source": [
    "lst=[[[10,20,30],[15,25,35]],[[1.,2.,3.],[12, 13.,\"15\"]]]\n",
    "arr=np.array(lst)\n",
    "print(arr.shape)\n",
    "print(arr)"
   ]
  },
  {
   "cell_type": "markdown",
   "id": "22b5eefc",
   "metadata": {},
   "source": [
    "### 파이썬 자료형\n",
    "- NoneType / bool / int / float / complex / str / tuple / list / dict / function"
   ]
  },
  {
   "cell_type": "code",
   "execution_count": 52,
   "id": "ed0762dc",
   "metadata": {},
   "outputs": [
    {
     "name": "stdout",
     "output_type": "stream",
     "text": [
      "28\n",
      "24\n",
      "50\n"
     ]
    }
   ],
   "source": [
    "from sys import getsizeof   # 변수의 메모리 사용 내역\n",
    "\n",
    "a=1; b=1.;c=\"1\"\n",
    "print(getsizeof(a))\n",
    "print(getsizeof(b))\n",
    "print(getsizeof(c))"
   ]
  },
  {
   "cell_type": "markdown",
   "id": "db9309b2",
   "metadata": {},
   "source": [
    "### 배열 구조 데이터 인덱싱"
   ]
  },
  {
   "cell_type": "code",
   "execution_count": 53,
   "id": "5e483d02",
   "metadata": {},
   "outputs": [
    {
     "name": "stdout",
     "output_type": "stream",
     "text": [
      "10\n",
      "50\n",
      "30\n"
     ]
    }
   ],
   "source": [
    "# 1차원 배열 인덱싱\n",
    "\n",
    "arr=np.array([10,20,30,40,50])\n",
    "print(arr[0])\n",
    "print(arr[-1])\n",
    "print(arr[2])"
   ]
  },
  {
   "cell_type": "code",
   "execution_count": 61,
   "id": "a5be8f9e",
   "metadata": {},
   "outputs": [
    {
     "name": "stdout",
     "output_type": "stream",
     "text": [
      "(2, 5)\n",
      "[[10 20 30 40 50]\n",
      " [15 25 35 45 55]] \n",
      "\n",
      "[10 20 30 40 50]\n",
      "[15 25 35 45 55]\n",
      "10\n",
      "35\n"
     ]
    }
   ],
   "source": [
    "# 2차원 배열의 인덱싱\n",
    "\n",
    "arr=np.array([[10,20,30,40,50], [15,25,35,45,55]])\n",
    "print(arr.shape)\n",
    "print(arr,\"\\n\")\n",
    "print(arr[0])       # 첫번째 행 전체\n",
    "print(arr[-1])      # 마지막행 전체\n",
    "print(arr[0, 0])    # 첫번째 행의 첫번째 열\n",
    "print(arr[-1, 2])   # 마지막 행의 세번째 열"
   ]
  },
  {
   "cell_type": "code",
   "execution_count": 62,
   "id": "d2439683",
   "metadata": {},
   "outputs": [
    {
     "name": "stdout",
     "output_type": "stream",
     "text": [
      "(2, 2, 3)\n",
      "[[[10. 20. 30.]\n",
      "  [15. 25. 35.]]\n",
      "\n",
      " [[ 1.  2.  3.]\n",
      "  [12. 13. 15.]]] \n",
      "\n"
     ]
    }
   ],
   "source": [
    "# 3차원 배열의 인덱싱\n",
    "arr=np.array([[[10,20,30],[15,25,35]],[[1.,2.,3.],[12, 13.,15]]])\n",
    "print(arr.shape)\n",
    "print(arr, \"\\n\")"
   ]
  },
  {
   "cell_type": "code",
   "execution_count": 68,
   "id": "e9683ea4",
   "metadata": {},
   "outputs": [
    {
     "name": "stdout",
     "output_type": "stream",
     "text": [
      "[[10. 20. 30.]\n",
      " [15. 25. 35.]] \n",
      "\n",
      "[[ 1.  2.  3.]\n",
      " [12. 13. 15.]] \n",
      "\n",
      "[10. 20. 30.] \n",
      "\n",
      "[12. 13. 15.] \n",
      "\n",
      "10.0 \n",
      "\n",
      "15.0 \n",
      "\n"
     ]
    }
   ],
   "source": [
    "print(arr[0],\"\\n\")       # 첫면\n",
    "print(arr[-1],\"\\n\")      # 마지막 면\n",
    "print(arr[0, 0],\"\\n\")    # 첫면의 첫행\n",
    "print(arr[-1, -1],\"\\n\")  # 마지막 면의 마지막 행\n",
    "print(arr[0, 0, 0],\"\\n\")   # 첫면의 첫행 첫열\n",
    "print(arr[-1, -1, -1],\"\\n\") # 마지막 면의 마지막 행 마지막 열"
   ]
  },
  {
   "cell_type": "markdown",
   "id": "8a2a2fbf",
   "metadata": {},
   "source": [
    "불리언(Boolean) 배열 방식을 이용한 인덱싱"
   ]
  },
  {
   "cell_type": "code",
   "execution_count": 75,
   "id": "a4d57989",
   "metadata": {},
   "outputs": [
    {
     "data": {
      "text/plain": [
       "array([ 1,  2,  3,  4,  5,  6,  7,  8,  9, 10])"
      ]
     },
     "execution_count": 75,
     "metadata": {},
     "output_type": "execute_result"
    }
   ],
   "source": [
    "arr=np.arange(1, 11)\n",
    "arr"
   ]
  },
  {
   "cell_type": "code",
   "execution_count": 78,
   "id": "bba24216",
   "metadata": {},
   "outputs": [
    {
     "name": "stdout",
     "output_type": "stream",
     "text": [
      "[ 2  4  6  8 10]\n",
      "[1 3 5 7 9]\n"
     ]
    }
   ],
   "source": [
    "atf=np.array([False,True,False,True,False,True,False,True,False,True])  # True인 값만 매칭해 출력\n",
    "print(arr[atf])            # True인 값만 매칭해 출력\n",
    "anum=np.array([0,2,4,6,8])  \n",
    "print(arr[anum])           # anum을 위치값으로 사용해 출력"
   ]
  },
  {
   "cell_type": "code",
   "execution_count": 80,
   "id": "c944ca63",
   "metadata": {},
   "outputs": [
    {
     "data": {
      "text/plain": [
       "array([1, 3, 5, 7, 9])"
      ]
     },
     "execution_count": 80,
     "metadata": {},
     "output_type": "execute_result"
    }
   ],
   "source": [
    "arr[arr%2==1]   # arr에서 홀수 데이터 추출"
   ]
  },
  {
   "cell_type": "code",
   "execution_count": 83,
   "id": "1afff410",
   "metadata": {},
   "outputs": [
    {
     "data": {
      "text/plain": [
       "array([ 2,  4,  6,  8, 10])"
      ]
     },
     "execution_count": 83,
     "metadata": {},
     "output_type": "execute_result"
    }
   ],
   "source": [
    "arr[arr%2==0]   # arr에서 짝수 데이터 추출"
   ]
  },
  {
   "cell_type": "code",
   "execution_count": 85,
   "id": "4fea57ac",
   "metadata": {},
   "outputs": [
    {
     "data": {
      "text/plain": [
       "array([[10., 20., 30.],\n",
       "       [15., 25., 35.],\n",
       "       [ 1.,  2.,  3.],\n",
       "       [12., 13., 15.]])"
      ]
     },
     "execution_count": 85,
     "metadata": {},
     "output_type": "execute_result"
    }
   ],
   "source": [
    "arr=np.array([[10,20,30],[15,25,35],[1.,2.,3.],[12, 13.,15]])\n",
    "arr"
   ]
  },
  {
   "cell_type": "code",
   "execution_count": 86,
   "id": "ad8066ca",
   "metadata": {},
   "outputs": [
    {
     "data": {
      "text/plain": [
       "array([[10., 30.],\n",
       "       [15., 35.],\n",
       "       [ 1.,  3.],\n",
       "       [12., 15.]])"
      ]
     },
     "execution_count": 86,
     "metadata": {},
     "output_type": "execute_result"
    }
   ],
   "source": [
    "arr[:, [True, False, True]]   # 행 전체, 열은 True인 열만"
   ]
  },
  {
   "cell_type": "code",
   "execution_count": 87,
   "id": "f6eeac39",
   "metadata": {},
   "outputs": [
    {
     "data": {
      "text/plain": [
       "array([[15., 25., 35.],\n",
       "       [12., 13., 15.]])"
      ]
     },
     "execution_count": 87,
     "metadata": {},
     "output_type": "execute_result"
    }
   ],
   "source": [
    "arr[[1,3], :]"
   ]
  },
  {
   "cell_type": "markdown",
   "id": "2971e7fc",
   "metadata": {},
   "source": [
    "### 배열 생성/구조 변경"
   ]
  },
  {
   "cell_type": "markdown",
   "id": "64042b05",
   "metadata": {},
   "source": [
    "배열 데이터 생성"
   ]
  },
  {
   "cell_type": "code",
   "execution_count": 88,
   "id": "23818291",
   "metadata": {},
   "outputs": [
    {
     "data": {
      "text/plain": [
       "dtype('int32')"
      ]
     },
     "execution_count": 88,
     "metadata": {},
     "output_type": "execute_result"
    }
   ],
   "source": [
    "arr=np.array([15,25,35,45])\n",
    "arr.dtype"
   ]
  },
  {
   "cell_type": "code",
   "execution_count": 89,
   "id": "9a23463b",
   "metadata": {},
   "outputs": [
    {
     "data": {
      "text/plain": [
       "dtype('float32')"
      ]
     },
     "execution_count": 89,
     "metadata": {},
     "output_type": "execute_result"
    }
   ],
   "source": [
    "arr=np.array([15,25,35,45], dtype='f')   # 입력 데이터를 모두 float 형식으로 변경\n",
    "arr.dtype"
   ]
  },
  {
   "cell_type": "code",
   "execution_count": 90,
   "id": "85fb8afc",
   "metadata": {},
   "outputs": [
    {
     "data": {
      "text/plain": [
       "array([15., 28., 35., 45.], dtype=float32)"
      ]
     },
     "execution_count": 90,
     "metadata": {},
     "output_type": "execute_result"
    }
   ],
   "source": [
    "arr[1]=28\n",
    "arr"
   ]
  },
  {
   "cell_type": "code",
   "execution_count": 92,
   "id": "d0f185fa",
   "metadata": {},
   "outputs": [
    {
     "data": {
      "text/plain": [
       "dtype('int32')"
      ]
     },
     "execution_count": 92,
     "metadata": {},
     "output_type": "execute_result"
    }
   ],
   "source": [
    "arr=np.arange(1, 10, 2)  # 시작, 끝(포함하지 않음), 단계  => range() 함수와 동일하나 결과가 배열구조\n",
    "arr.dtype"
   ]
  },
  {
   "cell_type": "code",
   "execution_count": 131,
   "id": "f556c94c",
   "metadata": {},
   "outputs": [
    {
     "name": "stdout",
     "output_type": "stream",
     "text": [
      "[   2.    4.    8.   16.   32.   64.  128.  256.  512. 1024.]\n"
     ]
    }
   ],
   "source": [
    "# 등간격 리스트\n",
    "arr=np.logspace(1, 10, 10, endpoint=True, base=2)  # 시작, 끝, 개숫  / endpoint 옵션: 마지막 값 표현\n",
    "print(arr)"
   ]
  },
  {
   "cell_type": "code",
   "execution_count": 100,
   "id": "1b4979a2",
   "metadata": {},
   "outputs": [
    {
     "data": {
      "text/plain": [
       "array([  0.  ,  28.25,  56.5 ,  84.75, 113.  ])"
      ]
     },
     "execution_count": 100,
     "metadata": {},
     "output_type": "execute_result"
    }
   ],
   "source": [
    "# 일정 간격\n",
    "arr=np.linspace(0, 113, 5)  # 시작, 끝, 구간수   / endpoint 옵션: 마지막 값 표현\n",
    "arr"
   ]
  },
  {
   "cell_type": "markdown",
   "id": "cdfd5b75",
   "metadata": {},
   "source": [
    "배열 데이터 변경"
   ]
  },
  {
   "cell_type": "code",
   "execution_count": 110,
   "id": "a7014d23",
   "metadata": {},
   "outputs": [
    {
     "data": {
      "text/plain": [
       "array([[ 1,  2,  3,  4,  5],\n",
       "       [ 6,  7,  8,  9, 10]])"
      ]
     },
     "execution_count": 110,
     "metadata": {},
     "output_type": "execute_result"
    }
   ],
   "source": [
    "arr=np.array([1,2,3,4,5,6,7,8,9,10])\n",
    "arr_res=arr.reshape(2, 5)  # 배열 구조 변경 reshape(행갯수, 열갯수), 행*열한 값이 데이터 갯수와 같아야 함\n",
    "arr_res"
   ]
  },
  {
   "cell_type": "code",
   "execution_count": 123,
   "id": "4b30922d",
   "metadata": {},
   "outputs": [
    {
     "data": {
      "text/plain": [
       "array([ 1,  2,  3,  4,  5,  6,  7,  8,  9, 10, 11, 12, 13, 14, 15, 16, 17,\n",
       "       18, 19, 20, 21, 22, 23, 24, 25, 26, 27, 28, 29, 30, 31, 32, 33, 34,\n",
       "       35, 36, 37, 38, 39, 40, 41, 42, 43, 44, 45, 46, 47, 48, 49, 50])"
      ]
     },
     "execution_count": 123,
     "metadata": {},
     "output_type": "execute_result"
    }
   ],
   "source": [
    "arr=np.arange(1, 51)\n",
    "arr"
   ]
  },
  {
   "cell_type": "code",
   "execution_count": 124,
   "id": "b9ea8413",
   "metadata": {},
   "outputs": [
    {
     "data": {
      "text/plain": [
       "array([[ 1,  2,  3,  4,  5],\n",
       "       [ 6,  7,  8,  9, 10],\n",
       "       [11, 12, 13, 14, 15],\n",
       "       [16, 17, 18, 19, 20],\n",
       "       [21, 22, 23, 24, 25],\n",
       "       [26, 27, 28, 29, 30],\n",
       "       [31, 32, 33, 34, 35],\n",
       "       [36, 37, 38, 39, 40],\n",
       "       [41, 42, 43, 44, 45],\n",
       "       [46, 47, 48, 49, 50]])"
      ]
     },
     "execution_count": 124,
     "metadata": {},
     "output_type": "execute_result"
    }
   ],
   "source": [
    "arr_res=arr.reshape(-1, 5)   # 행, 또는 열의 위치에 -1을 넣은 경우 행/열 자동 생성\n",
    "arr_res"
   ]
  },
  {
   "cell_type": "code",
   "execution_count": 125,
   "id": "ecc8baf3",
   "metadata": {},
   "outputs": [
    {
     "data": {
      "text/plain": [
       "array([[ 1,  2,  3,  4,  5,  6,  7,  8,  9, 10, 11, 12, 13, 14, 15, 16,\n",
       "        17],\n",
       "       [18, 19, 20, 21, 22, 23, 24, 25, 26, 27, 28, 29, 30, 31, 32, 33,\n",
       "        34],\n",
       "       [35, 36, 37, 38, 39, 40, 41, 42, 43, 44, 45, 46, 47, 48, 49, 50,\n",
       "        51]])"
      ]
     },
     "execution_count": 125,
     "metadata": {},
     "output_type": "execute_result"
    }
   ],
   "source": [
    "arr=np.arange(1, 52)\n",
    "arr_res=arr.reshape(3, -1) \n",
    "arr_res"
   ]
  },
  {
   "cell_type": "code",
   "execution_count": 126,
   "id": "316d3ecc",
   "metadata": {},
   "outputs": [
    {
     "data": {
      "text/plain": [
       "array([[ 1,  2,  3,  4,  5,  6,  7,  8,  9, 10, 11, 12, 13, 14, 15, 16,\n",
       "        17, 18, 19, 20, 21, 22, 23, 24, 25, 26, 27, 28, 29, 30, 31, 32,\n",
       "        33, 34, 35, 36, 37, 38, 39, 40, 41, 42, 43, 44, 45, 46, 47, 48,\n",
       "        49, 50, 51]])"
      ]
     },
     "execution_count": 126,
     "metadata": {},
     "output_type": "execute_result"
    }
   ],
   "source": [
    "arr_res.reshape(1,-1)"
   ]
  },
  {
   "cell_type": "code",
   "execution_count": 137,
   "id": "0b64d242",
   "metadata": {},
   "outputs": [
    {
     "data": {
      "text/plain": [
       "array([[[ 1,  2,  3,  4,  5],\n",
       "        [ 6,  7,  8,  9, 10],\n",
       "        [11, 12, 13, 14, 15],\n",
       "        [16, 17, 18, 19, 20],\n",
       "        [21, 22, 23, 24, 25],\n",
       "        [26, 27, 28, 29, 30]],\n",
       "\n",
       "       [[31, 32, 33, 34, 35],\n",
       "        [36, 37, 38, 39, 40],\n",
       "        [41, 42, 43, 44, 45],\n",
       "        [46, 47, 48, 49, 50],\n",
       "        [51, 52, 53, 54, 55],\n",
       "        [56, 57, 58, 59, 60]]])"
      ]
     },
     "execution_count": 137,
     "metadata": {},
     "output_type": "execute_result"
    }
   ],
   "source": [
    "arr=np.arange(1, 61).reshape(2, -1,  5)   # 3차원으로 변경\n",
    "arr"
   ]
  },
  {
   "cell_type": "code",
   "execution_count": 138,
   "id": "53933f9b",
   "metadata": {},
   "outputs": [
    {
     "data": {
      "text/plain": [
       "array([ 1,  2,  3,  4,  5,  6,  7,  8,  9, 10, 11, 12, 13, 14, 15, 16, 17,\n",
       "       18, 19, 20, 21, 22, 23, 24, 25, 26, 27, 28, 29, 30, 31, 32, 33, 34,\n",
       "       35, 36, 37, 38, 39, 40, 41, 42, 43, 44, 45, 46, 47, 48, 49, 50, 51,\n",
       "       52, 53, 54, 55, 56, 57, 58, 59, 60])"
      ]
     },
     "execution_count": 138,
     "metadata": {},
     "output_type": "execute_result"
    }
   ],
   "source": [
    "arr.reshape(-1)    # 1차원으로 변경"
   ]
  },
  {
   "cell_type": "markdown",
   "id": "460c6c7b",
   "metadata": {},
   "source": [
    "배열 데이터 수정"
   ]
  },
  {
   "cell_type": "code",
   "execution_count": 139,
   "id": "7927a47d",
   "metadata": {},
   "outputs": [
    {
     "data": {
      "text/plain": [
       "array([[ 1,  2,  3,  4,  5,  6],\n",
       "       [ 7,  8,  9, 10, 11, 12],\n",
       "       [13, 14, 15, 16, 17, 18],\n",
       "       [19, 20, 21, 22, 23, 24],\n",
       "       [25, 26, 27, 28, 29, 30],\n",
       "       [31, 32, 33, 34, 35, 36],\n",
       "       [37, 38, 39, 40, 41, 42],\n",
       "       [43, 44, 45, 46, 47, 48],\n",
       "       [49, 50, 51, 52, 53, 54],\n",
       "       [55, 56, 57, 58, 59, 60]])"
      ]
     },
     "execution_count": 139,
     "metadata": {},
     "output_type": "execute_result"
    }
   ],
   "source": [
    "arr_res=arr.reshape(-1, 6)\n",
    "arr_res"
   ]
  },
  {
   "cell_type": "code",
   "execution_count": 140,
   "id": "a262556f",
   "metadata": {},
   "outputs": [
    {
     "data": {
      "text/plain": [
       "array([[ 0,  0,  0,  0,  0,  0],\n",
       "       [ 7,  8,  9, 10, 11, 12],\n",
       "       [13, 14, 15, 16, 17, 18],\n",
       "       [19, 20, 21, 22, 23, 24],\n",
       "       [25, 26, 27, 28, 29, 30],\n",
       "       [31, 32, 33, 34, 35, 36],\n",
       "       [37, 38, 39, 40, 41, 42],\n",
       "       [43, 44, 45, 46, 47, 48],\n",
       "       [49, 50, 51, 52, 53, 54],\n",
       "       [55, 56, 57, 58, 59, 60]])"
      ]
     },
     "execution_count": 140,
     "metadata": {},
     "output_type": "execute_result"
    }
   ],
   "source": [
    "arr_res[0]=0\n",
    "arr_res"
   ]
  },
  {
   "cell_type": "code",
   "execution_count": 141,
   "id": "69bc386d",
   "metadata": {},
   "outputs": [
    {
     "data": {
      "text/plain": [
       "array([[ 0,  0, 10,  0,  0,  0],\n",
       "       [ 7,  8,  9, 10, 11, 12],\n",
       "       [13, 14, 15, 16, 17, 18],\n",
       "       [19, 20, 21, 22, 23, 24],\n",
       "       [25, 26, 27, 28, 29, 30],\n",
       "       [31, 32, 33, 34, 35, 36],\n",
       "       [37, 38, 39, 40, 41, 42],\n",
       "       [43, 44, 45, 46, 47, 48],\n",
       "       [49, 50, 51, 52, 53, 54],\n",
       "       [55, 56, 57, 58, 59, 60]])"
      ]
     },
     "execution_count": 141,
     "metadata": {},
     "output_type": "execute_result"
    }
   ],
   "source": [
    "arr_res[0, 2]=10         # arr_res[0][2]=10\n",
    "arr_res"
   ]
  },
  {
   "cell_type": "markdown",
   "id": "e359d163",
   "metadata": {},
   "source": [
    "브로드캐스팅 (broad casting)  &  마스킹(masking)\n",
    "- 하나의 배열or 요소가 어떤 특정 배열에 영향을 미칠때 배열간의 형상을 맞추는 것을 브로드 캐스팅이라고 함"
   ]
  },
  {
   "cell_type": "code",
   "execution_count": 142,
   "id": "edfdd662",
   "metadata": {},
   "outputs": [
    {
     "data": {
      "text/plain": [
       "array([[ True,  True,  True,  True,  True,  True],\n",
       "       [False,  True, False,  True, False,  True],\n",
       "       [False,  True, False,  True, False,  True],\n",
       "       [False,  True, False,  True, False,  True],\n",
       "       [False,  True, False,  True, False,  True],\n",
       "       [False,  True, False,  True, False,  True],\n",
       "       [False,  True, False,  True, False,  True],\n",
       "       [False,  True, False,  True, False,  True],\n",
       "       [False,  True, False,  True, False,  True],\n",
       "       [False,  True, False,  True, False,  True]])"
      ]
     },
     "execution_count": 142,
     "metadata": {},
     "output_type": "execute_result"
    }
   ],
   "source": [
    "# arr_res 배열에서 값을 나누고 남은 나머지가 0이면 True 반환\n",
    "#idx변수를 만들어 (= masking을 만듬) true/false로 변환된 데이터를 저장) \n",
    "idx=arr_res%2==0\n",
    "idx"
   ]
  },
  {
   "cell_type": "code",
   "execution_count": 143,
   "id": "831de1d4",
   "metadata": {},
   "outputs": [
    {
     "data": {
      "text/plain": [
       "array([ 0,  0, 10,  0,  0,  0,  8, 10, 12, 14, 16, 18, 20, 22, 24, 26, 28,\n",
       "       30, 32, 34, 36, 38, 40, 42, 44, 46, 48, 50, 52, 54, 56, 58, 60])"
      ]
     },
     "execution_count": 143,
     "metadata": {},
     "output_type": "execute_result"
    }
   ],
   "source": [
    "# 만들어진 idx의 마스킹 값을 기준으로 True인 값만 출력\n",
    "arr_res[idx]"
   ]
  },
  {
   "cell_type": "code",
   "execution_count": 144,
   "id": "e08f92f4",
   "metadata": {},
   "outputs": [
    {
     "data": {
      "text/plain": [
       "array([[100, 100, 100, 100, 100, 100],\n",
       "       [  7, 100,   9, 100,  11, 100],\n",
       "       [ 13, 100,  15, 100,  17, 100],\n",
       "       [ 19, 100,  21, 100,  23, 100],\n",
       "       [ 25, 100,  27, 100,  29, 100],\n",
       "       [ 31, 100,  33, 100,  35, 100],\n",
       "       [ 37, 100,  39, 100,  41, 100],\n",
       "       [ 43, 100,  45, 100,  47, 100],\n",
       "       [ 49, 100,  51, 100,  53, 100],\n",
       "       [ 55, 100,  57, 100,  59, 100]])"
      ]
     },
     "execution_count": 144,
     "metadata": {},
     "output_type": "execute_result"
    }
   ],
   "source": [
    "arr_res[idx]=100\n",
    "arr_res"
   ]
  },
  {
   "cell_type": "markdown",
   "id": "cde3f7c9",
   "metadata": {},
   "source": [
    "### NumPy에서 파일 읽고/쓰기"
   ]
  },
  {
   "cell_type": "code",
   "execution_count": 160,
   "id": "4b3f3c0a",
   "metadata": {},
   "outputs": [
    {
     "data": {
      "text/plain": [
       "[['a', '10', '\\n'],\n",
       " ['b', '25', '\\n'],\n",
       " ['c', '48', '\\n'],\n",
       " ['d', '55', '\\n'],\n",
       " ['e', '84', 'y\\n'],\n",
       " ['f', '55', '\\n'],\n",
       " ['g', '88', 'y\\n'],\n",
       " ['h', '', '\\n']]"
      ]
     },
     "execution_count": 160,
     "metadata": {},
     "output_type": "execute_result"
    }
   ],
   "source": [
    "with open('c:/pydata/test.csv', encoding='utf-8') as f:\n",
    "    csv_data=[]\n",
    "    for line in f.readlines():\n",
    "        csv_data.append(line.split(\",\"))\n",
    "csv_data"
   ]
  },
  {
   "cell_type": "code",
   "execution_count": 158,
   "id": "c9f32dc8",
   "metadata": {},
   "outputs": [
    {
     "data": {
      "text/html": [
       "<div>\n",
       "<style scoped>\n",
       "    .dataframe tbody tr th:only-of-type {\n",
       "        vertical-align: middle;\n",
       "    }\n",
       "\n",
       "    .dataframe tbody tr th {\n",
       "        vertical-align: top;\n",
       "    }\n",
       "\n",
       "    .dataframe thead th {\n",
       "        text-align: right;\n",
       "    }\n",
       "</style>\n",
       "<table border=\"1\" class=\"dataframe\">\n",
       "  <thead>\n",
       "    <tr style=\"text-align: right;\">\n",
       "      <th></th>\n",
       "      <th>이름</th>\n",
       "      <th>값</th>\n",
       "    </tr>\n",
       "  </thead>\n",
       "  <tbody>\n",
       "    <tr>\n",
       "      <th>a</th>\n",
       "      <td>10.0</td>\n",
       "      <td>NaN</td>\n",
       "    </tr>\n",
       "    <tr>\n",
       "      <th>b</th>\n",
       "      <td>25.0</td>\n",
       "      <td>NaN</td>\n",
       "    </tr>\n",
       "    <tr>\n",
       "      <th>c</th>\n",
       "      <td>48.0</td>\n",
       "      <td>NaN</td>\n",
       "    </tr>\n",
       "    <tr>\n",
       "      <th>d</th>\n",
       "      <td>55.0</td>\n",
       "      <td>NaN</td>\n",
       "    </tr>\n",
       "    <tr>\n",
       "      <th>e</th>\n",
       "      <td>84.0</td>\n",
       "      <td>y</td>\n",
       "    </tr>\n",
       "    <tr>\n",
       "      <th>f</th>\n",
       "      <td>55.0</td>\n",
       "      <td>NaN</td>\n",
       "    </tr>\n",
       "    <tr>\n",
       "      <th>g</th>\n",
       "      <td>88.0</td>\n",
       "      <td>y</td>\n",
       "    </tr>\n",
       "    <tr>\n",
       "      <th>h</th>\n",
       "      <td>NaN</td>\n",
       "      <td>NaN</td>\n",
       "    </tr>\n",
       "  </tbody>\n",
       "</table>\n",
       "</div>"
      ],
      "text/plain": [
       "     이름    값\n",
       "a  10.0  NaN\n",
       "b  25.0  NaN\n",
       "c  48.0  NaN\n",
       "d  55.0  NaN\n",
       "e  84.0    y\n",
       "f  55.0  NaN\n",
       "g  88.0    y\n",
       "h   NaN  NaN"
      ]
     },
     "execution_count": 158,
     "metadata": {},
     "output_type": "execute_result"
    }
   ],
   "source": [
    "import pandas as pd\n",
    "df=pd.read_csv('c:/pydata/test.csv', encoding='utf-8', names=['이름', '값'])\n",
    "df"
   ]
  },
  {
   "cell_type": "code",
   "execution_count": 164,
   "id": "aad88391",
   "metadata": {},
   "outputs": [
    {
     "data": {
      "text/plain": [
       "array([['a', '10', ''],\n",
       "       ['b', '25', ''],\n",
       "       ['c', '48', ''],\n",
       "       ['d', '55', ''],\n",
       "       ['e', '84', 'y'],\n",
       "       ['f', '55', ''],\n",
       "       ['g', '88', 'y'],\n",
       "       ['h', '', '']], dtype='<U2')"
      ]
     },
     "execution_count": 164,
     "metadata": {},
     "output_type": "execute_result"
    }
   ],
   "source": [
    "np_data=np.loadtxt('c:/pydata/test.csv', encoding='utf-8', delimiter=\",\", dtype=str)\n",
    "np_data"
   ]
  },
  {
   "cell_type": "code",
   "execution_count": 165,
   "id": "561cf001",
   "metadata": {},
   "outputs": [
    {
     "data": {
      "text/plain": [
       "array([[False, False,  True],\n",
       "       [False, False,  True],\n",
       "       [False, False,  True],\n",
       "       [False, False,  True],\n",
       "       [False, False, False],\n",
       "       [False, False,  True],\n",
       "       [False, False, False],\n",
       "       [False,  True,  True]])"
      ]
     },
     "execution_count": 165,
     "metadata": {},
     "output_type": "execute_result"
    }
   ],
   "source": [
    "idx=np_data==\"\"\n",
    "idx"
   ]
  },
  {
   "cell_type": "code",
   "execution_count": 171,
   "id": "fbedd2bf",
   "metadata": {},
   "outputs": [
    {
     "name": "stdout",
     "output_type": "stream",
     "text": [
      "[['a' '10' '0']\n",
      " ['b' '25' '0']\n",
      " ['c' '48' '0']\n",
      " ['d' '55' '0']\n",
      " ['e' '84' 'y']\n",
      " ['f' '55' '0']\n",
      " ['g' '88' 'y']\n",
      " ['h' '0' '0']]\n"
     ]
    }
   ],
   "source": [
    "np_data[idx]=0\n",
    "print(np_data)"
   ]
  },
  {
   "cell_type": "markdown",
   "id": "4c600296",
   "metadata": {},
   "source": [
    "### NaN 변경하기"
   ]
  },
  {
   "cell_type": "code",
   "execution_count": 168,
   "id": "2b753461",
   "metadata": {},
   "outputs": [
    {
     "data": {
      "text/plain": [
       "array([ 5.,  6., nan])"
      ]
     },
     "execution_count": 168,
     "metadata": {},
     "output_type": "execute_result"
    }
   ],
   "source": [
    "arr=np.array([5, 6, np.NaN])\n",
    "arr"
   ]
  },
  {
   "cell_type": "code",
   "execution_count": 172,
   "id": "72dfaf35",
   "metadata": {},
   "outputs": [
    {
     "data": {
      "text/plain": [
       "array([False, False,  True])"
      ]
     },
     "execution_count": 172,
     "metadata": {},
     "output_type": "execute_result"
    }
   ],
   "source": [
    "np.isnan(arr)      # panas.isnull"
   ]
  },
  {
   "cell_type": "code",
   "execution_count": 174,
   "id": "0335fd81",
   "metadata": {},
   "outputs": [
    {
     "data": {
      "text/plain": [
       "array([5., 6., 0.])"
      ]
     },
     "execution_count": 174,
     "metadata": {},
     "output_type": "execute_result"
    }
   ],
   "source": [
    "np.nan_to_num(arr)     # NaN 0을 변경"
   ]
  },
  {
   "cell_type": "code",
   "execution_count": 177,
   "id": "a94032e3",
   "metadata": {},
   "outputs": [
    {
     "data": {
      "text/plain": [
       "array([5. , 6. , 5.5])"
      ]
     },
     "execution_count": 177,
     "metadata": {},
     "output_type": "execute_result"
    }
   ],
   "source": [
    "# np.isnan(arr) : arr에서 nan인 데이터에 대해서 True\n",
    "arr[np.isnan(arr)]=5.5    # np.isnan()와 브로드캐스팅을 이용해 원하는 값으로 수정\n",
    "arr"
   ]
  },
  {
   "cell_type": "code",
   "execution_count": 188,
   "id": "f2044029",
   "metadata": {},
   "outputs": [
    {
     "data": {
      "text/plain": [
       "array([5. , 6. , 5.5])"
      ]
     },
     "execution_count": 188,
     "metadata": {},
     "output_type": "execute_result"
    }
   ],
   "source": [
    "arr=np.array([5, 6, np.NaN])\n",
    "arr[np.isnan(arr)]=sum(np.nan_to_num(arr))/sum(np.isnan(arr)==False)\n",
    "arr"
   ]
  },
  {
   "cell_type": "code",
   "execution_count": 213,
   "id": "f5162412",
   "metadata": {},
   "outputs": [
    {
     "data": {
      "text/plain": [
       "array([ True,  True, False])"
      ]
     },
     "execution_count": 213,
     "metadata": {},
     "output_type": "execute_result"
    }
   ],
   "source": [
    "# np.isfinite(arr) : NaN이 아닌 값에 대해서 True, np.isnan의 반대\n",
    "arr=np.array([5, 6, np.NaN])\n",
    "np.isfinite(arr)"
   ]
  },
  {
   "cell_type": "code",
   "execution_count": 214,
   "id": "f5e7eda8",
   "metadata": {},
   "outputs": [
    {
     "data": {
      "text/plain": [
       "array([5. , 6. , 5.5])"
      ]
     },
     "execution_count": 214,
     "metadata": {},
     "output_type": "execute_result"
    }
   ],
   "source": [
    "arr=np.array([5, 6, np.NaN])\n",
    "arr[np.isnan(arr)]=np.mean(arr[np.isfinite(arr)])\n",
    "arr"
   ]
  },
  {
   "cell_type": "code",
   "execution_count": 189,
   "id": "de4a1631",
   "metadata": {},
   "outputs": [
    {
     "data": {
      "text/plain": [
       "array([5.        , 6.        , 3.66666667])"
      ]
     },
     "execution_count": 189,
     "metadata": {},
     "output_type": "execute_result"
    }
   ],
   "source": [
    "arr=np.array([5, 6, np.NaN])\n",
    "arr[np.isnan(arr)]=np.mean(np.nan_to_num(arr))\n",
    "arr"
   ]
  },
  {
   "cell_type": "markdown",
   "id": "fc33601f",
   "metadata": {},
   "source": [
    "### 행렬 데이터의 결합, concatenate 함수\n",
    "- np.concatenate((a, b))"
   ]
  },
  {
   "cell_type": "code",
   "execution_count": 200,
   "id": "054bd006",
   "metadata": {},
   "outputs": [
    {
     "name": "stdout",
     "output_type": "stream",
     "text": [
      "[[3 5 8]\n",
      " [6 4 4]]\n",
      "[[1 8]\n",
      " [6 4]\n",
      " [2 3]]\n",
      "[[5 4 0]\n",
      " [8 5 8]\n",
      " [0 8 5]]\n"
     ]
    }
   ],
   "source": [
    "arr1=np.random.randint(10, size=(2, 3))   # 0~9 사이의 정수를 이용해 2행 3열 구조 데이터 생성\n",
    "arr2=np.random.randint(10, size=(3, 2))   # 0~9 사이의 정수를 이용해 3행 2열 구조 데이터 생성\n",
    "arr3=np.random.randint(10, size=(3, 3))   # 0~9 사이의 정수를 이용해 3행 3열 구조 데이터 생성\n",
    "\n",
    "print(arr1)\n",
    "print(arr2)\n",
    "print(arr3)"
   ]
  },
  {
   "cell_type": "markdown",
   "id": "b8ea1420",
   "metadata": {},
   "source": [
    "세로 결합(기본결합): 결합하고자 하는 열의 갯수 일치"
   ]
  },
  {
   "cell_type": "code",
   "execution_count": 201,
   "id": "0fcf77fc",
   "metadata": {},
   "outputs": [
    {
     "data": {
      "text/plain": [
       "array([[3, 5, 8],\n",
       "       [6, 4, 4],\n",
       "       [5, 4, 0],\n",
       "       [8, 5, 8],\n",
       "       [0, 8, 5]])"
      ]
     },
     "execution_count": 201,
     "metadata": {},
     "output_type": "execute_result"
    }
   ],
   "source": [
    "np.concatenate((arr1, arr3))"
   ]
  },
  {
   "cell_type": "markdown",
   "id": "9fa140ea",
   "metadata": {},
   "source": [
    "가로 결합: 병합하고자 하는 행의 갯수 일치"
   ]
  },
  {
   "cell_type": "code",
   "execution_count": 202,
   "id": "78fa26b6",
   "metadata": {},
   "outputs": [
    {
     "data": {
      "text/plain": [
       "array([[1, 8, 5, 4, 0],\n",
       "       [6, 4, 8, 5, 8],\n",
       "       [2, 3, 0, 8, 5]])"
      ]
     },
     "execution_count": 202,
     "metadata": {},
     "output_type": "execute_result"
    }
   ],
   "source": [
    "np.concatenate((arr2, arr3), axis=1)"
   ]
  },
  {
   "cell_type": "code",
   "execution_count": 203,
   "id": "eec97ce2",
   "metadata": {},
   "outputs": [
    {
     "ename": "ValueError",
     "evalue": "all the input array dimensions for the concatenation axis must match exactly, but along dimension 0, the array at index 0 has size 2 and the array at index 1 has size 3",
     "output_type": "error",
     "traceback": [
      "\u001b[1;31m---------------------------------------------------------------------------\u001b[0m",
      "\u001b[1;31mValueError\u001b[0m                                Traceback (most recent call last)",
      "\u001b[1;32m<ipython-input-203-270780be87a4>\u001b[0m in \u001b[0;36m<module>\u001b[1;34m\u001b[0m\n\u001b[1;32m----> 1\u001b[1;33m \u001b[0mnp\u001b[0m\u001b[1;33m.\u001b[0m\u001b[0mconcatenate\u001b[0m\u001b[1;33m(\u001b[0m\u001b[1;33m(\u001b[0m\u001b[0marr1\u001b[0m\u001b[1;33m,\u001b[0m \u001b[0marr3\u001b[0m\u001b[1;33m)\u001b[0m\u001b[1;33m,\u001b[0m \u001b[0maxis\u001b[0m\u001b[1;33m=\u001b[0m\u001b[1;36m1\u001b[0m\u001b[1;33m)\u001b[0m\u001b[1;33m\u001b[0m\u001b[1;33m\u001b[0m\u001b[0m\n\u001b[0m",
      "\u001b[1;32m<__array_function__ internals>\u001b[0m in \u001b[0;36mconcatenate\u001b[1;34m(*args, **kwargs)\u001b[0m\n",
      "\u001b[1;31mValueError\u001b[0m: all the input array dimensions for the concatenation axis must match exactly, but along dimension 0, the array at index 0 has size 2 and the array at index 1 has size 3"
     ]
    }
   ],
   "source": [
    "np.concatenate((arr1, arr3), axis=1)"
   ]
  },
  {
   "cell_type": "code",
   "execution_count": null,
   "id": "2eb75756",
   "metadata": {},
   "outputs": [],
   "source": []
  }
 ],
 "metadata": {
  "kernelspec": {
   "display_name": "Python 3",
   "language": "python",
   "name": "python3"
  },
  "language_info": {
   "codemirror_mode": {
    "name": "ipython",
    "version": 3
   },
   "file_extension": ".py",
   "mimetype": "text/x-python",
   "name": "python",
   "nbconvert_exporter": "python",
   "pygments_lexer": "ipython3",
   "version": "3.8.10"
  }
 },
 "nbformat": 4,
 "nbformat_minor": 5
}
