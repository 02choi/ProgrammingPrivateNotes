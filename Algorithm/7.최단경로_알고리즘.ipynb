{
 "cells": [
  {
   "cell_type": "markdown",
   "id": "58891db7",
   "metadata": {},
   "source": [
    "### 최단 경로 알고리즘\n",
    "- 가장 짧은 경로를 찾는 알고리즘\n",
    "- 다양한 문제 상황\n",
    "    - 한 지점에서 다른 한 지점까지의 최단 경로\n",
    "    - 한 지점에서 다른 모든 지점까지의 최단 경로\n",
    "    - 모든 지점에서 다흔 모든 지점까지의 최단 경로\n",
    "- 각 지점은 그래프에서 노드로 표현\n",
    "- 지점 간 연결된 도로는 그래프에서 간선으로 표현"
   ]
  },
  {
   "cell_type": "markdown",
   "id": "6f506d8c",
   "metadata": {},
   "source": [
    "### 다익스트라 최단 경로 알고리즘\n",
    "- 특정한 노드에서 출발하여 다른 모든 노드로 가는 최단 경로를 계산합니다.(1대N)\n",
    "- 다익스트라(dijkstra) 최단 경로 알고리즘은 음의 간선이 없을 때 정상적으로 동작합니다.\n",
    "    - 현실 세계의 도로(간선)은 음의 간선으로 표현되지 않습니다.\n",
    "- 다익스트라 최단 경로 알고리즘은 그리디 알고리즘으로 분류됩니다.\n",
    "    - 매 상황에서 가장 비용이 적은 노드를 선택해 임의의 과정을 반복합니다.\n",
    "\n",
    "\n",
    "- 동작과정 \n",
    " 1. 출발 노드를 설정\n",
    " 2. 최단 거리 테이블을 초기화-모든 노드 까지 가기 위한 노드는 무한, 본인은 0\n",
    " 3. 방문하지 않은 노드 중에서 최단 거리가 가장 짧은 노드를 선택합니다.  (그리디 알고리즘)\n",
    " 4. 해당 노드를 거쳐 다른 노드로 가는 비용을 계산하여 최단 거리 테이블을 갱신합니다. (다이나믹 프로그래밍 알고리즘)\n",
    " 5. 위 과정에서 3번과 4번을 반복합니다.\n",
    "\n",
    "\n",
    "- 그리디 알고리즘: 매 상황에서 방문하지 않은 가장 비용이 적은 노드를 선택해 임의의 과정을 반복합니다.\n",
    "- 단계를 거치며 한 번 처리된 노드의 최단 거리는 고정되어 더 이상 바뀌지 않습니다.\n",
    "    - 한 단계당 하나의 노드에 대한 최단 거리를 확실히 찾는 것으로 이해할 수 있습니다.\n",
    "- 다익스트라 알고리즘을 수행한 뒤에 테이블에 각 노드까지의 최단 거리 정보가 저장됩니다.\n",
    "    - 완벽한 형태의 최단 경로를 구하려면 소스코드에 추가적인 기능을 더 넣어야 합니다.\n",
    "- 단계마다 방문하지 않은 노드중에서 최단거리가 가장 짧은 노드를 선택하기 위해서 매 단계마다 1차원 데이블의 모든 원소를 확인(순차 탐색) 합니다."
   ]
  },
  {
   "cell_type": "code",
   "execution_count": 6,
   "id": "f42713c4",
   "metadata": {},
   "outputs": [
    {
     "ename": "SyntaxError",
     "evalue": "invalid syntax (<ipython-input-6-833d6f72ecf7>, line 52)",
     "output_type": "error",
     "traceback": [
      "\u001b[1;36m  File \u001b[1;32m\"<ipython-input-6-833d6f72ecf7>\"\u001b[1;36m, line \u001b[1;32m52\u001b[0m\n\u001b[1;33m    for i in range(1,n+1)\u001b[0m\n\u001b[1;37m                         ^\u001b[0m\n\u001b[1;31mSyntaxError\u001b[0m\u001b[1;31m:\u001b[0m invalid syntax\n"
     ]
    }
   ],
   "source": [
    "# 일반적으로 전체 노드의 개수가 5000개 이하인 문제 해결가능\n",
    "INF = int(1e9) #무한을 의미하는 값으로 10억을 설정\n",
    "\n",
    "# 노드의 개수, 간선의 개수를 입력받기\n",
    "n,m = map(int, input().split())\n",
    "# 시작 노드 번호를 입력받기\n",
    "start = int(input())\n",
    "# 각 노드에 연결되어 있는 노드에 대한 정보를 담는 리스트를 만들기\n",
    "graph = [[] for i in range(n+1)]\n",
    "# 방문한 적이 있는지 체크하는 목적의 리스트를 만들기\n",
    "visited = [False] * (n+1)\n",
    "# 최단 거리 테이블을 모두 무한으로 초기화\n",
    "distance = [INF] * (n+1)\n",
    "\n",
    "# 모든 간선 정보를 입력받기\n",
    "for _ in range(m):\n",
    "    a, b, c = map(int, input().split())\n",
    "    # a번 노드에서 b번 노드로 가는 비용이 c라는 의미\n",
    "    graph[a].append((b,c))\n",
    "    \n",
    "# 방문하지 않은 노드 중에서, 가장 최단 거리가 짧은 노드의 번호를 반환\n",
    "def get_smallest_node():\n",
    "    min_value = INF\n",
    "    index = 0 # 가장 최단 거리가 짧은 노드(인덱스)\n",
    "    for i in range(1,1+n):\n",
    "        if distance[i] < min_value and not visited[i]:\n",
    "            min_value = distance[i]\n",
    "            index = i\n",
    "        return index\n",
    "    \n",
    "def dijkstra(start):\n",
    "    # 시작 노드에 대해서 초기화\n",
    "    distance[start] = 0\n",
    "    visited[start] = True\n",
    "    for j in graph[start]:\n",
    "        distance[j[0]] = j[1]\n",
    "    # 시작 노드를 제외한 전체 n-1개의 노드에 대해 반복\n",
    "    for i in range(n-1):\n",
    "        # 현재 최단 거리가 가장 짧은 노드를 꺼내서, 방문처리\n",
    "        now = get_smallest_node()\n",
    "        visited[now] = True\n",
    "        # 현재 노드와 연결된 다른 노드를 확인\n",
    "        for j in graph[now]:\n",
    "            cost = distance[now] + j[1]\n",
    "            # 현재 노드를 거쳐서 다른 노드로 이동하는 거리가 더 짧은 경우\n",
    "            if cost < distance[j[0]]:\n",
    "                distance[j[0]] = cost\n",
    "#다익스트라 알고리즘 실행\n",
    "dijkstra(start)\n",
    "\n",
    "# 모든 노드로 가기 위한 최단 거리를 출력\n",
    "for i in range(1,n+1):\n",
    "    # 도달 할 수 없는 경우, 무한이라고 출력\n",
    "    if distance[i] == INF:\n",
    "        print('무한')\n",
    "    else:\n",
    "        print(distance[i])"
   ]
  },
  {
   "cell_type": "markdown",
   "id": "b13e897f",
   "metadata": {},
   "source": [
    "### 우선순위 큐(Priority Queue)\n",
    "- 우선순위가 가장 높은 데이터를 가장 먼저 삭제하는 자료구조입니다.\n",
    "- 예를 들어 여러 개의 물건 데이터를 자료구조에 넣었다가 가치가 높은 물건 데이터부터 꺼내서 확인해야 하는 경우에 우선순위 큐를 이용할 수 있습니다.\n",
    "    - Stack: 가장 나중에 삽입된 데이터\n",
    "    - Queue: 가장 먼저 삽입된 데이터\n",
    "    - Priority Queue: 가장 우선순위가 높은 데이터"
   ]
  },
  {
   "cell_type": "markdown",
   "id": "607d03a1",
   "metadata": {},
   "source": [
    "#### 힙(heap)\n",
    "- 우선순위 큐(Priority Queue)를 구현하기 위해 사용하는 자료구조 중 하나입니다.\n",
    "- 최소 힙(Min Heap)과 최대 힙(Max Heap)이 있습니다.\n",
    "- 다익스트라 최단 경로 알고리즘을 포합해 다양한 알고리즘에서 사용됩니다."
   ]
  },
  {
   "cell_type": "code",
   "execution_count": 13,
   "id": "fd9751e4",
   "metadata": {},
   "outputs": [
    {
     "name": "stdout",
     "output_type": "stream",
     "text": [
      "[0, 1, 2, 3, 4, 5, 6, 7, 8, 9]\n"
     ]
    }
   ],
   "source": [
    "# 최소 힙\n",
    "import heapq\n",
    "\n",
    "# 오름차순 힙 정렬(Heap sort)\n",
    "def heapsort(iterable):\n",
    "    h = []\n",
    "    result = []\n",
    "    # 모든 원소를 차례대로 힙에 삽입\n",
    "    for value in iterable:\n",
    "        heapq.heappush(h, value)\n",
    "    # 힙에 삽입된 모든 원소를 차례대로 꺼내어 담기\n",
    "    for i in range(len(h)):\n",
    "        result.append(heapq.heappop(h))\n",
    "    return result\n",
    "\n",
    "result = heapsort([1,3,5,7,9,2,4,6,8,0])\n",
    "print(result)"
   ]
  },
  {
   "cell_type": "code",
   "execution_count": 34,
   "id": "5a460cbd",
   "metadata": {
    "scrolled": true
   },
   "outputs": [
    {
     "ename": "KeyboardInterrupt",
     "evalue": "Interrupted by user",
     "output_type": "error",
     "traceback": [
      "\u001b[1;31m---------------------------------------------------------------------------\u001b[0m",
      "\u001b[1;31mKeyboardInterrupt\u001b[0m                         Traceback (most recent call last)",
      "\u001b[1;32m<ipython-input-34-c4fe897aabcb>\u001b[0m in \u001b[0;36m<module>\u001b[1;34m\u001b[0m\n\u001b[0;32m      5\u001b[0m \u001b[1;33m\u001b[0m\u001b[0m\n\u001b[0;32m      6\u001b[0m \u001b[1;31m# 노드의 개수, 간선의 개수를 입력받기\u001b[0m\u001b[1;33m\u001b[0m\u001b[1;33m\u001b[0m\u001b[1;33m\u001b[0m\u001b[0m\n\u001b[1;32m----> 7\u001b[1;33m \u001b[0mn\u001b[0m\u001b[1;33m,\u001b[0m \u001b[0mm\u001b[0m \u001b[1;33m=\u001b[0m \u001b[0mmap\u001b[0m\u001b[1;33m(\u001b[0m\u001b[0mint\u001b[0m\u001b[1;33m,\u001b[0m \u001b[0minput\u001b[0m\u001b[1;33m(\u001b[0m\u001b[1;33m)\u001b[0m\u001b[1;33m.\u001b[0m\u001b[0msplit\u001b[0m\u001b[1;33m(\u001b[0m\u001b[1;33m)\u001b[0m\u001b[1;33m)\u001b[0m\u001b[1;33m\u001b[0m\u001b[1;33m\u001b[0m\u001b[0m\n\u001b[0m\u001b[0;32m      8\u001b[0m \u001b[1;31m# 시작 노드 번호를 입력받기\u001b[0m\u001b[1;33m\u001b[0m\u001b[1;33m\u001b[0m\u001b[1;33m\u001b[0m\u001b[0m\n\u001b[0;32m      9\u001b[0m \u001b[0mstart\u001b[0m \u001b[1;33m=\u001b[0m \u001b[0mint\u001b[0m\u001b[1;33m(\u001b[0m\u001b[0minput\u001b[0m\u001b[1;33m(\u001b[0m\u001b[1;33m)\u001b[0m\u001b[1;33m)\u001b[0m\u001b[1;33m\u001b[0m\u001b[1;33m\u001b[0m\u001b[0m\n",
      "\u001b[1;32m~\\miniconda3\\envs\\multu\\lib\\site-packages\\ipykernel\\kernelbase.py\u001b[0m in \u001b[0;36mraw_input\u001b[1;34m(self, prompt)\u001b[0m\n\u001b[0;32m    858\u001b[0m                 \u001b[1;34m\"raw_input was called, but this frontend does not support input requests.\"\u001b[0m\u001b[1;33m\u001b[0m\u001b[1;33m\u001b[0m\u001b[0m\n\u001b[0;32m    859\u001b[0m             )\n\u001b[1;32m--> 860\u001b[1;33m         return self._input_request(str(prompt),\n\u001b[0m\u001b[0;32m    861\u001b[0m             \u001b[0mself\u001b[0m\u001b[1;33m.\u001b[0m\u001b[0m_parent_ident\u001b[0m\u001b[1;33m,\u001b[0m\u001b[1;33m\u001b[0m\u001b[1;33m\u001b[0m\u001b[0m\n\u001b[0;32m    862\u001b[0m             \u001b[0mself\u001b[0m\u001b[1;33m.\u001b[0m\u001b[0m_parent_header\u001b[0m\u001b[1;33m,\u001b[0m\u001b[1;33m\u001b[0m\u001b[1;33m\u001b[0m\u001b[0m\n",
      "\u001b[1;32m~\\miniconda3\\envs\\multu\\lib\\site-packages\\ipykernel\\kernelbase.py\u001b[0m in \u001b[0;36m_input_request\u001b[1;34m(self, prompt, ident, parent, password)\u001b[0m\n\u001b[0;32m    902\u001b[0m             \u001b[1;32mexcept\u001b[0m \u001b[0mKeyboardInterrupt\u001b[0m\u001b[1;33m:\u001b[0m\u001b[1;33m\u001b[0m\u001b[1;33m\u001b[0m\u001b[0m\n\u001b[0;32m    903\u001b[0m                 \u001b[1;31m# re-raise KeyboardInterrupt, to truncate traceback\u001b[0m\u001b[1;33m\u001b[0m\u001b[1;33m\u001b[0m\u001b[1;33m\u001b[0m\u001b[0m\n\u001b[1;32m--> 904\u001b[1;33m                 \u001b[1;32mraise\u001b[0m \u001b[0mKeyboardInterrupt\u001b[0m\u001b[1;33m(\u001b[0m\u001b[1;34m\"Interrupted by user\"\u001b[0m\u001b[1;33m)\u001b[0m \u001b[1;32mfrom\u001b[0m \u001b[1;32mNone\u001b[0m\u001b[1;33m\u001b[0m\u001b[1;33m\u001b[0m\u001b[0m\n\u001b[0m\u001b[0;32m    905\u001b[0m             \u001b[1;32mexcept\u001b[0m \u001b[0mException\u001b[0m \u001b[1;32mas\u001b[0m \u001b[0me\u001b[0m\u001b[1;33m:\u001b[0m\u001b[1;33m\u001b[0m\u001b[1;33m\u001b[0m\u001b[0m\n\u001b[0;32m    906\u001b[0m                 \u001b[0mself\u001b[0m\u001b[1;33m.\u001b[0m\u001b[0mlog\u001b[0m\u001b[1;33m.\u001b[0m\u001b[0mwarning\u001b[0m\u001b[1;33m(\u001b[0m\u001b[1;34m\"Invalid Message:\"\u001b[0m\u001b[1;33m,\u001b[0m \u001b[0mexc_info\u001b[0m\u001b[1;33m=\u001b[0m\u001b[1;32mTrue\u001b[0m\u001b[1;33m)\u001b[0m\u001b[1;33m\u001b[0m\u001b[1;33m\u001b[0m\u001b[0m\n",
      "\u001b[1;31mKeyboardInterrupt\u001b[0m: Interrupted by user"
     ]
    }
   ],
   "source": [
    "# 힙을 사용한 개선된 구현방법\n",
    "import heapq\n",
    "INF = int(1e9) #무한을 의미하는 값으로 10억을 설정\n",
    "\n",
    "# 노드의 개수, 간선의 개수를 입력받기\n",
    "n, m = map(int, input().split())\n",
    "# 시작 노드 번호를 입력받기\n",
    "start = int(input())\n",
    "# 각 노드에 연결되어 있는 노드에 대한 정보를 담는 리스트를 만들기\n",
    "graph = [[] for i in range(n+1)]\n",
    "\n",
    "# 최단 거리 테이블을 모두 무한으로 초기화\n",
    "distance = [INF] * (n+1)\n",
    "\n",
    "# 모든 간선 정보를 입력받기\n",
    "for _ in range(m):\n",
    "    a, b, c = map(int, input().split())\n",
    "    # a번 노드에서 b번 노드로 가는 비용이 c라는 의미\n",
    "    graph[a].append((b,c))\n",
    "\n",
    "    \n",
    "def dijkstra(start):\n",
    "    q=[]\n",
    "    # 시작 노드로 가기위한 최단 경로는 0으로 설정하여, 큐에 삽입\n",
    "    heapq.headpush(q,(0, start))\n",
    "    distance[start] = 0\n",
    "    while q: # 큐가 비어있지 않다면\n",
    "        # 가장 최단 거리가 짧은 노드에 대한 정보 꺼내기\n",
    "        dist, now = heapq.heappop(q)\n",
    "        # 현재 노드가 이미 처리된 적이 있는 노드라면 무시\n",
    "        if distance[now] < dist:\n",
    "            continue\n",
    "        # 현재 노드를 거쳐서, 다른 노드로 이동하는 거리가 더 짧은 경우\n",
    "        for j in graph[now]:\n",
    "            cost = distance[now] + j[1]\n",
    "            # 현재 노드를 거쳐서 다른 노드로 이동하는 거리가 더 짧은 경우\n",
    "            if cost < distance[j[0]]:\n",
    "                distance[j[0]] = cost\n",
    "                heapq.heappush(q, (cost, i[0]))\n",
    "\n",
    "#다익스트라 알고리즘 실행\n",
    "dijkstra(start)\n",
    "\n",
    "# 모든 노드로 가기 위한 최단 거리를 출력\n",
    "for i in range(1,n+1):\n",
    "    # 도달 할 수 없는 경우, 무한이라고 출력\n",
    "    if distance[i] == INF:\n",
    "        print('무한')\n",
    "    else:\n",
    "        print(distance[i])"
   ]
  },
  {
   "cell_type": "markdown",
   "id": "722396e5",
   "metadata": {},
   "source": [
    "### 플로이드 워셜 알고리즘\n",
    "- 모든 노드에서 다른 모든 노드까지의 최단 경로를 모두 계산합니다.(N대N)\n",
    "- 플로이드 워셜(floyd-warshall)알고리즘은 다익스트라 알고리즘과 마찬가지로 단계별로 거쳐 가는 노드를 기준으로 알고리즘을 수행합니다.\n",
    "    - 다만 매 단계마다 방문하지 않은 노드 중에 최단 거리를 갖는 노드를 찾는 과정이 필요하지 않습니다.\n",
    "- 플로이드 워셜은 2차원 테이블에 최단 거리 정보를 저장합니다.\n",
    "- 플로이드 워셜 알고리즘은 다이나믹 프로그래밍 유형에 속합니다.\n",
    "- 각 단계마다 특정한 노드 K를 거쳐 가는 경우를 확인합니다.\n",
    "    - a에서 b로 가는 최단 거리보다 a에서 k를 거쳐 b로 가는 거리가 더 짧은지 검사합니다.\n",
    "    - Dab = min(Dab, Dak + Dkb)"
   ]
  },
  {
   "cell_type": "code",
   "execution_count": null,
   "id": "9ff602f3",
   "metadata": {},
   "outputs": [
    {
     "ename": "KeyboardInterrupt",
     "evalue": "Interrupted by user",
     "output_type": "error",
     "traceback": [
      "\u001b[1;31m---------------------------------------------------------------------------\u001b[0m",
      "\u001b[1;31mKeyboardInterrupt\u001b[0m                         Traceback (most recent call last)",
      "\u001b[1;32m<ipython-input-35-f3e40d864481>\u001b[0m in \u001b[0;36m<module>\u001b[1;34m\u001b[0m\n\u001b[0;32m      2\u001b[0m \u001b[1;33m\u001b[0m\u001b[0m\n\u001b[0;32m      3\u001b[0m \u001b[1;31m# 노드의 개수 및 간선의 개수를 입력받기\u001b[0m\u001b[1;33m\u001b[0m\u001b[1;33m\u001b[0m\u001b[1;33m\u001b[0m\u001b[0m\n\u001b[1;32m----> 4\u001b[1;33m \u001b[0mn\u001b[0m \u001b[1;33m=\u001b[0m \u001b[0mint\u001b[0m\u001b[1;33m(\u001b[0m\u001b[0minput\u001b[0m\u001b[1;33m(\u001b[0m\u001b[1;33m)\u001b[0m\u001b[1;33m)\u001b[0m\u001b[1;33m\u001b[0m\u001b[1;33m\u001b[0m\u001b[0m\n\u001b[0m\u001b[0;32m      5\u001b[0m \u001b[0mm\u001b[0m \u001b[1;33m=\u001b[0m \u001b[0mint\u001b[0m\u001b[1;33m(\u001b[0m\u001b[0minput\u001b[0m\u001b[1;33m(\u001b[0m\u001b[1;33m)\u001b[0m\u001b[1;33m)\u001b[0m\u001b[1;33m\u001b[0m\u001b[1;33m\u001b[0m\u001b[0m\n\u001b[0;32m      6\u001b[0m \u001b[1;31m# 2차원 리스트(그래프 표현)를 만들고, 무한으로 초기화\u001b[0m\u001b[1;33m\u001b[0m\u001b[1;33m\u001b[0m\u001b[1;33m\u001b[0m\u001b[0m\n",
      "\u001b[1;32m~\\miniconda3\\envs\\multu\\lib\\site-packages\\ipykernel\\kernelbase.py\u001b[0m in \u001b[0;36mraw_input\u001b[1;34m(self, prompt)\u001b[0m\n\u001b[0;32m    858\u001b[0m                 \u001b[1;34m\"raw_input was called, but this frontend does not support input requests.\"\u001b[0m\u001b[1;33m\u001b[0m\u001b[1;33m\u001b[0m\u001b[0m\n\u001b[0;32m    859\u001b[0m             )\n\u001b[1;32m--> 860\u001b[1;33m         return self._input_request(str(prompt),\n\u001b[0m\u001b[0;32m    861\u001b[0m             \u001b[0mself\u001b[0m\u001b[1;33m.\u001b[0m\u001b[0m_parent_ident\u001b[0m\u001b[1;33m,\u001b[0m\u001b[1;33m\u001b[0m\u001b[1;33m\u001b[0m\u001b[0m\n\u001b[0;32m    862\u001b[0m             \u001b[0mself\u001b[0m\u001b[1;33m.\u001b[0m\u001b[0m_parent_header\u001b[0m\u001b[1;33m,\u001b[0m\u001b[1;33m\u001b[0m\u001b[1;33m\u001b[0m\u001b[0m\n",
      "\u001b[1;32m~\\miniconda3\\envs\\multu\\lib\\site-packages\\ipykernel\\kernelbase.py\u001b[0m in \u001b[0;36m_input_request\u001b[1;34m(self, prompt, ident, parent, password)\u001b[0m\n\u001b[0;32m    902\u001b[0m             \u001b[1;32mexcept\u001b[0m \u001b[0mKeyboardInterrupt\u001b[0m\u001b[1;33m:\u001b[0m\u001b[1;33m\u001b[0m\u001b[1;33m\u001b[0m\u001b[0m\n\u001b[0;32m    903\u001b[0m                 \u001b[1;31m# re-raise KeyboardInterrupt, to truncate traceback\u001b[0m\u001b[1;33m\u001b[0m\u001b[1;33m\u001b[0m\u001b[1;33m\u001b[0m\u001b[0m\n\u001b[1;32m--> 904\u001b[1;33m                 \u001b[1;32mraise\u001b[0m \u001b[0mKeyboardInterrupt\u001b[0m\u001b[1;33m(\u001b[0m\u001b[1;34m\"Interrupted by user\"\u001b[0m\u001b[1;33m)\u001b[0m \u001b[1;32mfrom\u001b[0m \u001b[1;32mNone\u001b[0m\u001b[1;33m\u001b[0m\u001b[1;33m\u001b[0m\u001b[0m\n\u001b[0m\u001b[0;32m    905\u001b[0m             \u001b[1;32mexcept\u001b[0m \u001b[0mException\u001b[0m \u001b[1;32mas\u001b[0m \u001b[0me\u001b[0m\u001b[1;33m:\u001b[0m\u001b[1;33m\u001b[0m\u001b[1;33m\u001b[0m\u001b[0m\n\u001b[0;32m    906\u001b[0m                 \u001b[0mself\u001b[0m\u001b[1;33m.\u001b[0m\u001b[0mlog\u001b[0m\u001b[1;33m.\u001b[0m\u001b[0mwarning\u001b[0m\u001b[1;33m(\u001b[0m\u001b[1;34m\"Invalid Message:\"\u001b[0m\u001b[1;33m,\u001b[0m \u001b[0mexc_info\u001b[0m\u001b[1;33m=\u001b[0m\u001b[1;32mTrue\u001b[0m\u001b[1;33m)\u001b[0m\u001b[1;33m\u001b[0m\u001b[1;33m\u001b[0m\u001b[0m\n",
      "\u001b[1;31mKeyboardInterrupt\u001b[0m: Interrupted by user"
     ]
    }
   ],
   "source": [
    "INF = int(1e9) # 무한을 의미하는 값으로 10억을 설정\n",
    "\n",
    "# 노드의 개수 및 간선의 개수를 입력받기\n",
    "n = int(input())\n",
    "m = int(input())\n",
    "# 2차원 리스트(그래프 표현)를 만들고, 무한으로 초기화\n",
    "graph = [[INF]*(n+1) for _ in range(n+1)]\n",
    "\n",
    "# 자기 자신에서 자기 자신으로 가는 비용은 0으로 초기화\n",
    "for a in range(1, n+1):\n",
    "    for b in range(1, n+1):\n",
    "        if a == b:\n",
    "            graph[a][b] = 0\n",
    "            \n",
    "# 각 간선에 대한 정보를 입력 받아, 그 값으로 초기화\n",
    "for _ in range(m):\n",
    "    # A에서 B로 가는 비용은 C라고 설정\n",
    "    a, b, c = map(int, input().split())\n",
    "    graph[a][b] = c\n",
    "    \n",
    "    # 점화식에 따라 플로이드 워셜 알고리즘을 수행\n",
    "    for k in range(1, n+1):\n",
    "        for a in range(1, n+1):\n",
    "            for b in range(1, n+1):\n",
    "                graph[a][b] = min(graph[a][b], graph[a][k] + graph[k][b])\n",
    "\n",
    "# 수행된 결과를 출력\n",
    "for a in range(1, n+1):\n",
    "    for b in range(1, n+1):\n",
    "        # 도달할 수 없는 경우, 무한(INFINIFY)이라고 출력\n",
    "        if graph[a][b] == INF:\n",
    "            print('INFINITY', end=' ')\n",
    "        # 도달할 수 있는 경우 거리를 출력\n",
    "        else:\n",
    "            print(graph[a][b], end=' ')\n",
    "    print()"
   ]
  },
  {
   "cell_type": "markdown",
   "id": "7db37395",
   "metadata": {},
   "source": [
    "#### 전보\n",
    "- N개의 도시가 존재, 다른 도시로 전보를 보내서 다른 도시로 해당 메시지를 전송가능하다.\n",
    "- X라는 도시에서 Y라는 도시로 전보를 보내고자 한다면, 도시 X에서 Y로 향하는 통로가 설치되어 있어야 한다. 통로를 거쳐 메시지를 보낼 때는 일정 시간이 소요된다.\n",
    "- C라는 도시에서 위급 상황이 방생, 메시지는 도시 C에서 출발하여 각 도시 사이에 설치된 통로를 거쳐, 최대한 많이 퍼져나갈 것이다.\n",
    "- C에서 보낸 메시지를 받게 되는 도시의 개수와 모두 메시지를 받는데까지 걸리는 시간 계산\n",
    "1. 첫째 줄에 도시의 개수 N, 통로의 개수 M, 메시지를 보내고자 하는 도시 C가 주어진다.\n",
    " - (1<=N<=30000 , 1<=M<=200000, 1<=C<=N)\n",
    "2. 둘째 줄부터 M + 1번째 줄에 걸쳐서 통로에 대한 정보 X,Y,Z가 주어진다. 이는 특정 도시 X에서 다른 특정 도시 X에서 다른 특정 도시 Y로 이어지는 통로가 있으며, 메시지가 전달되는 시간이 Z라는 의미다.\n",
    " - (1<=X,Y<=N, 1<=Z<=1000)"
   ]
  },
  {
   "cell_type": "code",
   "execution_count": 3,
   "id": "b063facf",
   "metadata": {},
   "outputs": [
    {
     "name": "stdout",
     "output_type": "stream",
     "text": [
      "3 2 1 \n",
      "1 2 4\n",
      "1 3 2\n",
      "2 4\n"
     ]
    }
   ],
   "source": [
    "#my code 플로이드 워셜 방식\n",
    "INF = int(1e9)\n",
    "n, m, c = map(int, input().split())\n",
    "graph = [[INF]*(n+1) for _ in range(n+1)]\n",
    "\n",
    "for a in range(n+1):\n",
    "    for b in range(n+1):\n",
    "        if a==b:\n",
    "            graph[a][b] = 0\n",
    "\n",
    "for i in range(m):\n",
    "    a,b,c = map(int, input().split())\n",
    "    graph[a][b] = c\n",
    "    \n",
    "for k in range(n+1):\n",
    "    for a in range(n+1):\n",
    "        for b in range(n+1):\n",
    "            graph[a][b] = min(graph[a][b], graph[a][k]+graph[k][b])\n",
    "\n",
    "result = []\n",
    "cnt = 0\n",
    "for i in range(n+1):\n",
    "    for j in range(n+1):\n",
    "        if graph[i][j] != INF and graph[i][j] != 0: \n",
    "            cnt += 1\n",
    "            result.append(graph[i][j])\n",
    "print(cnt, max(result))"
   ]
  },
  {
   "cell_type": "code",
   "execution_count": 15,
   "id": "057c1776",
   "metadata": {},
   "outputs": [
    {
     "name": "stdout",
     "output_type": "stream",
     "text": [
      "3 2 1\n",
      "1 2 4\n",
      "1 3 2\n",
      "[[], [(2, 4), (3, 2)], [], []]\n",
      "[1000000000, 0, 4, 1000000000]\n",
      "[1000000000, 0, 4, 2]\n",
      "2 4\n"
     ]
    }
   ],
   "source": [
    "#Tutor code 다익스트라 알고리즘 방식\n",
    "import heapq\n",
    "\n",
    "n, m, c = map(int, input().split())\n",
    "graph = [[] for i in range(n+1)]\n",
    "IFN = int(1e9)\n",
    "distance = [INF] * (n+1)\n",
    "\n",
    "for i in range(m):\n",
    "    x, y, z = map(int, input().split())\n",
    "    graph[x].append((y,z))\n",
    "print(graph)\n",
    "\n",
    "def dijkstra(start):\n",
    "    q = []\n",
    "    heapq.heappush(q, (0, start))\n",
    "    distance[start] = 0\n",
    "    \n",
    "    while q:\n",
    "        dist, now = heapq.heappop(q)\n",
    "        if distance[now] < dist:\n",
    "            continue\n",
    "            \n",
    "        for i in graph[now]:\n",
    "            cost = dist + i[1]\n",
    "            if cost < distance[i[0]]:\n",
    "                distance[i[0]] = cost\n",
    "                heapq.heappush(q, (cost, i[0]))\n",
    "\n",
    "dijkstra(c)\n",
    "\n",
    "cnt = 0\n",
    "max_d = 0\n",
    "for d in distance:\n",
    "    if d != 1e9 and d != 0:\n",
    "        cnt += 1\n",
    "        max_d = max(max_d, d)\n",
    "\n",
    "print(cnt, max_d)"
   ]
  },
  {
   "cell_type": "markdown",
   "id": "0e3ce3b1",
   "metadata": {},
   "source": [
    "#### 미래도시\n",
    "- 미래 도시에는 1번부터 N번까지의 회사가 있는데 특정 회사끼리는 서로 도로를 통해 연결되어있다. 방판원 A는 현재 1번 회사에 위치해 있으며, X번 회사에 방문해 물건을 판매하고자 한다.\n",
    "- 특정 회사에 도착하기 위한 방법은 회사끼리 연결되어 있는 도로를 이용하는 방법이 유일하다. 또한 연결된 2개의 회사는 양방향으로 이동 할 수 있다. 모든 회사는 도로를 통해 1시간으로 이동할 수 있다.\n",
    "- 1번 회사에서 출발하여 K번 회사를 방문한 후 X번 회사로 가는 것이 목표이다.\n",
    "- 방판원이 회사 사이를 이동하게 되는 최소 시간을 계산하시오.\n",
    "\n",
    "1. 첫 째줄에 전체 회사의 개수 N과 경로의 개수 M이 공백으로 구분되어 주어진다.\n",
    "2. 둘 째줄부터 M+1번째 줄에는 연결된 두 회사의 번호가 공백으로 구분되어 주어진다.\n",
    "3. M+2번째 줄에는 X와 K가 공백으로 구분되어 차례대로 주어진다."
   ]
  },
  {
   "cell_type": "code",
   "execution_count": 15,
   "id": "b423bf92",
   "metadata": {},
   "outputs": [
    {
     "name": "stdout",
     "output_type": "stream",
     "text": [
      "5 7\n",
      "1 2\n",
      "1 3\n",
      "1 4\n",
      "2 4\n",
      "3 4\n",
      "4 5\n",
      "4 5\n",
      "4 5\n",
      "3\n"
     ]
    }
   ],
   "source": [
    "#my code 다익스트라 힙알고리즘 활용\n",
    "import heapq\n",
    "INF = int(1e9)\n",
    "min_k = 0\n",
    "min_x = 0\n",
    "\n",
    "n,m = map(int, input().split())\n",
    "start = 1\n",
    "\n",
    "graph = [[] for i in range(n+1)]\n",
    "distance = [INF] * (n+1)\n",
    "\n",
    "# 모든 간선 정보를 입력받기\n",
    "for _ in range(m):\n",
    "    a, b = map(int, input().split())\n",
    "    graph[a].append((b,1))\n",
    "\n",
    "x,k = map(int, input().split())\n",
    "                    \n",
    "def dijkstra(start):\n",
    "    q = []\n",
    "    heapq.heappush(q, (0, start))\n",
    "    distance[start] = 0\n",
    "    while q:\n",
    "        dist, now = heapq.heappop(q)\n",
    "        if distance[now] < dist:\n",
    "            continue\n",
    "        \n",
    "        for i in graph[now]:\n",
    "            cost = dist + i[1]\n",
    "            if cost < distance[i[0]]:\n",
    "                distance[i[0]] = cost\n",
    "                heapq.heappush(q, (cost, i[0]))\n",
    "\n",
    "dijkstra(start)\n",
    "if distance[k] == INF:\n",
    "    print('-1')\n",
    "else:\n",
    "    min_k = distance[k]\n",
    "    \n",
    "dijkstra(k)\n",
    "if distance[x] == INF:\n",
    "    print('-1')\n",
    "else:\n",
    "    min_x = distance[x]\n",
    "\n",
    "print(min_k+min_x)"
   ]
  },
  {
   "cell_type": "code",
   "execution_count": null,
   "id": "dfa5d056",
   "metadata": {},
   "outputs": [],
   "source": []
  }
 ],
 "metadata": {
  "kernelspec": {
   "display_name": "Python 3",
   "language": "python",
   "name": "python3"
  },
  "language_info": {
   "codemirror_mode": {
    "name": "ipython",
    "version": 3
   },
   "file_extension": ".py",
   "mimetype": "text/x-python",
   "name": "python",
   "nbconvert_exporter": "python",
   "pygments_lexer": "ipython3",
   "version": "3.8.10"
  }
 },
 "nbformat": 4,
 "nbformat_minor": 5
}
