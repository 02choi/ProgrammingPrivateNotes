{
 "cells": [
  {
   "cell_type": "code",
   "execution_count": 71,
   "id": "ea905eb1",
   "metadata": {},
   "outputs": [
    {
     "name": "stdout",
     "output_type": "stream",
     "text": [
      "[5, 6, 3]\n"
     ]
    }
   ],
   "source": [
    "def solution(array, commands):\n",
    "    answer = []\n",
    "    for ijk in commands:\n",
    "        i,j,k = ijk\n",
    "        \n",
    "        cut = array[i-1:j]\n",
    "        cut.sort()\n",
    "        answer.append(cut[k-1])\n",
    "    return answer\n",
    "array = [1, 5, 2, 6, 3, 7, 4]\n",
    "commands = [[2, 5, 3], [4, 4, 1], [1, 7, 3]]\n",
    "\n",
    "print(solution(array, commands))"
   ]
  },
  {
   "cell_type": "code",
   "execution_count": 82,
   "id": "c0cb2de0",
   "metadata": {},
   "outputs": [
    {
     "data": {
      "text/plain": [
       "9534330"
      ]
     },
     "execution_count": 82,
     "metadata": {},
     "output_type": "execute_result"
    }
   ],
   "source": [
    "def solution(numbers):\n",
    "    answer = []\n",
    "    number = sorted(list(map(str, numbers)), key=lambda x: x*3, reverse=True)\n",
    "    answer = int(''.join(number))\n",
    "    return answer\n",
    "numbers = [3, 30, 34, 5, 9]\n",
    "solution(numbers)"
   ]
  },
  {
   "cell_type": "code",
   "execution_count": 106,
   "id": "84e6e431",
   "metadata": {},
   "outputs": [
    {
     "name": "stdout",
     "output_type": "stream",
     "text": [
      "3\n",
      "3\n",
      "2\n",
      "4\n"
     ]
    }
   ],
   "source": [
    "def solution(citations):\n",
    "    answer = 0    \n",
    "    chk = [0] * max(citations)\n",
    "    for i in range(1, max(citations)):\n",
    "        for j in citations:\n",
    "            if j >= i:\n",
    "                chk[i] += 1\n",
    "        if chk[i] >= i and i > answer:\n",
    "            answer = i\n",
    "    return answer\n",
    "        \n",
    "citations1 = [3, 0, 6, 1, 5] #3\n",
    "citations2 = [20, 19, 18, 1] #3\n",
    "citations3 = [22, 42] #2\n",
    "citations4 = [5, 5, 5, 5] #4\n",
    "print(solution(citations1))\n",
    "print(solution(citations2))\n",
    "print(solution(citations3))\n",
    "print(solution(citations4))"
   ]
  },
  {
   "cell_type": "code",
   "execution_count": 128,
   "id": "1b9b9dca",
   "metadata": {},
   "outputs": [
    {
     "name": "stdout",
     "output_type": "stream",
     "text": [
      "[6, 5, 3, 1, 0]\n",
      "3\n",
      "[20, 19, 18, 1]\n",
      "3\n",
      "[42, 22]\n",
      "2\n",
      "[5, 5, 5, 5]\n",
      "4\n"
     ]
    }
   ],
   "source": [
    "def solution(citations):\n",
    "    citations.sort(reverse=True)\n",
    "    print(citations)\n",
    "    answer = max(map(min, enumerate(citations, start=1)))\n",
    "    return answer\n",
    "\n",
    "citations1 = [3, 0, 6, 1, 5] #3\n",
    "citations2 = [20, 19, 18, 1] #3\n",
    "citations3 = [22, 42] #2\n",
    "citations4 = [5, 5, 5, 5] #4\n",
    "print(solution(citations1))\n",
    "print(solution(citations2))\n",
    "print(solution(citations3))\n",
    "print(solution(citations4))"
   ]
  },
  {
   "cell_type": "code",
   "execution_count": 129,
   "id": "e3eeb278",
   "metadata": {},
   "outputs": [
    {
     "data": {
      "text/plain": [
       "4"
      ]
     },
     "execution_count": 129,
     "metadata": {},
     "output_type": "execute_result"
    }
   ],
   "source": [
    "max(map(min, enumerate([5,5,5,5], start=1)))"
   ]
  },
  {
   "cell_type": "code",
   "execution_count": null,
   "id": "34d6c4a3",
   "metadata": {},
   "outputs": [],
   "source": []
  }
 ],
 "metadata": {
  "kernelspec": {
   "display_name": "Python 3",
   "language": "python",
   "name": "python3"
  },
  "language_info": {
   "codemirror_mode": {
    "name": "ipython",
    "version": 3
   },
   "file_extension": ".py",
   "mimetype": "text/x-python",
   "name": "python",
   "nbconvert_exporter": "python",
   "pygments_lexer": "ipython3",
   "version": "3.8.10"
  }
 },
 "nbformat": 4,
 "nbformat_minor": 5
}
