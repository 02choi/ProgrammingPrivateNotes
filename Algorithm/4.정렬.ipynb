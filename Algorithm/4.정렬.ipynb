{
 "cells": [
  {
   "cell_type": "markdown",
   "id": "57d08683",
   "metadata": {},
   "source": [
    "#### 정렬 알고리즘\n",
    "- 정렬(sorting)이란 데이터를 특정 기준에 따라 순서대로 나열하는 것을 말합니다.\n",
    "- 일반적으로 문제 상황에 따라서 적절한 정렬 알고리즘이 공식처럼 사용됩니다."
   ]
  },
  {
   "cell_type": "markdown",
   "id": "cee33fca",
   "metadata": {},
   "source": [
    "#### 선택정렬\n",
    "- 처리되지 않은 데이터 중에서 가장 작은 데이터를 선택해 맨 앞에 있는 데이터와 바꾸는 것을 반복"
   ]
  },
  {
   "cell_type": "code",
   "execution_count": 26,
   "id": "2d5794c4",
   "metadata": {},
   "outputs": [
    {
     "name": "stdout",
     "output_type": "stream",
     "text": [
      "[0, 1, 2, 3, 4, 5, 6, 7, 8, 9]\n"
     ]
    }
   ],
   "source": [
    "#선택정렬 => 오름차순 정렬\n",
    "a=[7,5,9,0,3,1,6,2,4,8]\n",
    "for i in range(len(a)):\n",
    "    m = i\n",
    "    for j in range(i+1, len(a)):\n",
    "        if a[m] > a[j]:\n",
    "            m = j\n",
    "    a[i],a[m] = a[m],a[i]\n",
    "print(a)"
   ]
  },
  {
   "cell_type": "code",
   "execution_count": 27,
   "id": "8344c00b",
   "metadata": {},
   "outputs": [
    {
     "name": "stdout",
     "output_type": "stream",
     "text": [
      "[9, 8, 7, 6, 5, 4, 3, 2, 1, 0]\n"
     ]
    }
   ],
   "source": [
    "# 내림차순도 정렬가능\n",
    "a=[7,5,9,0,3,1,6,2,4,8]\n",
    "for i in range(len(a)):\n",
    "    m = i\n",
    "    for j in range(i+1, len(a)):\n",
    "        if a[m] < a[j]:\n",
    "            m = j\n",
    "    a[i],a[m] = a[m],a[i]\n",
    "print(a)"
   ]
  },
  {
   "cell_type": "markdown",
   "id": "215d4067",
   "metadata": {},
   "source": [
    "#### 삽입 정렬\n",
    "- 처리되지 않은 데이터를 하나씩 골라 적절한 위치에 삽입합니다.\n",
    "- 선택 정렬에 비해 구현 난이도가 높은 편이지만, 일반적으로 더 효율적으로 동작합니다."
   ]
  },
  {
   "cell_type": "code",
   "execution_count": 39,
   "id": "d5e88f8d",
   "metadata": {},
   "outputs": [
    {
     "name": "stdout",
     "output_type": "stream",
     "text": [
      "[0, 1, 2, 3, 4, 5, 6, 7, 8, 9]\n"
     ]
    }
   ],
   "source": [
    "a=[7,5,9,0,3,1,6,2,4,8]\n",
    "\n",
    "for i in range(1, len(a)):\n",
    "    for j in range(i, 0, -1): #인데스 i부터 1까지 -1씩 감소하며 반복하는 문법\n",
    "        if a[j] < a[j-1]:\n",
    "            a[j], a[j-1] = a[j-1],a[j]\n",
    "        else:\n",
    "            break\n",
    "print(a)"
   ]
  },
  {
   "cell_type": "markdown",
   "id": "9b692ad8",
   "metadata": {},
   "source": [
    "#### 퀵 정렬\n",
    "- 기준 데이터를 설정하고 그 기준보다 큰 데이터와 작은 데이터의 위치를 바꾸는 방법입니다.\n",
    "- 일반적인 상황에서 가장 많이 사용되는 정렬 알고리즘 중 하나 입니다.\n",
    "- 병합 정렬과 더불에 대부분의 프로그래밍 언어의 정렬 라이브러리의 근간이 되는 알고리즘 입니다.\n",
    "- 가장 기본적인 퀵정렬인 첫 번째 데이터를 기준 데이터(pivot)로 설정합니다.\n",
    "- 피벗을 기준으로 데이터 묶음을 나누는 작업을 분할이라고 한다."
   ]
  },
  {
   "cell_type": "code",
   "execution_count": 35,
   "id": "93fd44ad",
   "metadata": {},
   "outputs": [
    {
     "name": "stdout",
     "output_type": "stream",
     "text": [
      "[0, 1, 2, 3, 4, 5, 6, 7, 8, 9]\n"
     ]
    }
   ],
   "source": [
    "a=[5,7,0,3,1,6,2,4,8]\n",
    "\n",
    "def quick_sort(a, start, end):\n",
    "    if start >= end:\n",
    "        return\n",
    "    pivot = start\n",
    "    left = start + 1\n",
    "    right = end\n",
    "    while left <= right:\n",
    "        while left <= end and a[left] <= a[pivot]:\n",
    "            left += 1\n",
    "        while right > start and a[right] >= a[pivot]:\n",
    "            right -= 1\n",
    "        if left > right:\n",
    "            a[right], a[pivot] = a[pivot], a[right]\n",
    "        else:\n",
    "            a[left], a[right] = a[right], a[left]\n",
    "    quick_sort(a, start, right-1)\n",
    "    quick_sort(a, right+1, end)\n",
    "quick_sort(a, 0, len(a)-1)\n",
    "print(a)"
   ]
  },
  {
   "cell_type": "markdown",
   "id": "a0418046",
   "metadata": {},
   "source": [
    "- 파이썬의 장점을 살린 방식"
   ]
  },
  {
   "cell_type": "code",
   "execution_count": 37,
   "id": "70106fe6",
   "metadata": {},
   "outputs": [
    {
     "name": "stdout",
     "output_type": "stream",
     "text": [
      "[0, 1, 2, 3, 4, 5, 6, 7, 8]\n"
     ]
    }
   ],
   "source": [
    "a=[5,7,0,3,1,6,2,4,8]\n",
    "\n",
    "def quick_sort(a):\n",
    "    if len(a) <= 1:\n",
    "        return a\n",
    "    \n",
    "    pivot = a[0]\n",
    "    tail = a[1:]\n",
    "    \n",
    "    left_side = [x for x in tail if x <= pivot]\n",
    "    right_side = [x for x in tail if x > pivot]\n",
    "    \n",
    "    return quick_sort(left_side) + [pivot] + quick_sort(right_side)\n",
    "\n",
    "print(quick_sort(a))"
   ]
  },
  {
   "cell_type": "markdown",
   "id": "6c034b60",
   "metadata": {},
   "source": [
    "#### 계수 정렬\n",
    "- 특정한 조건이 부합할 때만 사용할 수 있지만 매우 빠르게 동작하는 정렬 알고리즘\n",
    "- 계수 정렬은 데이터의 크기 범위가 제한되어 정수 형태로 표현할 수 있을 때 사용 가능합니다.\n",
    "- 데이터의 개수가 N, 데이터(양수)중 최댓값이 K일 때 최악의 경우에서 수행시간 O(N+K)를 보장합니다.\n",
    "- 데이터가 극단적으로 분포되었을 경우 비효율적으로 동작함\n",
    "- 동일한 값을 가지는 데이터가 여러 개 등장 할 때 효과적으로 사용가능 e.g)성적"
   ]
  },
  {
   "cell_type": "code",
   "execution_count": 42,
   "id": "6ac07d20",
   "metadata": {},
   "outputs": [
    {
     "name": "stdout",
     "output_type": "stream",
     "text": [
      "[0, 0, 0, 0, 0, 0, 0, 0, 0, 0]\n",
      "0 0 1 1 2 2 3 4 5 5 6 7 8 9 9 "
     ]
    }
   ],
   "source": [
    "a=[7,5,9,0,3,1,6,2,9,1,4,8,0,5,2]\n",
    "\n",
    "cnt = [0] * (max(a) + 1)\n",
    "print(cnt)\n",
    "for i in range(len(a)):\n",
    "    cnt[a[i]] += 1\n",
    "\n",
    "for i in range(len(cnt)):\n",
    "    for j in range(cnt[i]):\n",
    "        print(i, end=' ')"
   ]
  },
  {
   "cell_type": "markdown",
   "id": "97f780c1",
   "metadata": {},
   "source": [
    "#### 두 배열의 원소 교체\n",
    "- 배열 A, B 각각 N개의 원소로 구성, 요소는 모두 자연수\n",
    "- 최대 K번의 바꿔치기 연산을 수행가능, 바꿔치기 연산이란 배열 A에 있는 요소 하나와 배열 B에 있는 원소 하나를 골라 서로 바꾸는 것을 의미\n",
    "- 배열 A의 모든 원소의 합이 최대가 되도록 하는 것이 목표\n",
    "- N, K, 그리고 배열 A와 B의 정보가 주어졌을 때, 최대 K번의 바꿔치기 연산을 수행하여 만들 수 있는 배열 A의 모든 원소의 합의 최댓값을 출력하는 프로그램을 작상하시오."
   ]
  },
  {
   "cell_type": "code",
   "execution_count": 63,
   "id": "8e6057cd",
   "metadata": {},
   "outputs": [
    {
     "name": "stdout",
     "output_type": "stream",
     "text": [
      "5\n",
      "3\n",
      "12543\n",
      "55665\n",
      "26\n"
     ]
    }
   ],
   "source": [
    "# 퀵 정렬 사용 코드\n",
    "N = int(input())\n",
    "K = int(input())\n",
    "A = list(map(int,input()))\n",
    "B = list(map(int,input()))\n",
    "result = 0\n",
    "\n",
    "def quick_sort(a):\n",
    "    if len(a) <= 1:\n",
    "        return a\n",
    "    \n",
    "    pivot = a[0]\n",
    "    tail = a[1:]\n",
    "    \n",
    "    left_side = [x for x in tail if x <= pivot]\n",
    "    right_side = [x for x in tail if x > pivot]\n",
    "    \n",
    "    return quick_sort(left_side) + [pivot] + quick_sort(right_side)\n",
    "\n",
    "a = quick_sort(A)\n",
    "b = quick_sort(B)\n",
    "b.reverse()\n",
    "\n",
    "for i in range(K):\n",
    "    if a[i] < b[i]:\n",
    "        a[i],  b[i] = b[i], a[i]\n",
    "    else:\n",
    "        break\n",
    "        \n",
    "result = sum(a)\n",
    "print(result)"
   ]
  },
  {
   "cell_type": "code",
   "execution_count": 64,
   "id": "167c73c0",
   "metadata": {
    "scrolled": true
   },
   "outputs": [
    {
     "name": "stdout",
     "output_type": "stream",
     "text": [
      "5\n",
      "3\n",
      "12543\n",
      "55665\n",
      "26\n"
     ]
    }
   ],
   "source": [
    "# 내장 함수 사용 코드\n",
    "N = int(input())\n",
    "K = int(input())\n",
    "A = list(map(int,input()))\n",
    "B = list(map(int,input()))\n",
    "result = 0\n",
    "\n",
    "A.sort()\n",
    "B.sort()\n",
    "B.reverse()\n",
    "\n",
    "for i in range(K):\n",
    "    if A[i] < B[i]:\n",
    "        A[i],  B[i] = B[i], A[i]\n",
    "    else:\n",
    "        break\n",
    "        \n",
    "result = sum(A)\n",
    "print(result)"
   ]
  },
  {
   "cell_type": "markdown",
   "id": "262ee216",
   "metadata": {},
   "source": [
    "#### 위에서 아래로\n",
    "- 첫째 중에 수열에 속해 있는 수의 개수 N이 주어진다.\n",
    "- 둘째 줄부터 N+1번째 줄까지 N개의수가 입력된다. 수의 범위는 1 이상 100,000이하의 자연수이다.\n",
    "- 입력으로 주어진 수열이 내림차순으로 정렬된 결과를 공백으로 구분하여 출력한다. 동일한 수의 순서는 자유롭게 출력해도 괜찮다."
   ]
  },
  {
   "cell_type": "code",
   "execution_count": 66,
   "id": "c0a6e5df",
   "metadata": {},
   "outputs": [
    {
     "name": "stdout",
     "output_type": "stream",
     "text": [
      "3\n",
      "15\n",
      "27\n",
      "12\n",
      "27 15 12 "
     ]
    }
   ],
   "source": [
    "N = int(input())\n",
    "\n",
    "a = []\n",
    "for i in range(N):\n",
    "    a.append(int(input()))\n",
    "\n",
    "a = sorted(a, reverse=True)\n",
    "\n",
    "for i in a:\n",
    "    print(i, end=' ')"
   ]
  },
  {
   "cell_type": "markdown",
   "id": "4fc2043e",
   "metadata": {},
   "source": [
    "#### 성적이 낮은 순서로 학생 출력하기\n",
    "- 첫 번째 줄에 학생의 수 N이 입력된다.\n",
    "- 두 번째 줄부터 N+1번째 줄에는 학생의 이름을 나타내는 문자열 A와 학생의 성적을 나타내는 정수 B가 공백으로 구분되어 입력된다. 문자열 A의 길이와 학생의 성적은 100이하의 자연수이다.\n",
    "- 모든 학생의 이름을 성적이 낮은 순서대로 출력한다. 성적이 동일한 학생들의 순서는 자유롭게 출력하여도 괜찮다."
   ]
  },
  {
   "cell_type": "code",
   "execution_count": 78,
   "id": "239674e4",
   "metadata": {},
   "outputs": [
    {
     "name": "stdout",
     "output_type": "stream",
     "text": [
      "3\n",
      "영두 10\n",
      "길동 20\n",
      "순신 30\n",
      "영두 길동 순신 "
     ]
    }
   ],
   "source": [
    "N = int(input())\n",
    "\n",
    "a=[]\n",
    "for i in range(N):\n",
    "    data = input().split()\n",
    "    a.append((data[0],int(data[1])))\n",
    "\n",
    "a = sorted(a, key=lambda x:x[1])\n",
    "\n",
    "for student in a:\n",
    "    print(student[0], end=' ')"
   ]
  }
 ],
 "metadata": {
  "kernelspec": {
   "display_name": "Python 3",
   "language": "python",
   "name": "python3"
  },
  "language_info": {
   "codemirror_mode": {
    "name": "ipython",
    "version": 3
   },
   "file_extension": ".py",
   "mimetype": "text/x-python",
   "name": "python",
   "nbconvert_exporter": "python",
   "pygments_lexer": "ipython3",
   "version": "3.8.10"
  }
 },
 "nbformat": 4,
 "nbformat_minor": 5
}
