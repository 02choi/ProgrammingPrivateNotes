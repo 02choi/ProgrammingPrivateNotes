{
 "cells": [
  {
   "cell_type": "markdown",
   "id": "53edc907",
   "metadata": {},
   "source": [
    "### 구현\n",
    "- 머릿속에 있는 알고리즘을 소스코드로 바꾸는 과정\n",
    "- 풀이를 떠올리는 것은 쉽지만 소스코드로 옮기기 어려운 문제\n",
    "- 알고리즘은 간단한데 코드가 지나칠 만큼 길어지는 문제\n",
    "- 실수 연산을 다루고, 특정 소수점 자리까지 출력해야하는 문제\n",
    "- 문자열 특정한 기준에 따라서 끊어 처리해야하는 문제\n",
    "- 적절한 라이브러리를 찾아서 사용해야 하는 문제"
   ]
  },
  {
   "cell_type": "code",
   "execution_count": 1,
   "id": "30d3be96",
   "metadata": {},
   "outputs": [
    {
     "name": "stdout",
     "output_type": "stream",
     "text": [
      "( 0 , 0 ) ( 0 , 1 ) ( 0 , 2 ) ( 0 , 3 ) ( 0 , 4 ) \n",
      "( 1 , 0 ) ( 1 , 1 ) ( 1 , 2 ) ( 1 , 3 ) ( 1 , 4 ) \n",
      "( 2 , 0 ) ( 2 , 1 ) ( 2 , 2 ) ( 2 , 3 ) ( 2 , 4 ) \n",
      "( 3 , 0 ) ( 3 , 1 ) ( 3 , 2 ) ( 3 , 3 ) ( 3 , 4 ) \n",
      "( 4 , 0 ) ( 4 , 1 ) ( 4 , 2 ) ( 4 , 3 ) ( 4 , 4 ) \n"
     ]
    }
   ],
   "source": [
    "#2차원 공간 만들기\n",
    "for i in range(5):\n",
    "    for j in range(5):\n",
    "        print('(',i,',',j,')', end=' ')\n",
    "    print()"
   ]
  },
  {
   "cell_type": "code",
   "execution_count": 2,
   "id": "c8540104",
   "metadata": {},
   "outputs": [
    {
     "name": "stdout",
     "output_type": "stream",
     "text": [
      "2 3\n",
      "1 2\n",
      "2 1\n",
      "3 2\n"
     ]
    }
   ],
   "source": [
    "# 동, 북, 서, 남\n",
    "dx=[0,-1,0,1]\n",
    "dy=[1,0,-1,0]\n",
    "\n",
    "#현재위치\n",
    "x, y = 2, 2\n",
    "\n",
    "for i in range(4):\n",
    "    # 다음위치\n",
    "    nx = x + dx[i]\n",
    "    ny = y + dy[i]\n",
    "    print(nx, ny)"
   ]
  },
  {
   "cell_type": "markdown",
   "id": "6fd4e621",
   "metadata": {},
   "source": [
    "#### 상하좌우 문제\n",
    "- 여행가A 는 N x N 크기의 정사각형 위에 있다.\n",
    "- 1x1크기로 나눠어진 공간의 가장 왼쪽 위 좌표는 (1,1)이다\n",
    "- 가장 오른쪽 아래 좌표는 (N , N)에 해당한다.\n",
    "- A는 상하좌우 방향으로 이동 가능\n",
    "- 시작 좌표는 (1,1)\n",
    "- 이동 계획서는 L,R,U,D중 하나의 문자가 반복적으로 적혀있음\n",
    "1. L 왼쪽으로 한 칸 이동\n",
    "2. R 오른쪽으로 한 칸 이동\n",
    "3. U 위로 한 칸 이동\n",
    "4. D 아래로 한 칸 이동\n",
    "- A가 N x N 크기의 정사각형 공간을 벗어나는 움직임은 무시"
   ]
  },
  {
   "cell_type": "code",
   "execution_count": 6,
   "id": "48991c60",
   "metadata": {},
   "outputs": [
    {
     "name": "stdout",
     "output_type": "stream",
     "text": [
      "5\n",
      "R R R U D D\n",
      "3 4\n"
     ]
    }
   ],
   "source": [
    "## MyCode ##\n",
    "n = int(input())\n",
    "p = map(str,input().split())\n",
    "dx = [0,-1,0,1]\n",
    "dy = [1,0,-1,0]\n",
    "x,y=1,1\n",
    "count = 0\n",
    "for i in p:\n",
    "    if i == 'R' and y != n:\n",
    "        x = x + dx[0]\n",
    "        y = x + dx[0]\n",
    "    elif i == 'U' and x != 1:\n",
    "        x = x + dx[1]\n",
    "        y = x + dx[1]\n",
    "    elif i == 'L' and y != 1:\n",
    "        x = x + dx[2]\n",
    "        y = x + dx[2]\n",
    "    elif i == 'D' and x != n:\n",
    "        x = x + dx[3]\n",
    "        y = x + dx[3]\n",
    "    else:\n",
    "        continue\n",
    "print(x,y)"
   ]
  },
  {
   "cell_type": "markdown",
   "id": "877e2e6b",
   "metadata": {},
   "source": [
    "#### 시각\n",
    "정수 N이 입력되면 00시 00분 00초부터 N시 59분 59초까지의 모든 시각 중에서 3이 하나라도 포함되는 경우의 수를 구하는 프로그램을 작성\n",
    "- 첫째 줄에 정수 N이 입력된다.\n",
    "- 00시 00분 00초부터 N시 59분 59초까지의 모든 시각 중에서 3이 하나라도 포함되는 모든 경우의 수를 출력한다."
   ]
  },
  {
   "cell_type": "code",
   "execution_count": 4,
   "id": "f30c8687",
   "metadata": {},
   "outputs": [
    {
     "name": "stdout",
     "output_type": "stream",
     "text": [
      "5\n",
      "11475\n"
     ]
    }
   ],
   "source": [
    "N = int(input())\n",
    "result = 0\n",
    "\n",
    "for i in range(N+1):\n",
    "    for j in range(60):\n",
    "        for k in range(60):\n",
    "            if '3' in str(i)+str(j)+str(k):\n",
    "                result += 1\n",
    "print(result)"
   ]
  },
  {
   "cell_type": "markdown",
   "id": "622fa009",
   "metadata": {},
   "source": [
    "#### 왕실의 나이트\n",
    "- 체스판 8 x 8 좌표평면\n",
    "- 체스 나이트 처럼 움직임\n",
    "1. 수평 2칸 수직 1칸\n",
    "2. 수직 2칸 수평 1칸\n",
    "- 이동 가능 위치의 경우의 수를 구하기"
   ]
  },
  {
   "cell_type": "code",
   "execution_count": 17,
   "id": "524bfaa6",
   "metadata": {},
   "outputs": [
    {
     "name": "stdout",
     "output_type": "stream",
     "text": [
      "c3\n",
      "8\n"
     ]
    }
   ],
   "source": [
    "id = input()\n",
    "row = int(id[1])\n",
    "column = int(ord(id[0])) - int(ord('a')) + 1\n",
    "\n",
    "steps = [(2,1),(2,-1),(-2,1),(-2,-1),(1,2),(1,-2),(-1,2),(-1,-2)]\n",
    "\n",
    "result = 0\n",
    "for step in steps:\n",
    "    next_row = row + step[0]\n",
    "    next_column = column + step[1]\n",
    "    if next_row >= 1 and next_row <= 8 and next_column >= 1 and next_column <= 8:\n",
    "        result += 1\n",
    "\n",
    "print(result)"
   ]
  },
  {
   "cell_type": "markdown",
   "id": "2002e0d4",
   "metadata": {},
   "source": [
    "#### 문자열 재정렬\n",
    "알파벳 대문자와 숫자(0~9)로만 구성된 문자열이 입력으로 주어집니다. 이때 모든 알파벳을 오름순으로 정렬하여 이어서 출력한 뒤에, 그 뒤에 모든 숫자를 더한 값을 이어서 출력합니다.\n",
    "- 예를 들어 K1KA5CB7이라는 값이 들어오면 ABCKK13을 출력합니다."
   ]
  },
  {
   "cell_type": "code",
   "execution_count": 28,
   "id": "69a268ae",
   "metadata": {},
   "outputs": [
    {
     "name": "stdout",
     "output_type": "stream",
     "text": [
      "werq1dfef12\n",
      "deeffqrw4\n"
     ]
    }
   ],
   "source": [
    "data = input()\n",
    "result = []\n",
    "value = 0\n",
    "\n",
    "for x in data:\n",
    "    if x.isalpha():\n",
    "        result.append(x)\n",
    "    else:\n",
    "        value += int(x)\n",
    "\n",
    "result.sort()\n",
    "if value != 0:\n",
    "    result.append(str(value))\n",
    "\n",
    "print(''.join(result))"
   ]
  },
  {
   "cell_type": "markdown",
   "id": "4d8b3978",
   "metadata": {},
   "source": [
    "#### 게임 개발\n",
    "- 첫째 줄에 맵의 세로 크기 N과 가로 크기 M을 공백으로 구분하여 입력한다.\n",
    "- 둘째 줄에 게임 캐릭터가 있는 칸의 좌표 (A,B)와 바라보는 방향 d가 각각 서로 공백으로 구분하여 주어진다. 방향 d의 값으로는 다음과 같이 4가지가 존재한다.\n",
    "\n",
    "0: 북쪽\n",
    "1: 동쪽\n",
    "2: 남쪽\n",
    "3: 서쪽\n",
    "\n",
    "- 셋쨰 줄부터 맵이 육지인지 바다인지에 대한 정보가 주어진다. N개의 줄에 맵의 상태가 북쪽부터 남쪽 순서대로, 각 줄의 데이터는 서쪽부터 동쪽 순서대로 주어진다. 맵의 외곽으로 항상 바다로 되어있다.\n",
    "\n",
    "0: 육지\n",
    "1: 바다\n",
    "\n",
    "- 처음에 게임 캐릭터가 위치한 칸의 상태는 항상 육지이다.\n",
    "- 첫째 줄에 이동을 마친 후 캐릭터가 방문한 칸의 수를 출력한다."
   ]
  },
  {
   "cell_type": "code",
   "execution_count": 17,
   "id": "cbf6409d",
   "metadata": {},
   "outputs": [
    {
     "name": "stdout",
     "output_type": "stream",
     "text": [
      "4 4\n",
      "1 1 0\n",
      "1 1 1 1\n",
      "1 0 0 1\n",
      "1 1 0 1\n",
      "1 1 1 1\n",
      "3\n"
     ]
    }
   ],
   "source": [
    "N, M = map(int, input().split())\n",
    "\n",
    "d = [[0]*M for a in range(N)]\n",
    "\n",
    "x, y, dir = map(int, input().split())\n",
    "d[x][y] = 1\n",
    "\n",
    "array = []\n",
    "for i in range(N):\n",
    "    array.append(list(map(int, input().split())))\n",
    "\n",
    "dx = [-1,0,1,0]\n",
    "dy = [0,1,0,-1]\n",
    "# 북, 동, 남, 서\n",
    "\n",
    "def tl():\n",
    "    global dir\n",
    "    dir -= 1\n",
    "    if dir == -1:\n",
    "        dir = 3\n",
    "\n",
    "cnt = 1\n",
    "turn_time = 0\n",
    "while True:\n",
    "    tl()\n",
    "    nx = x + dx[dir]\n",
    "    ny = y + dy[dir]\n",
    "    \n",
    "    if d[nx][ny] == 0 and array[nx][ny] == 0:\n",
    "        d[nx][ny] = 1\n",
    "        x = nx\n",
    "        y = ny\n",
    "        cnt += 1\n",
    "        turn_time = 0\n",
    "        continue\n",
    "    else:\n",
    "        turn_time += 1\n",
    "    \n",
    "    if turn_time == 4:\n",
    "        nx = x - dx[dir]\n",
    "        ny = y - dx[dir]\n",
    "        if array[nx][ny] == 0:\n",
    "            x = nx\n",
    "            y = ny\n",
    "        else:\n",
    "            break\n",
    "        turn_time = 0\n",
    "print(cnt)"
   ]
  }
 ],
 "metadata": {
  "kernelspec": {
   "display_name": "Python 3",
   "language": "python",
   "name": "python3"
  },
  "language_info": {
   "codemirror_mode": {
    "name": "ipython",
    "version": 3
   },
   "file_extension": ".py",
   "mimetype": "text/x-python",
   "name": "python",
   "nbconvert_exporter": "python",
   "pygments_lexer": "ipython3",
   "version": "3.8.10"
  }
 },
 "nbformat": 4,
 "nbformat_minor": 5
}
