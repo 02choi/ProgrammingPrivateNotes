{
 "cells": [
  {
   "cell_type": "markdown",
   "id": "4fc36a0c",
   "metadata": {},
   "source": [
    "### 그리디 알고리즘\n",
    "- 현재 상황에서 가장 좋아 보이는 것만을 선택하는 알고리즘"
   ]
  },
  {
   "cell_type": "code",
   "execution_count": 2,
   "id": "143edffd",
   "metadata": {},
   "outputs": [],
   "source": [
    "import time"
   ]
  },
  {
   "cell_type": "code",
   "execution_count": 2,
   "id": "5fc6f90b",
   "metadata": {},
   "outputs": [
    {
     "name": "stdout",
     "output_type": "stream",
     "text": [
      "2160\n",
      "7\n"
     ]
    }
   ],
   "source": [
    "#거스름 돈 1260원을 최소한의 동전으로 거슬러 주는 알고리즘\n",
    "n = int(input())\n",
    "cnt = 0\n",
    "array=[500,100,50,10]\n",
    "\n",
    "for coin in array:\n",
    "    cnt += n // coin\n",
    "    n %= coin\n",
    "print(cnt)"
   ]
  },
  {
   "cell_type": "markdown",
   "id": "6117e4f8",
   "metadata": {},
   "source": [
    "#### 1이 될 때 까지\n",
    " - 어떠한 수 N이 1이 될 때까지 다음의 두 과정 중 하나를 반복적으로 선택하여 수행. 단, 2번 과정은 N이 K로 나누어 떨어질 경우만 선택.\n",
    " 1. N에서 1을 뺍니다.\n",
    " 2. N을 K로 나눕니다."
   ]
  },
  {
   "cell_type": "code",
   "execution_count": 7,
   "id": "38031e15",
   "metadata": {},
   "outputs": [
    {
     "name": "stdout",
     "output_type": "stream",
     "text": [
      "30 4\n",
      "7\n",
      "time : 1.0686898231506348\n"
     ]
    }
   ],
   "source": [
    "# TutorCode\n",
    "start = time.time() # 시간 측정 함수\n",
    "# 1이 될 때까지\n",
    "n, k = map(int, input().split())\n",
    "\n",
    "result = 0\n",
    "\n",
    "while True:\n",
    "    target = (n // k) * k\n",
    "    result += (n - target)\n",
    "    n = target\n",
    "    if n < k:\n",
    "        break\n",
    "    result += 1\n",
    "    n //= k\n",
    "result += (n-1)\n",
    "print(result)\n",
    "\n",
    "end = time.time()\n",
    "print(\"time :\", end - start) # 수행 시간 출력"
   ]
  },
  {
   "cell_type": "code",
   "execution_count": 8,
   "id": "8297dc72",
   "metadata": {},
   "outputs": [
    {
     "name": "stdout",
     "output_type": "stream",
     "text": [
      "30 4\n",
      "7\n",
      "time : 1.52260160446167\n"
     ]
    }
   ],
   "source": [
    "#MyCode\n",
    "start = time.time()\n",
    "n, k = map(int, input().split())\n",
    "result = 0\n",
    "\n",
    "while True:\n",
    "    if n != 1: \n",
    "        if n % k == 0:\n",
    "            result += 1\n",
    "            n //= k\n",
    "        else:\n",
    "            result += 1\n",
    "            n -= 1\n",
    "    else:\n",
    "        break\n",
    "print(result)\n",
    "\n",
    "end = time.time()\n",
    "print(\"time :\", end - start) # 수행 시간 출력"
   ]
  },
  {
   "cell_type": "markdown",
   "id": "bfd7244b",
   "metadata": {},
   "source": [
    "#### 곱하기 혹은 더하기\n",
    "- 숫자(0~9)로 이루어진 문자열 S\n",
    "- 왼쪽부터 오른쪽으로 '*' 혹은 '+' 연산자를 넣어 가장 큰 수를 만드는 프로그램 작성\n",
    "- 단, 모든 연산은 왼쪽에서 오른쪽으로 이루어진다고 가정"
   ]
  },
  {
   "cell_type": "code",
   "execution_count": 5,
   "id": "a7cbcf2f",
   "metadata": {},
   "outputs": [
    {
     "name": "stdout",
     "output_type": "stream",
     "text": [
      "48013\n",
      "99\n",
      "time : 15.40601897239685\n"
     ]
    }
   ],
   "source": [
    "start = time.time()\n",
    "S = input()\n",
    "result = int(S[0])\n",
    "\n",
    "for i in range(1, len(S)):\n",
    "    num = int(S[i])\n",
    "    if num <= 1 or result <= 1:\n",
    "        result += num\n",
    "    else:\n",
    "        result *= num\n",
    "print(result)\n",
    "end = time.time()\n",
    "print(\"time :\", end - start) # 수행 시간 출력"
   ]
  },
  {
   "cell_type": "markdown",
   "id": "5bcd5dec",
   "metadata": {},
   "source": [
    "#### 모험가 길드\n",
    "- N명의 모험가가 각각 '공포도'를 가진채 존재.\n",
    "- 공포도 'X'의 모험가는 반드시 'X'명 이상의 모험가 그룹에 참여\n",
    "- 모험가 그룹 수의 최대값 구하기"
   ]
  },
  {
   "cell_type": "code",
   "execution_count": 10,
   "id": "4604a72f",
   "metadata": {
    "scrolled": true
   },
   "outputs": [
    {
     "name": "stdout",
     "output_type": "stream",
     "text": [
      "8\n",
      "1 2 3 3 2 2 1 1\n",
      "5\n"
     ]
    }
   ],
   "source": [
    "N = int(input())\n",
    "X = list(map(int, input().split()))\n",
    "X.sort()\n",
    "\n",
    "result = 0\n",
    "count = 0\n",
    "\n",
    "for i in X:\n",
    "    count += 1\n",
    "    if count >= i:\n",
    "        result += 1\n",
    "        count = 0\n",
    "print(result)"
   ]
  },
  {
   "cell_type": "markdown",
   "id": "8293d726",
   "metadata": {},
   "source": [
    "#### 큰 수의 법칙\n",
    "- 다양한 수로 이루어진 배열이 있을 때 주언진 수들을 M번 더하여 가장 큰 수를 만드는 법칙\n",
    "- 연속해서 K번을 초과하여 더해질 수 없는 것이 법칙의 특징"
   ]
  },
  {
   "cell_type": "code",
   "execution_count": 11,
   "id": "784890ec",
   "metadata": {},
   "outputs": [
    {
     "name": "stdout",
     "output_type": "stream",
     "text": [
      "4 10 3\n",
      "1 2 3 4\n",
      "38\n"
     ]
    }
   ],
   "source": [
    "#큰 수의 법칙\n",
    "n,m,k = map(int, input().split())\n",
    "data = list(map(int, input().split()))\n",
    "\n",
    "data.sort()\n",
    "first = data[n-1]\n",
    "second = data[n-2]\n",
    "\n",
    "result = 0\n",
    "\n",
    "while True:\n",
    "    for i in range(k):\n",
    "        if m == 0:\n",
    "            break\n",
    "        result += first\n",
    "        m -= 1\n",
    "    if m == 0:\n",
    "        break\n",
    "    result += second\n",
    "    m -= 1\n",
    "\n",
    "print(result)"
   ]
  },
  {
   "cell_type": "markdown",
   "id": "4553eb3a",
   "metadata": {},
   "source": [
    "#### 숫자 카드 게임\n",
    "- 여러 개의 숫자 카드 중 가장 높은 숫자가 쓰인 카드 한 장을 뽑는 게임\n",
    "1. 숫자가 쓰인 카드들이 NxM 형태로 놓여있다. 이때 N은 행의 개수를 의미하며, M은 열의 개수를 의미한다.\n",
    "2. 먼저 뽑고자 하는 카드가 포함되어 있는 행을 선택한다.\n",
    "3. 그다음 선택된 행에 포함된 카드들 중 가장 숫자가 낮은 카드를 뽑아야 한다.\n",
    "4. 따라서 처음에 카드를 골라낼 행을 선택할 때, 이후에 해당 행에서 가장 숫자가 낮은 카드를 뽑을 것을 고려하여 최종적으로 가장 높은 숫자의 카드를 뽑을 수 있도로 전략을 세워야한다."
   ]
  },
  {
   "cell_type": "code",
   "execution_count": 12,
   "id": "4c844116",
   "metadata": {},
   "outputs": [
    {
     "name": "stdout",
     "output_type": "stream",
     "text": [
      "3 3\n",
      "5 6 7\n",
      "5 5 5\n",
      "6 8 10\n",
      "6\n",
      "time : 20.76189947128296\n"
     ]
    }
   ],
   "source": [
    "start = time.time()\n",
    "N, M = map(int, input().split())\n",
    "result = 0\n",
    "\n",
    "for i in range(N):\n",
    "    data = list(map(int, input().split()))\n",
    "    min_value = min(data)\n",
    "    result=max(result, min_value)\n",
    "print(result)\n",
    "\n",
    "end = time.time()\n",
    "print(\"time :\", end - start) # 수행 시간 출력"
   ]
  },
  {
   "cell_type": "code",
   "execution_count": null,
   "id": "2c20a3f8",
   "metadata": {},
   "outputs": [],
   "source": []
  }
 ],
 "metadata": {
  "kernelspec": {
   "display_name": "Python 3",
   "language": "python",
   "name": "python3"
  },
  "language_info": {
   "codemirror_mode": {
    "name": "ipython",
    "version": 3
   },
   "file_extension": ".py",
   "mimetype": "text/x-python",
   "name": "python",
   "nbconvert_exporter": "python",
   "pygments_lexer": "ipython3",
   "version": "3.8.10"
  }
 },
 "nbformat": 4,
 "nbformat_minor": 5
}
