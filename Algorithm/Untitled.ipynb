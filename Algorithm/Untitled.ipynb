{
 "cells": [
  {
   "cell_type": "code",
   "execution_count": 41,
   "id": "5f7f3ec8",
   "metadata": {},
   "outputs": [
    {
     "name": "stdout",
     "output_type": "stream",
     "text": [
      "5\n"
     ]
    }
   ],
   "source": [
    "def dfs(i, t, numbers, target):\n",
    "    global answer\n",
    "    if i == len(numbers):\n",
    "        if t == target:\n",
    "            answer += 1\n",
    "    else:\n",
    "        dfs(i+1, t+numbers[i], numbers, target)\n",
    "        dfs(i+1, t-numbers[i], numbers, target)\n",
    "            \n",
    "def solution(numbers, target):\n",
    "    global answer\n",
    "    answer = 0\n",
    "    dfs(0, 0, numbers, target)\n",
    "    return answer\n",
    "\n",
    "numbers = [1,1,1,1,1]\n",
    "target = 3\n",
    "print(solution(numbers, target))"
   ]
  },
  {
   "cell_type": "code",
   "execution_count": 3,
   "id": "339cff3e",
   "metadata": {},
   "outputs": [
    {
     "data": {
      "text/plain": [
       "[[3, 10], [3, 4], [1, 4]]"
      ]
     },
     "execution_count": 3,
     "metadata": {},
     "output_type": "execute_result"
    }
   ],
   "source": [
    "v = [[1, 4], [3, 4], [3, 10]]\n",
    "v.sort(reverse = True)\n",
    "v"
   ]
  },
  {
   "cell_type": "code",
   "execution_count": 17,
   "id": "9d6fde6e",
   "metadata": {},
   "outputs": [
    {
     "data": {
      "text/plain": [
       "[1, 3]"
      ]
     },
     "execution_count": 17,
     "metadata": {},
     "output_type": "execute_result"
    }
   ],
   "source": [
    "b = [3, 1, 1]\n",
    "g= [0,0]\n",
    "for i in range(len(a)):\n",
    "    for j in range(len(a)-1,i,-1):\n",
    "        if a[i] == a[j]:\n",
    "            a[i], a[j] = 0 , 0\n",
    "for i in range(len(b)):\n",
    "    for j in range(len(b)-1,i,-1):\n",
    "        if b[i] == b[j]:\n",
    "            b[i], b[j] = 0 , 0\n",
    "\n",
    "g[0]=sum(a)\n",
    "g[1]=sum(b)\n",
    "g"
   ]
  },
  {
   "cell_type": "code",
   "execution_count": null,
   "id": "c07732c1",
   "metadata": {},
   "outputs": [],
   "source": [
    "\n",
    "b = [3, 1, 1]\n",
    "g= [0,0]\n",
    "for i in range(len(a)):\n",
    "    for j in range(len(a)-1,i,-1):\n",
    "        if a[i] == a[j]:\n",
    "            a[i], a[j] = 0 , 0\n",
    "\n",
    "g=sum(a)\n",
    "g"
   ]
  }
 ],
 "metadata": {
  "kernelspec": {
   "display_name": "Python 3",
   "language": "python",
   "name": "python3"
  },
  "language_info": {
   "codemirror_mode": {
    "name": "ipython",
    "version": 3
   },
   "file_extension": ".py",
   "mimetype": "text/x-python",
   "name": "python",
   "nbconvert_exporter": "python",
   "pygments_lexer": "ipython3",
   "version": "3.8.10"
  }
 },
 "nbformat": 4,
 "nbformat_minor": 5
}
