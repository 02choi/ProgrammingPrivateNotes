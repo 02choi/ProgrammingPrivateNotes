{
 "cells": [
  {
   "cell_type": "markdown",
   "id": "1c846295",
   "metadata": {},
   "source": [
    "### 소수(Prime Number)\n",
    "- 소수란 1보다 큰 자연수 중에서 1과 자기 자신을 제외한 자연수로는 나누어 떨어지지 않는 자연수입니다.\n",
    "    - 6은 1,2,3,6으로 나누어 떨어지므로 소수가 아닙니다.\n",
    "    - 7은 1과 7을 제외하고는 나누어떨어지지 않으므로 소수입니다.\n",
    "- 코딩 테스트에서는 어떠한 자연수가 소수인지 아닌지 판별해야하는 문제가 자주 출제됩니다."
   ]
  },
  {
   "cell_type": "code",
   "execution_count": 27,
   "id": "c817e737",
   "metadata": {},
   "outputs": [
    {
     "name": "stdout",
     "output_type": "stream",
     "text": [
      "False\n",
      "True\n"
     ]
    }
   ],
   "source": [
    "# 소수 판별 알고리즘\n",
    "def is_prime_number(x):\n",
    "    # 2부터 (x-1)까지의 모든 수를 확인하여\n",
    "    for i in range(2, x):\n",
    "        #x가 해당 수로 나누어 떨어진다면\n",
    "        if x % i == 0:\n",
    "            return False #소수가 아님\n",
    "    return True #소수임\n",
    "\n",
    "print(is_prime_number(4))\n",
    "print(is_prime_number(7))"
   ]
  },
  {
   "cell_type": "code",
   "execution_count": 34,
   "id": "75eecfd6",
   "metadata": {},
   "outputs": [
    {
     "name": "stdout",
     "output_type": "stream",
     "text": [
      "False\n",
      "True\n"
     ]
    }
   ],
   "source": [
    "# 개선된 소수 판별 알고리즘\n",
    "import math\n",
    "def is_prime_number(x):\n",
    "    # 2부터 x의 제곱근(약수의 중간값)까지의 모든 수를 확인하여\n",
    "    for i in range(2, int(math.sqrt(x)+1)):\n",
    "        #x가 해당 수로 나누어 떨어진다면\n",
    "        if x % i == 0:\n",
    "            return False #소수가 아님\n",
    "    return True #소수임\n",
    "\n",
    "print(is_prime_number(4))\n",
    "print(is_prime_number(7))"
   ]
  },
  {
   "cell_type": "markdown",
   "id": "3d05484c",
   "metadata": {},
   "source": [
    "### 에라토스테네스의 체 알고리즘\n",
    "- 다수의 소수 판별\n",
    "- N보다 작거나 같은 모든 소수를 찾을 때 사용할 수 있습니다.\n",
    "- 구체적인 동작 과정\n",
    "    1. 2부터 N까지의 모든 자연수를 나열한다.\n",
    "    2. 남은 수 중에서 아직 처리하지 않은 가장 작은 수 i를 찾는다.\n",
    "    3. 남은 수 중에서 i의 배수를 모두 제거한다.(i는 제거하지 않는다.)\n",
    "    4. 더 이상 반복할 수 없을 때까지 2번과 3번의 과정을 반복한다."
   ]
  },
  {
   "cell_type": "code",
   "execution_count": 39,
   "id": "5700f577",
   "metadata": {},
   "outputs": [
    {
     "name": "stdout",
     "output_type": "stream",
     "text": [
      "2 3 5 7 11 13 17 19 23 29 31 37 41 43 47 53 59 61 67 71 73 79 83 89 97 101 103 107 109 113 127 131 137 139 149 151 157 163 167 173 179 181 191 193 197 199 211 223 227 229 233 239 241 251 257 263 269 271 277 281 283 293 307 311 313 317 331 337 347 349 353 359 367 373 379 383 389 397 401 409 419 421 431 433 439 443 449 457 461 463 467 479 487 491 499 503 509 521 523 541 547 557 563 569 571 577 587 593 599 601 607 613 617 619 631 641 643 647 653 659 661 673 677 683 691 701 709 719 727 733 739 743 751 757 761 769 773 787 797 809 811 821 823 827 829 839 853 857 859 863 877 881 883 887 907 911 919 929 937 941 947 953 967 971 977 983 991 997 "
     ]
    }
   ],
   "source": [
    "import math\n",
    "\n",
    "n = 1000 # 2부터 1000까지 모든 수에 대하여 소수 판별\n",
    "# 처음엔 모든 수가 소수(True)인 것으로 초기화(0과 1은 제외)\n",
    "array = [True for _ in range(n+1)]\n",
    "\n",
    "# 에라토스테네스의 체 알고리즘 수행\n",
    "# 2부터 n의 제곱근까지의 모든 수를 확인하며\n",
    "for i in range(2,int(math.sqrt(n)+1)):\n",
    "    if array[i] == True: # i가 소수인 경우\n",
    "        # i를 제외한 i의 모든 배수를 지우기\n",
    "        j = 2\n",
    "        while i * j <= n:\n",
    "            array[i*j] = False\n",
    "            j += 1\n",
    "            \n",
    "# 모든 소수 출력\n",
    "for i in range(2, n+1):\n",
    "    if array[i]:\n",
    "        print(i, end=' ')"
   ]
  },
  {
   "cell_type": "markdown",
   "id": "b70d3572",
   "metadata": {},
   "source": [
    "### 투 포인터 알고리즘\n",
    "- 투 포인터 알고리즘은 리스트에 순차적으로 접근해야 할 때 두개의 점의 위치를 기록하면서 처리하는 알고리즘\n",
    "- 흔히 2, 3, 4, 5, 6, 7번 학생을 지목해야 할 때 간단히 '2번부터 7번까지의 학생'이라고 부르곤 합니다.\n",
    "- 리스트에 담긴 데이터에 순차적으로 접근해야 할 때는 시작점과 끝점 2개의 점으로 접근할 데이터의 범위를 표현할 수 있습니다.\n",
    "\n",
    "    \n",
    "- 특정한 합을 가지는 부분 연속 수열 찾기: 문제 해결 아이디어\n",
    "    1. 시작점(start)과 끝점(end)이 첫 번째 원소의 인덱스(O)를 가리키도록 한다.\n",
    "    2. 현재 부분 합이 M과 같다면, 카운트한다.\n",
    "    3. 현재 부분 합이 M보다 작다면, end를 1증가시킨다,\n",
    "    4. 현재 부분 합이 M보다 크거나 같다면, start를 1증가시킨다.\n",
    "    5. 모든 경우를 확인 할 때까지 2번부터 4번 과정을 반복한다."
   ]
  },
  {
   "cell_type": "code",
   "execution_count": 63,
   "id": "f7fd74be",
   "metadata": {},
   "outputs": [
    {
     "name": "stdout",
     "output_type": "stream",
     "text": [
      "5\n",
      "5\n",
      "1 2 3 2 5\n",
      "3\n"
     ]
    }
   ],
   "source": [
    "n = int(input()) # 데이터의 개수 n\n",
    "m = int(input()) # 찾고자 하는 부분합 m\n",
    "array = list(map(int, input().split())) # 전체 수열\n",
    "\n",
    "interval_sum = 0\n",
    "e = 0\n",
    "cnt = 0\n",
    "\n",
    "for start in range(n): # start를 차례대로 증가시키며 반복\n",
    "    # end를 가능한 만큼 이동시키기\n",
    "    while interval_sum < m and e < m:\n",
    "        interval_sum += array[e]\n",
    "        e += 1\n",
    "    # 부분 합이 m일 때 카운트 증가\n",
    "    if interval_sum == m:\n",
    "        cnt += 1\n",
    "    interval_sum -= array[start]\n",
    "\n",
    "print(cnt)"
   ]
  },
  {
   "cell_type": "markdown",
   "id": "973d05ae",
   "metadata": {},
   "source": [
    "#### 구간 합(Interval Sum)\n",
    "- 구간 합 문제: 연속적으로 나열된 N개의 수가 있을 때 특정 구간의 모든 수를 합한 값을 계산하는 문제\n",
    "    - n개의 정수로 구성된 수열이 있습니다.\n",
    "    - m개의 쿼리(Query)정보가 주어집니다.\n",
    "        - 각 쿼리는 Left와 Right으로 구성됩니다.\n",
    "        - 각 쿼리에 대하여[Left, Right]구간에 포함된 데이터들의 합을 출력해야 합니다.\n",
    "    - 수행 시간 제한은 O(N+M)입니다.\n",
    "    \n",
    "- 접두사 합(Prefix Sum): 배열의 맨 앞부터 특정 위치까지의 합을 미리 구해 놓는 것\n",
    "- 접두사 합을 활용한 알고리즘은 다음과 같습니다.\n",
    "    - n개의 수 위치 각각에 대하여 접두사 합을 계산하여 p에 저장합니다.\n",
    "    - 매 m개의 쿼리 정보를 확인할 때 구간 합은 p[right] - p[left-1]입니다."
   ]
  },
  {
   "cell_type": "code",
   "execution_count": 66,
   "id": "38e9d2a6",
   "metadata": {},
   "outputs": [
    {
     "name": "stdout",
     "output_type": "stream",
     "text": [
      "5\n",
      "2\n",
      "10 20 30 40 50\n",
      "1\n",
      "3\n",
      "60\n",
      "20 30 40 50 60\n",
      "3\n",
      "5\n",
      "150\n"
     ]
    }
   ],
   "source": [
    "# My code\n",
    "n = int(input())\n",
    "m = int(input())\n",
    "\n",
    "prefix_sum = [0]*(n+1)\n",
    "\n",
    "for i in range(m):\n",
    "    array = list(map(int, input().split()))\n",
    "    left = int(input())\n",
    "    right = int(input())\n",
    "    for j in range(1, n+1):\n",
    "        prefix_sum[j] = sum(array[:j])\n",
    "    print(prefix_sum[right]-prefix_sum[left-1])"
   ]
  },
  {
   "cell_type": "code",
   "execution_count": 69,
   "id": "44e859c9",
   "metadata": {},
   "outputs": [
    {
     "name": "stdout",
     "output_type": "stream",
     "text": [
      "5\n",
      "10 20 30 40 50\n",
      "1\n",
      "3\n",
      "60\n"
     ]
    }
   ],
   "source": [
    "# Tutor code\n",
    "# 데이터의개수 N과 데이터 입력받기\n",
    "n = int(input())\n",
    "data = list(map(int, input().split()))\n",
    "\n",
    "# 접두사 합(prefix sum)배열 계산\n",
    "sum_value = 0\n",
    "prefix_sum = [0]\n",
    "for i in data:\n",
    "    sum_value += i\n",
    "    prefix_sum.append(sum_value)\n",
    "\n",
    "# 구간 합 계산\n",
    "left = int(input())\n",
    "right = int(input())\n",
    "print(prefix_sum[right]-prefix_sum[left-1])"
   ]
  }
 ],
 "metadata": {
  "kernelspec": {
   "display_name": "Python 3",
   "language": "python",
   "name": "python3"
  },
  "language_info": {
   "codemirror_mode": {
    "name": "ipython",
    "version": 3
   },
   "file_extension": ".py",
   "mimetype": "text/x-python",
   "name": "python",
   "nbconvert_exporter": "python",
   "pygments_lexer": "ipython3",
   "version": "3.8.10"
  }
 },
 "nbformat": 4,
 "nbformat_minor": 5
}
