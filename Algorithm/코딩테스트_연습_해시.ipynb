{
 "cells": [
  {
   "cell_type": "code",
   "execution_count": 20,
   "id": "d90d0c3e",
   "metadata": {},
   "outputs": [
    {
     "name": "stdout",
     "output_type": "stream",
     "text": [
      "b\n"
     ]
    }
   ],
   "source": [
    "p = ['a', 'b', 'c']\n",
    "c = ['a','c']\n",
    "\n",
    "def solution(participant, completion):\n",
    "    hash ={}\n",
    "    for i in participant:\n",
    "        if i in hash:\n",
    "            hash[i] += 1\n",
    "        else:\n",
    "            hash[i] = 1\n",
    "    for i in completion:\n",
    "        if hash[i] == 1:\n",
    "            del hash[i]\n",
    "        else:\n",
    "            hash[i] -= 1\n",
    "    answer = list(hash.keys())[0]\n",
    "    return answer\n",
    "\n",
    "    \n",
    "print(solution(p, c))"
   ]
  },
  {
   "cell_type": "code",
   "execution_count": 39,
   "id": "52b83d00",
   "metadata": {},
   "outputs": [
    {
     "name": "stdout",
     "output_type": "stream",
     "text": [
      "{'119': 1, '97674223': 1, '1195524421': 1}\n",
      "1\n",
      "11\n",
      "119\n",
      "9\n",
      "97\n",
      "976\n",
      "9767\n",
      "97674\n",
      "976742\n",
      "9767422\n",
      "97674223\n",
      "1\n",
      "11\n",
      "119\n",
      "False\n"
     ]
    }
   ],
   "source": [
    "phone_book = [\"119\", \"97674223\", \"1195524421\"]\n",
    "\n",
    "def solution(phone_book):\n",
    "    answer = True\n",
    "    lst = {}\n",
    "    for i in phone_book:\n",
    "        lst[i] = 1\n",
    "    print(lst)\n",
    "    for i in phone_book:\n",
    "        num = ''\n",
    "        for j in i:\n",
    "            num += j\n",
    "            print(num)\n",
    "            if num in lst and num != i:\n",
    "                return False\n",
    "    return answer\n",
    "\n",
    "print(solution(phone_book))"
   ]
  },
  {
   "cell_type": "code",
   "execution_count": 44,
   "id": "d3b83198",
   "metadata": {},
   "outputs": [
    {
     "name": "stdout",
     "output_type": "stream",
     "text": [
      "5\n"
     ]
    }
   ],
   "source": [
    "clothes = [[\"yellow_hat\", \"headgear\"], [\"blue_sunglasses\", \"eyewear\"], [\"green_turban\", \"headgear\"]]\n",
    "from collections import Counter\n",
    "cnt = Counter([kind for name, kind in clothes])\n",
    "cnt_lst = list(cnt.values())\n",
    "for i in range(len(cnt_lst)):\n",
    "    cnt_lst[i] += 1\n",
    "answer = 1\n",
    "for i in cnt_lst:\n",
    "    answer = answer * i\n",
    "print(answer-1)"
   ]
  }
 ],
 "metadata": {
  "kernelspec": {
   "display_name": "Python 3",
   "language": "python",
   "name": "python3"
  },
  "language_info": {
   "codemirror_mode": {
    "name": "ipython",
    "version": 3
   },
   "file_extension": ".py",
   "mimetype": "text/x-python",
   "name": "python",
   "nbconvert_exporter": "python",
   "pygments_lexer": "ipython3",
   "version": "3.8.10"
  }
 },
 "nbformat": 4,
 "nbformat_minor": 5
}
