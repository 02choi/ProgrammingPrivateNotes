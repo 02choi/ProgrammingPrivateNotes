{
 "cells": [
  {
   "cell_type": "markdown",
   "id": "17afd553",
   "metadata": {},
   "source": [
    "### 다이나믹 프로그래밍(동적 계획법)\n",
    "- 메모리를 적절히 사용하여 수행 시간 효율성을 비약적으로 향상시키는 방법\n",
    "- 이미 계산된 결과(작은 문제)는 별도의 메모리 영역에 저장하여 다시 계산하지 않도록 합니다.\n",
    "- 다이나믹 프로그래밍의 구현은 일반적으로 두 가지 방식(탑다운과 바텀업)으로 구성됩니다.\n",
    "\n",
    "탑다운)\n",
    " - 메모이제이션(Memoization)/캐싱(Caching): 한 번 계산한 결과를 메모리 공간에 메모하고 호출하면 결과를 가져오는 기법\n",
    " \n",
    "바텀업)\n",
    " - 결과 저장용 리스트는 DP테이블이라고 부른다.\n",
    "\n",
    "#### 사용조건\n",
    "1. 최적 부분 구조(Optimal Substructure)\n",
    " - 큰 문제를 작은 문제로 나눌 수 있으며 작은 문제의 답을 모아서 큰 문제를 해결할 수 있습니다.\n",
    "2. 중복되는 부분 문제(Overlapping Subproblem)\n",
    " - 동일한 작은 문제를 반복적으로 해결해야 합니다."
   ]
  },
  {
   "cell_type": "markdown",
   "id": "daee9826",
   "metadata": {},
   "source": [
    "#### 피보나치수열"
   ]
  },
  {
   "cell_type": "code",
   "execution_count": 13,
   "id": "b27c4d77",
   "metadata": {},
   "outputs": [
    {
     "name": "stdout",
     "output_type": "stream",
     "text": [
      "3\n"
     ]
    }
   ],
   "source": [
    "## 재귀 소스 코드\n",
    "def fibo(x):\n",
    "    if x == 1 or x == 2:\n",
    "        return 1\n",
    "    return fibo(x - 1) + fibo(x - 2)\n",
    "\n",
    "print(fibo(4))"
   ]
  },
  {
   "cell_type": "code",
   "execution_count": 14,
   "id": "382cce29",
   "metadata": {},
   "outputs": [
    {
     "name": "stdout",
     "output_type": "stream",
     "text": [
      "218922995834555169026\n"
     ]
    }
   ],
   "source": [
    "## 탑다운 다이나믹 프로그래밍 소스코드 - 재귀 사용\n",
    "# 한 번 계산된 결과를 메모하기 위한 리스트 초기화\n",
    "d = [0]*100\n",
    "\n",
    "def fibo(x):\n",
    "    if x == 1 or x == 2:\n",
    "        return 1\n",
    "    if d[x] != 0:\n",
    "        return d[x]\n",
    "    d[x] = fibo(x-1) + fibo(x-2)\n",
    "    return d[x]\n",
    "\n",
    "print(fibo(99))"
   ]
  },
  {
   "cell_type": "code",
   "execution_count": 17,
   "id": "afb1e396",
   "metadata": {},
   "outputs": [
    {
     "name": "stdout",
     "output_type": "stream",
     "text": [
      "218922995834555169026\n"
     ]
    }
   ],
   "source": [
    "## 바텀업 다이나믹 프로그래밍 소스코드 - 반복문 사용\n",
    "# 계산된 결과를 저장하기 위한 DP테이블 초기화\n",
    "d = [0]*100\n",
    "\n",
    "d[1] = 1\n",
    "d[2] = 1\n",
    "n = 99\n",
    "\n",
    "for i in range(3, n+1):\n",
    "    d[i] = d[i-1] + d[i-2]\n",
    "\n",
    "print(d[n])"
   ]
  },
  {
   "cell_type": "markdown",
   "id": "c986c3b9",
   "metadata": {},
   "source": [
    "#### 개미 전사\n",
    "- 식량 창고 공격, 식량 창고는 일직선으로 이어져 있음\n",
    "- 각 식량창고는 정해진 수의 식량을 보관, 개미 전사는 선택적으로 약탈\n",
    "- 인접한 창고를 약탈하면 정찰병에게 들킴, 최소한 한 칸 이상 떨어진 식량창고를 약탈해야한다.\n",
    "\n",
    "1. 첫째 줄에 식량창고의 개수 N이 주어집니다.(3<=n<=100)\n",
    "2. 둘째 줄에 공백을 기준으로 각 식량창고에 저장된 식량의 개수 K가 주어집니다.\n",
    "- 식량의 최댓값 출력"
   ]
  },
  {
   "cell_type": "code",
   "execution_count": 8,
   "id": "b1d30e3c",
   "metadata": {},
   "outputs": [
    {
     "name": "stdout",
     "output_type": "stream",
     "text": [
      "4\n",
      "1 3 1 5\n",
      "8\n"
     ]
    }
   ],
   "source": [
    "n = int(input())\n",
    "k = list(map(int, input().split()))\n",
    "\n",
    "d = [0] * 100\n",
    "d[0] = k[0]\n",
    "d[1] = max(k[1], k[0])\n",
    "for i in range(2, n):\n",
    "    d[i] = max(k[i] + d[i-2], d[i-1])\n",
    "\n",
    "print(d[n-1])"
   ]
  },
  {
   "cell_type": "markdown",
   "id": "cdb81448",
   "metadata": {},
   "source": [
    "#### 1로 만들기\n",
    "- 정수 x가 주어졌을 때, 정수 x에 사용할 수 있는 연산은 다음과 같이 4가지입니다.\n",
    "1. x가 5로 나누어 떨어지면, 5로 나눕니다.\n",
    "2. x가 3으로 나누어 떨어지면, 3으로 나눕니다.\n",
    "3. x가 2로 나누어 떨어지면, 2로 나눕니다.\n",
    "4. x에서 1을 뺍니다.\n",
    "\n",
    "- 정수 x가 주어졌을 때, 연산 4개를 적절히 사용해서 값을 1로 만들고자 합니다. 연산을 사용하는 횟수의 최솟값을 출력하세요\n",
    "\n",
    "1. 첫째 줄에 정수 x가 주어진다. (1<=x<=30000)"
   ]
  },
  {
   "cell_type": "code",
   "execution_count": 3,
   "id": "622b2c2f",
   "metadata": {},
   "outputs": [
    {
     "name": "stdout",
     "output_type": "stream",
     "text": [
      "1\n",
      "0\n"
     ]
    }
   ],
   "source": [
    "x = int(input())\n",
    "\n",
    "d = [0] * 30001\n",
    "\n",
    "for i in range(2, x+1):\n",
    "    d[i] = d[i-1] + 1\n",
    "    if i % 2 == 0:\n",
    "        d[i] = min(d[i],d[i//2]+1)\n",
    "    if i % 3 == 0:\n",
    "        d[i] = min(d[i],d[i//3]+1)\n",
    "    if i % 5 == 0:\n",
    "        d[i] = min(d[i],d[i//5]+1)\n",
    "print(d[x])    "
   ]
  },
  {
   "cell_type": "markdown",
   "id": "56c9b2ad",
   "metadata": {},
   "source": [
    "#### 효율적인 화폐 구성\n",
    "- N가지 종류의 화폐가 존재, 회폐를 최소한으로 사용하여 가치의 합이 M이 되는 것이 목표\n",
    "1.첫째 줄에 N,M이 주어진다(1<=N<=100, 1<=M<=10000)\n",
    "2.이후 N개의 줄에는 각 화폐의 가치가 주어진다"
   ]
  },
  {
   "cell_type": "code",
   "execution_count": 11,
   "id": "c5d04477",
   "metadata": {},
   "outputs": [
    {
     "name": "stdout",
     "output_type": "stream",
     "text": [
      "3 7\n",
      "2\n",
      "3\n",
      "5\n",
      "2\n"
     ]
    }
   ],
   "source": [
    "n,m = map(int, input().split())\n",
    "array = []\n",
    "for i in range(n):\n",
    "    array.append(int(input()))\n",
    "\n",
    "d = [10001] * (m+1)\n",
    "\n",
    "d[0] = 0\n",
    "for i in range(n):\n",
    "    for j in range(array[i], m+1):\n",
    "        if d[j - array[i]] != 10001:\n",
    "            d[j] = min(d[j], d[j - array[i]] + 1)\n",
    "\n",
    "if d[m] == 10001:\n",
    "    print('-1')\n",
    "else:\n",
    "    print(d[m])"
   ]
  },
  {
   "cell_type": "markdown",
   "id": "dfe64fce",
   "metadata": {},
   "source": [
    "#### 금광\n",
    "- NxM 크기의 금광\n",
    "- 첫 열부터 출발, 행은 상관없음\n",
    "- m-1번 동안 오른쪽,오른쪽위,오른쪽아래 3가지 중 하나의 위치로 이동\n",
    "- 채굴자가 얻을 수 있는 최대 금의 크기를 출력\n",
    "1. 첫째 줄에 테스트 케이스 T가 입력됩니다.(1 <= t <= 1000)\n",
    "2. 매 테스트 케이스 첫째 줄에 n과 m이 공백으로 구분되어 입력됩니다.(1 <= n,m <= 20) 둘째 줄에 NxM개의 위치에 매장된 금의 개수가 공백으로 구분되어 입력됩니다.(1 <= 각 위치에 매장된 금의 개수 <= 100)\n"
   ]
  },
  {
   "cell_type": "code",
   "execution_count": 16,
   "id": "710a6f32",
   "metadata": {},
   "outputs": [
    {
     "name": "stdout",
     "output_type": "stream",
     "text": [
      "1\n",
      "4 4\n",
      "1 3 1 5 2 2 4 1 5 0 2 3 0 6 1 2\n",
      "[[1, 3, 1, 5], [2, 2, 4, 1], [5, 0, 2, 3], [0, 6, 1, 2]]\n",
      "16\n"
     ]
    }
   ],
   "source": [
    "# 테스트 케이스(Test Case)입력\n",
    "for tc in range(int(input())):\n",
    "    # 금광 정보 입력\n",
    "    n, m = map(int, input().split())\n",
    "    array = list(map(int, input().split()))\n",
    "    # 다이나믹 프로그래밍을 위한 2차원 DP 테이블 초기화\n",
    "    dp = []\n",
    "    index = 0\n",
    "    for i in range(n):\n",
    "        dp.append(array[index:index + m])\n",
    "        index += m\n",
    "    print(dp)\n",
    "    #다이나믹 프로그래밍 진행\n",
    "    for j in range(1,m):\n",
    "        for i in range(n):\n",
    "        # 왼쪽 위에서 오는 경우\n",
    "            if i == 0:             \n",
    "                left_up = 0\n",
    "            else:\n",
    "                left_up = dp[i-1][j-1]\n",
    "        # 왼쪽 아래에서 오는 경우\n",
    "            if i == n - 1:\n",
    "                left_down = 0\n",
    "            else:\n",
    "                left_down = dp[i+1][j-1]\n",
    "        # 왼쪽에서 오는 경우\n",
    "            left = dp[i][j-1]\n",
    "            \n",
    "            dp[i][j] = dp[i][j] + max(left_up, left_down, left)\n",
    "    result = 0\n",
    "    for i in range(n):\n",
    "        result = max(result, dp[i][m-1])\n",
    "    print(result)"
   ]
  },
  {
   "cell_type": "markdown",
   "id": "51fc22a2",
   "metadata": {},
   "source": [
    "#### 병사 배치하기\n",
    "- N명의 병사가 무작위로 나열, 특정한 값의 전투력을 보유\n",
    "- 병사를 배치할 때 전투력이 높은 병사가 앞쪽으로 오도록 내림차순 배치\n",
    "- 배치과정에서 특정 위치의 병사를 열외시키는 방법을 이용, 남아있는 병사의 수는 최대\n",
    "- 열외시켜야 하는 병사 수를 출력\n",
    "1. 첫째 줄에 N이 주어집니다. (1<=n<=2000)\n",
    "2. 둘째 줄에 각 병사의 전투력이 공백으로 구분되어 차례대로 주어집니다.(전투력<=10,000,000)"
   ]
  },
  {
   "cell_type": "code",
   "execution_count": 32,
   "id": "76fbddae",
   "metadata": {},
   "outputs": [
    {
     "name": "stdout",
     "output_type": "stream",
     "text": [
      "7\n",
      "4 2 5 8 4 11 15\n",
      "5\n"
     ]
    }
   ],
   "source": [
    "# 가장 긴 증가하는 부분 수열(LIS)\n",
    "n = int(input())\n",
    "m = list(map(int, input().split()))\n",
    "\n",
    "d = [1] * 10000000\n",
    "\n",
    "for i in range(1,n):\n",
    "    for j in range(i):\n",
    "        if m[i] > m[j]:\n",
    "            d[i] = max(d[i],d[j]+1)\n",
    "\n",
    "result = max(d)\n",
    "print(result)"
   ]
  },
  {
   "cell_type": "code",
   "execution_count": 33,
   "id": "c1aa00e4",
   "metadata": {},
   "outputs": [
    {
     "name": "stdout",
     "output_type": "stream",
     "text": [
      "7\n",
      "15 11 4 8 5 2 4\n",
      "2\n"
     ]
    }
   ],
   "source": [
    "n = int(input())\n",
    "m = list(map(int, input().split()))\n",
    "m.reverse()\n",
    "\n",
    "d = [1] * 10000000\n",
    "\n",
    "for i in range(1, n):\n",
    "    for j in range(i):\n",
    "        if m[i] > m[j]:\n",
    "            d[i] = max(d[i],d[j]+1)\n",
    "\n",
    "result = n - max(d)\n",
    "print(result)"
   ]
  },
  {
   "cell_type": "markdown",
   "id": "c46e9d89",
   "metadata": {},
   "source": [
    "#### 바닥 공사\n",
    "- 2 x N 직사각형 바닥\n",
    "- 1x2, 2x1, 2x2 덮개로 로 바닥을 채움\n",
    "- 모든 경우의 수 구하기\n",
    "1. 첫째 줄에 N이 주어진다.\n",
    "- 첫째 줄에 2xN크기의 바닥을 채우는방법의 수를796,796으로 나눈 나머지를 출력"
   ]
  },
  {
   "cell_type": "code",
   "execution_count": 35,
   "id": "cb129cf2",
   "metadata": {},
   "outputs": [
    {
     "name": "stdout",
     "output_type": "stream",
     "text": [
      "3\n",
      "5\n"
     ]
    }
   ],
   "source": [
    "#점화식: a[i] = a[i-1] + a[i-2]*2\n",
    "m = 2\n",
    "n = int(input())\n",
    "\n",
    "d = [0] * 1001\n",
    "\n",
    "d[1] = 1\n",
    "d[2] = 3\n",
    "for i in range(3, n+1):\n",
    "    d[i] = (d[i-1] + d[i-2]*2) % 796796\n",
    "print(d[n])"
   ]
  },
  {
   "cell_type": "code",
   "execution_count": null,
   "id": "e4076114",
   "metadata": {},
   "outputs": [],
   "source": []
  }
 ],
 "metadata": {
  "kernelspec": {
   "display_name": "Python 3",
   "language": "python",
   "name": "python3"
  },
  "language_info": {
   "codemirror_mode": {
    "name": "ipython",
    "version": 3
   },
   "file_extension": ".py",
   "mimetype": "text/x-python",
   "name": "python",
   "nbconvert_exporter": "python",
   "pygments_lexer": "ipython3",
   "version": "3.8.10"
  }
 },
 "nbformat": 4,
 "nbformat_minor": 5
}
