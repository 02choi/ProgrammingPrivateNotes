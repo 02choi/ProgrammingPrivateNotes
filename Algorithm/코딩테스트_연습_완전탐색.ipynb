{
 "cells": [
  {
   "cell_type": "code",
   "execution_count": 14,
   "id": "52fcc15a",
   "metadata": {},
   "outputs": [
    {
     "name": "stdout",
     "output_type": "stream",
     "text": [
      "[1]\n"
     ]
    }
   ],
   "source": [
    "answers =[1,2,3,4,5]\n",
    "answer = []\n",
    "p=[[1, 2, 3, 4, 5],[2, 1, 2, 3, 2, 4, 2, 5],[3, 3, 1, 1, 2, 2, 4, 4, 5, 5]]\n",
    "re = [0,0,0]\n",
    "for i in range(len(p)):\n",
    "    for j in range(len(answers)):\n",
    "        n = len(p[i])\n",
    "        if p[i][j%n] == answers[j]:\n",
    "            re[i] += 1\n",
    "for idx, num in enumerate(re):\n",
    "    if num == max(re):\n",
    "        answer.append(idx+1)\n",
    "print(answer)"
   ]
  },
  {
   "cell_type": "code",
   "execution_count": 42,
   "id": "f7b65d94",
   "metadata": {},
   "outputs": [
    {
     "name": "stdout",
     "output_type": "stream",
     "text": [
      "2\n"
     ]
    }
   ],
   "source": [
    "numbers = \"011\"\n",
    "\n",
    "def is_prime_number(x):\n",
    "    if x < 2:\n",
    "        return False\n",
    "    for i in range(2, int(x**0.5+1)):\n",
    "        if x != i and x % i == 0:\n",
    "            return False\n",
    "    return True\n",
    "\n",
    "\n",
    "def solution(numbers):\n",
    "    answer = 0\n",
    "    cases = set()\n",
    "    for i in range(len(numbers)):\n",
    "        cases |= set(map(int,map(''.join,permutations(numbers, i+1)))) \n",
    "    for case in cases:\n",
    "        if is_prime_number(case):\n",
    "            answer += 1\n",
    "    return answer\n",
    "\n",
    "print(solution(numbers))"
   ]
  },
  {
   "cell_type": "code",
   "execution_count": 59,
   "id": "a99e3423",
   "metadata": {},
   "outputs": [
    {
     "name": "stdout",
     "output_type": "stream",
     "text": [
      "{1, 3, 37, 7, 71, 73, 137, 713, 13, 173, 17, 371, 731, 317, 31}\n"
     ]
    }
   ],
   "source": [
    "numbers = \"173\"\n",
    "lst = set()\n",
    "from itertools import permutations\n",
    "for i in range(len(numbers)):\n",
    "    lst |= set(map(int,map(''.join, permutations(list(numbers),i+1))))\n",
    "print(lst)"
   ]
  },
  {
   "cell_type": "code",
   "execution_count": 62,
   "id": "11e3f7b8",
   "metadata": {},
   "outputs": [
    {
     "name": "stdout",
     "output_type": "stream",
     "text": [
      "12\n",
      "6\n",
      "4\n",
      "[4, 3]\n"
     ]
    }
   ],
   "source": [
    "def solution(brown, yellow):\n",
    "    carpet = brown + yellow\n",
    "    \n",
    "    for width in range(1, carpet):\n",
    "        if carpet % width != 0: \n",
    "            continue\n",
    "        height = carpet // width\n",
    "        print(height)\n",
    "        if (width - 2) * (height - 2) == yellow:\n",
    "            return sorted([width, height], reverse=True)\n",
    "        \n",
    "brown = 10\n",
    "yellow = 2\n",
    "print(solution(brown,yellow))"
   ]
  },
  {
   "cell_type": "code",
   "execution_count": null,
   "id": "7f66f81c",
   "metadata": {},
   "outputs": [],
   "source": []
  }
 ],
 "metadata": {
  "kernelspec": {
   "display_name": "Python 3",
   "language": "python",
   "name": "python3"
  },
  "language_info": {
   "codemirror_mode": {
    "name": "ipython",
    "version": 3
   },
   "file_extension": ".py",
   "mimetype": "text/x-python",
   "name": "python",
   "nbconvert_exporter": "python",
   "pygments_lexer": "ipython3",
   "version": "3.8.10"
  }
 },
 "nbformat": 4,
 "nbformat_minor": 5
}
